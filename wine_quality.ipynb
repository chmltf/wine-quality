{
 "cells": [
  {
   "cell_type": "code",
   "execution_count": 1,
   "metadata": {},
   "outputs": [],
   "source": [
    "import pandas as pd\n",
    "import seaborn as sb\n",
    "import numpy as np\n",
    "import matplotlib.pyplot as plt"
   ]
  },
  {
   "cell_type": "code",
   "execution_count": 2,
   "metadata": {},
   "outputs": [
    {
     "data": {
      "text/html": [
       "<div>\n",
       "<style scoped>\n",
       "    .dataframe tbody tr th:only-of-type {\n",
       "        vertical-align: middle;\n",
       "    }\n",
       "\n",
       "    .dataframe tbody tr th {\n",
       "        vertical-align: top;\n",
       "    }\n",
       "\n",
       "    .dataframe thead th {\n",
       "        text-align: right;\n",
       "    }\n",
       "</style>\n",
       "<table border=\"1\" class=\"dataframe\">\n",
       "  <thead>\n",
       "    <tr style=\"text-align: right;\">\n",
       "      <th></th>\n",
       "      <th>type</th>\n",
       "      <th>fixed acidity</th>\n",
       "      <th>volatile acidity</th>\n",
       "      <th>citric acid</th>\n",
       "      <th>residual sugar</th>\n",
       "      <th>chlorides</th>\n",
       "      <th>free sulfur dioxide</th>\n",
       "      <th>total sulfur dioxide</th>\n",
       "      <th>density</th>\n",
       "      <th>pH</th>\n",
       "      <th>sulphates</th>\n",
       "      <th>alcohol</th>\n",
       "      <th>quality</th>\n",
       "    </tr>\n",
       "  </thead>\n",
       "  <tbody>\n",
       "    <tr>\n",
       "      <th>0</th>\n",
       "      <td>white</td>\n",
       "      <td>7.0</td>\n",
       "      <td>0.27</td>\n",
       "      <td>0.36</td>\n",
       "      <td>20.7</td>\n",
       "      <td>0.045</td>\n",
       "      <td>45.0</td>\n",
       "      <td>170.0</td>\n",
       "      <td>1.0010</td>\n",
       "      <td>3.00</td>\n",
       "      <td>0.45</td>\n",
       "      <td>8.8</td>\n",
       "      <td>6</td>\n",
       "    </tr>\n",
       "    <tr>\n",
       "      <th>1</th>\n",
       "      <td>white</td>\n",
       "      <td>6.3</td>\n",
       "      <td>0.30</td>\n",
       "      <td>0.34</td>\n",
       "      <td>1.6</td>\n",
       "      <td>0.049</td>\n",
       "      <td>14.0</td>\n",
       "      <td>132.0</td>\n",
       "      <td>0.9940</td>\n",
       "      <td>3.30</td>\n",
       "      <td>0.49</td>\n",
       "      <td>9.5</td>\n",
       "      <td>6</td>\n",
       "    </tr>\n",
       "    <tr>\n",
       "      <th>2</th>\n",
       "      <td>white</td>\n",
       "      <td>8.1</td>\n",
       "      <td>0.28</td>\n",
       "      <td>0.40</td>\n",
       "      <td>6.9</td>\n",
       "      <td>0.050</td>\n",
       "      <td>30.0</td>\n",
       "      <td>97.0</td>\n",
       "      <td>0.9951</td>\n",
       "      <td>3.26</td>\n",
       "      <td>0.44</td>\n",
       "      <td>10.1</td>\n",
       "      <td>6</td>\n",
       "    </tr>\n",
       "    <tr>\n",
       "      <th>3</th>\n",
       "      <td>white</td>\n",
       "      <td>7.2</td>\n",
       "      <td>0.23</td>\n",
       "      <td>0.32</td>\n",
       "      <td>8.5</td>\n",
       "      <td>0.058</td>\n",
       "      <td>47.0</td>\n",
       "      <td>186.0</td>\n",
       "      <td>0.9956</td>\n",
       "      <td>3.19</td>\n",
       "      <td>0.40</td>\n",
       "      <td>9.9</td>\n",
       "      <td>6</td>\n",
       "    </tr>\n",
       "    <tr>\n",
       "      <th>4</th>\n",
       "      <td>white</td>\n",
       "      <td>7.2</td>\n",
       "      <td>0.23</td>\n",
       "      <td>0.32</td>\n",
       "      <td>8.5</td>\n",
       "      <td>0.058</td>\n",
       "      <td>47.0</td>\n",
       "      <td>186.0</td>\n",
       "      <td>0.9956</td>\n",
       "      <td>3.19</td>\n",
       "      <td>0.40</td>\n",
       "      <td>9.9</td>\n",
       "      <td>6</td>\n",
       "    </tr>\n",
       "  </tbody>\n",
       "</table>\n",
       "</div>"
      ],
      "text/plain": [
       "    type  fixed acidity  volatile acidity  citric acid  residual sugar  \\\n",
       "0  white            7.0              0.27         0.36            20.7   \n",
       "1  white            6.3              0.30         0.34             1.6   \n",
       "2  white            8.1              0.28         0.40             6.9   \n",
       "3  white            7.2              0.23         0.32             8.5   \n",
       "4  white            7.2              0.23         0.32             8.5   \n",
       "\n",
       "   chlorides  free sulfur dioxide  total sulfur dioxide  density    pH  \\\n",
       "0      0.045                 45.0                 170.0   1.0010  3.00   \n",
       "1      0.049                 14.0                 132.0   0.9940  3.30   \n",
       "2      0.050                 30.0                  97.0   0.9951  3.26   \n",
       "3      0.058                 47.0                 186.0   0.9956  3.19   \n",
       "4      0.058                 47.0                 186.0   0.9956  3.19   \n",
       "\n",
       "   sulphates  alcohol  quality  \n",
       "0       0.45      8.8        6  \n",
       "1       0.49      9.5        6  \n",
       "2       0.44     10.1        6  \n",
       "3       0.40      9.9        6  \n",
       "4       0.40      9.9        6  "
      ]
     },
     "execution_count": 2,
     "metadata": {},
     "output_type": "execute_result"
    }
   ],
   "source": [
    "data = pd.read_csv('winequalityN.csv')\n",
    "data.head()"
   ]
  },
  {
   "cell_type": "code",
   "execution_count": 3,
   "metadata": {},
   "outputs": [
    {
     "data": {
      "text/html": [
       "<div>\n",
       "<style scoped>\n",
       "    .dataframe tbody tr th:only-of-type {\n",
       "        vertical-align: middle;\n",
       "    }\n",
       "\n",
       "    .dataframe tbody tr th {\n",
       "        vertical-align: top;\n",
       "    }\n",
       "\n",
       "    .dataframe thead th {\n",
       "        text-align: right;\n",
       "    }\n",
       "</style>\n",
       "<table border=\"1\" class=\"dataframe\">\n",
       "  <thead>\n",
       "    <tr style=\"text-align: right;\">\n",
       "      <th></th>\n",
       "      <th>type</th>\n",
       "      <th>fixed acidity</th>\n",
       "      <th>volatile acidity</th>\n",
       "      <th>citric acid</th>\n",
       "      <th>residual sugar</th>\n",
       "      <th>chlorides</th>\n",
       "      <th>free sulfur dioxide</th>\n",
       "      <th>total sulfur dioxide</th>\n",
       "      <th>density</th>\n",
       "      <th>pH</th>\n",
       "      <th>sulphates</th>\n",
       "      <th>alcohol</th>\n",
       "      <th>quality</th>\n",
       "      <th>color</th>\n",
       "    </tr>\n",
       "  </thead>\n",
       "  <tbody>\n",
       "    <tr>\n",
       "      <th>0</th>\n",
       "      <td>white</td>\n",
       "      <td>7.0</td>\n",
       "      <td>0.27</td>\n",
       "      <td>0.36</td>\n",
       "      <td>20.7</td>\n",
       "      <td>0.045</td>\n",
       "      <td>45.0</td>\n",
       "      <td>170.0</td>\n",
       "      <td>1.0010</td>\n",
       "      <td>3.00</td>\n",
       "      <td>0.45</td>\n",
       "      <td>8.8</td>\n",
       "      <td>6</td>\n",
       "      <td>0</td>\n",
       "    </tr>\n",
       "    <tr>\n",
       "      <th>1</th>\n",
       "      <td>white</td>\n",
       "      <td>6.3</td>\n",
       "      <td>0.30</td>\n",
       "      <td>0.34</td>\n",
       "      <td>1.6</td>\n",
       "      <td>0.049</td>\n",
       "      <td>14.0</td>\n",
       "      <td>132.0</td>\n",
       "      <td>0.9940</td>\n",
       "      <td>3.30</td>\n",
       "      <td>0.49</td>\n",
       "      <td>9.5</td>\n",
       "      <td>6</td>\n",
       "      <td>0</td>\n",
       "    </tr>\n",
       "    <tr>\n",
       "      <th>2</th>\n",
       "      <td>white</td>\n",
       "      <td>8.1</td>\n",
       "      <td>0.28</td>\n",
       "      <td>0.40</td>\n",
       "      <td>6.9</td>\n",
       "      <td>0.050</td>\n",
       "      <td>30.0</td>\n",
       "      <td>97.0</td>\n",
       "      <td>0.9951</td>\n",
       "      <td>3.26</td>\n",
       "      <td>0.44</td>\n",
       "      <td>10.1</td>\n",
       "      <td>6</td>\n",
       "      <td>0</td>\n",
       "    </tr>\n",
       "    <tr>\n",
       "      <th>3</th>\n",
       "      <td>white</td>\n",
       "      <td>7.2</td>\n",
       "      <td>0.23</td>\n",
       "      <td>0.32</td>\n",
       "      <td>8.5</td>\n",
       "      <td>0.058</td>\n",
       "      <td>47.0</td>\n",
       "      <td>186.0</td>\n",
       "      <td>0.9956</td>\n",
       "      <td>3.19</td>\n",
       "      <td>0.40</td>\n",
       "      <td>9.9</td>\n",
       "      <td>6</td>\n",
       "      <td>0</td>\n",
       "    </tr>\n",
       "    <tr>\n",
       "      <th>4</th>\n",
       "      <td>white</td>\n",
       "      <td>7.2</td>\n",
       "      <td>0.23</td>\n",
       "      <td>0.32</td>\n",
       "      <td>8.5</td>\n",
       "      <td>0.058</td>\n",
       "      <td>47.0</td>\n",
       "      <td>186.0</td>\n",
       "      <td>0.9956</td>\n",
       "      <td>3.19</td>\n",
       "      <td>0.40</td>\n",
       "      <td>9.9</td>\n",
       "      <td>6</td>\n",
       "      <td>0</td>\n",
       "    </tr>\n",
       "  </tbody>\n",
       "</table>\n",
       "</div>"
      ],
      "text/plain": [
       "    type  fixed acidity  volatile acidity  citric acid  residual sugar  \\\n",
       "0  white            7.0              0.27         0.36            20.7   \n",
       "1  white            6.3              0.30         0.34             1.6   \n",
       "2  white            8.1              0.28         0.40             6.9   \n",
       "3  white            7.2              0.23         0.32             8.5   \n",
       "4  white            7.2              0.23         0.32             8.5   \n",
       "\n",
       "   chlorides  free sulfur dioxide  total sulfur dioxide  density    pH  \\\n",
       "0      0.045                 45.0                 170.0   1.0010  3.00   \n",
       "1      0.049                 14.0                 132.0   0.9940  3.30   \n",
       "2      0.050                 30.0                  97.0   0.9951  3.26   \n",
       "3      0.058                 47.0                 186.0   0.9956  3.19   \n",
       "4      0.058                 47.0                 186.0   0.9956  3.19   \n",
       "\n",
       "   sulphates  alcohol  quality  color  \n",
       "0       0.45      8.8        6      0  \n",
       "1       0.49      9.5        6      0  \n",
       "2       0.44     10.1        6      0  \n",
       "3       0.40      9.9        6      0  \n",
       "4       0.40      9.9        6      0  "
      ]
     },
     "execution_count": 3,
     "metadata": {},
     "output_type": "execute_result"
    }
   ],
   "source": [
    "data.loc[:,'color'] = np.where(data['type'] != 'white', 1, 0)\n",
    "data.head()"
   ]
  },
  {
   "cell_type": "code",
   "execution_count": 4,
   "metadata": {},
   "outputs": [],
   "source": [
    "data.drop('type', axis = 1, inplace = True)"
   ]
  },
  {
   "cell_type": "code",
   "execution_count": 5,
   "metadata": {},
   "outputs": [
    {
     "data": {
      "text/plain": [
       "fixed acidity           10\n",
       "volatile acidity         8\n",
       "citric acid              3\n",
       "residual sugar           2\n",
       "chlorides                2\n",
       "free sulfur dioxide      0\n",
       "total sulfur dioxide     0\n",
       "density                  0\n",
       "pH                       9\n",
       "sulphates                4\n",
       "alcohol                  0\n",
       "quality                  0\n",
       "color                    0\n",
       "dtype: int64"
      ]
     },
     "execution_count": 5,
     "metadata": {},
     "output_type": "execute_result"
    }
   ],
   "source": [
    "data.isna().sum()"
   ]
  },
  {
   "cell_type": "code",
   "execution_count": 6,
   "metadata": {},
   "outputs": [
    {
     "data": {
      "text/plain": [
       "fixed acidity           0\n",
       "volatile acidity        0\n",
       "citric acid             0\n",
       "residual sugar          0\n",
       "chlorides               0\n",
       "free sulfur dioxide     0\n",
       "total sulfur dioxide    0\n",
       "density                 0\n",
       "pH                      0\n",
       "sulphates               0\n",
       "alcohol                 0\n",
       "quality                 0\n",
       "color                   0\n",
       "dtype: int64"
      ]
     },
     "execution_count": 6,
     "metadata": {},
     "output_type": "execute_result"
    }
   ],
   "source": [
    "data.dropna(inplace = True, axis = 0)\n",
    "data.isna().sum()"
   ]
  },
  {
   "cell_type": "code",
   "execution_count": 7,
   "metadata": {},
   "outputs": [],
   "source": [
    "mean = data.mean()\n",
    "stdev = data.std()\n",
    "\n",
    "FSdata = (data - mean) / stdev"
   ]
  },
  {
   "cell_type": "code",
   "execution_count": 20,
   "metadata": {},
   "outputs": [
    {
     "name": "stdout",
     "output_type": "stream",
     "text": [
      "min value:  \n",
      " \n",
      " fixed acidity          -2.633270\n",
      "volatile acidity       -1.576715\n",
      "citric acid            -2.194510\n",
      "residual sugar         -1.018312\n",
      "chlorides              -1.341551\n",
      "free sulfur dioxide    -1.662097\n",
      "total sulfur dioxide   -1.940577\n",
      "density                -2.528009\n",
      "pH                     -3.101975\n",
      "sulphates              -2.089467\n",
      "alcohol                -2.089319\n",
      "quality                -3.227471\n",
      "color                  -0.571886\n",
      "dtype: float64 \n",
      " \n",
      " max value \n",
      " \n",
      " fixed acidity          -2.633270\n",
      "volatile acidity       -1.576715\n",
      "citric acid            -2.194510\n",
      "residual sugar         -1.018312\n",
      "chlorides              -1.341551\n",
      "free sulfur dioxide    -1.662097\n",
      "total sulfur dioxide   -1.940577\n",
      "density                -2.528009\n",
      "pH                     -3.101975\n",
      "sulphates              -2.089467\n",
      "alcohol                -2.089319\n",
      "quality                -3.227471\n",
      "color                  -0.571886\n",
      "dtype: float64\n"
     ]
    }
   ],
   "source": [
    "print('min value: ', \"\\n\", \"\\n\", FSdata.min(),\"\\n\", \"\\n\", 'max value', \"\\n\", \"\\n\", FSdata.min())"
   ]
  },
  {
   "cell_type": "code",
   "execution_count": 21,
   "metadata": {},
   "outputs": [
    {
     "data": {
      "text/plain": [
       "fixed acidity             7.217755\n",
       "volatile acidity          0.339589\n",
       "citric acid               0.318758\n",
       "residual sugar            5.443958\n",
       "chlorides                 0.056056\n",
       "free sulfur dioxide      30.516865\n",
       "total sulfur dioxide    115.694492\n",
       "density                   0.994698\n",
       "pH                        3.218332\n",
       "sulphates                 0.531150\n",
       "alcohol                  10.492825\n",
       "quality                   5.818505\n",
       "color                     0.246480\n",
       "dtype: float64"
      ]
     },
     "execution_count": 21,
     "metadata": {},
     "output_type": "execute_result"
    }
   ],
   "source": [
    "mean"
   ]
  },
  {
   "cell_type": "code",
   "execution_count": 22,
   "metadata": {},
   "outputs": [],
   "source": [
    "FSdata['quality'] = (FSdata['quality'] * stdev['quality']) + mean['quality']"
   ]
  },
  {
   "cell_type": "code",
   "execution_count": 23,
   "metadata": {},
   "outputs": [
    {
     "data": {
      "text/html": [
       "<div>\n",
       "<style scoped>\n",
       "    .dataframe tbody tr th:only-of-type {\n",
       "        vertical-align: middle;\n",
       "    }\n",
       "\n",
       "    .dataframe tbody tr th {\n",
       "        vertical-align: top;\n",
       "    }\n",
       "\n",
       "    .dataframe thead th {\n",
       "        text-align: right;\n",
       "    }\n",
       "</style>\n",
       "<table border=\"1\" class=\"dataframe\">\n",
       "  <thead>\n",
       "    <tr style=\"text-align: right;\">\n",
       "      <th></th>\n",
       "      <th>fixed acidity</th>\n",
       "      <th>volatile acidity</th>\n",
       "      <th>citric acid</th>\n",
       "      <th>residual sugar</th>\n",
       "      <th>chlorides</th>\n",
       "      <th>free sulfur dioxide</th>\n",
       "      <th>total sulfur dioxide</th>\n",
       "      <th>density</th>\n",
       "      <th>pH</th>\n",
       "      <th>sulphates</th>\n",
       "      <th>alcohol</th>\n",
       "      <th>quality</th>\n",
       "      <th>color</th>\n",
       "    </tr>\n",
       "  </thead>\n",
       "  <tbody>\n",
       "    <tr>\n",
       "      <th>0</th>\n",
       "      <td>-0.167773</td>\n",
       "      <td>-0.422677</td>\n",
       "      <td>0.283937</td>\n",
       "      <td>3.207172</td>\n",
       "      <td>-0.315203</td>\n",
       "      <td>0.815546</td>\n",
       "      <td>0.960705</td>\n",
       "      <td>2.099764</td>\n",
       "      <td>-1.359055</td>\n",
       "      <td>-0.544945</td>\n",
       "      <td>-1.418813</td>\n",
       "      <td>6.0</td>\n",
       "      <td>-0.571886</td>\n",
       "    </tr>\n",
       "    <tr>\n",
       "      <th>1</th>\n",
       "      <td>-0.707100</td>\n",
       "      <td>-0.240460</td>\n",
       "      <td>0.146245</td>\n",
       "      <td>-0.808089</td>\n",
       "      <td>-0.201165</td>\n",
       "      <td>-0.930066</td>\n",
       "      <td>0.288457</td>\n",
       "      <td>-0.232447</td>\n",
       "      <td>0.508360</td>\n",
       "      <td>-0.276333</td>\n",
       "      <td>-0.832120</td>\n",
       "      <td>6.0</td>\n",
       "      <td>-0.571886</td>\n",
       "    </tr>\n",
       "    <tr>\n",
       "      <th>2</th>\n",
       "      <td>0.679741</td>\n",
       "      <td>-0.361938</td>\n",
       "      <td>0.559320</td>\n",
       "      <td>0.306094</td>\n",
       "      <td>-0.172655</td>\n",
       "      <td>-0.029105</td>\n",
       "      <td>-0.330719</td>\n",
       "      <td>0.134043</td>\n",
       "      <td>0.259371</td>\n",
       "      <td>-0.612098</td>\n",
       "      <td>-0.329240</td>\n",
       "      <td>6.0</td>\n",
       "      <td>-0.571886</td>\n",
       "    </tr>\n",
       "    <tr>\n",
       "      <th>3</th>\n",
       "      <td>-0.013680</td>\n",
       "      <td>-0.665632</td>\n",
       "      <td>0.008554</td>\n",
       "      <td>0.642451</td>\n",
       "      <td>0.055422</td>\n",
       "      <td>0.928166</td>\n",
       "      <td>1.243757</td>\n",
       "      <td>0.300630</td>\n",
       "      <td>-0.176359</td>\n",
       "      <td>-0.880711</td>\n",
       "      <td>-0.496866</td>\n",
       "      <td>6.0</td>\n",
       "      <td>-0.571886</td>\n",
       "    </tr>\n",
       "    <tr>\n",
       "      <th>4</th>\n",
       "      <td>-0.013680</td>\n",
       "      <td>-0.665632</td>\n",
       "      <td>0.008554</td>\n",
       "      <td>0.642451</td>\n",
       "      <td>0.055422</td>\n",
       "      <td>0.928166</td>\n",
       "      <td>1.243757</td>\n",
       "      <td>0.300630</td>\n",
       "      <td>-0.176359</td>\n",
       "      <td>-0.880711</td>\n",
       "      <td>-0.496866</td>\n",
       "      <td>6.0</td>\n",
       "      <td>-0.571886</td>\n",
       "    </tr>\n",
       "    <tr>\n",
       "      <th>...</th>\n",
       "      <td>...</td>\n",
       "      <td>...</td>\n",
       "      <td>...</td>\n",
       "      <td>...</td>\n",
       "      <td>...</td>\n",
       "      <td>...</td>\n",
       "      <td>...</td>\n",
       "      <td>...</td>\n",
       "      <td>...</td>\n",
       "      <td>...</td>\n",
       "      <td>...</td>\n",
       "      <td>...</td>\n",
       "      <td>...</td>\n",
       "    </tr>\n",
       "    <tr>\n",
       "      <th>6491</th>\n",
       "      <td>-0.321867</td>\n",
       "      <td>1.703183</td>\n",
       "      <td>-1.643744</td>\n",
       "      <td>-0.745022</td>\n",
       "      <td>0.340519</td>\n",
       "      <td>-0.141725</td>\n",
       "      <td>-1.374473</td>\n",
       "      <td>0.603817</td>\n",
       "      <td>1.255326</td>\n",
       "      <td>1.939720</td>\n",
       "      <td>-0.832120</td>\n",
       "      <td>6.0</td>\n",
       "      <td>1.748328</td>\n",
       "    </tr>\n",
       "    <tr>\n",
       "      <th>6492</th>\n",
       "      <td>-0.784147</td>\n",
       "      <td>1.581706</td>\n",
       "      <td>-1.643744</td>\n",
       "      <td>-0.723999</td>\n",
       "      <td>0.967732</td>\n",
       "      <td>0.083515</td>\n",
       "      <td>-1.268329</td>\n",
       "      <td>0.067408</td>\n",
       "      <td>1.442067</td>\n",
       "      <td>0.328046</td>\n",
       "      <td>0.006013</td>\n",
       "      <td>5.0</td>\n",
       "      <td>1.748328</td>\n",
       "    </tr>\n",
       "    <tr>\n",
       "      <th>6494</th>\n",
       "      <td>-0.707100</td>\n",
       "      <td>1.035056</td>\n",
       "      <td>-1.299515</td>\n",
       "      <td>-0.660933</td>\n",
       "      <td>0.568596</td>\n",
       "      <td>-0.085415</td>\n",
       "      <td>-1.339092</td>\n",
       "      <td>0.347274</td>\n",
       "      <td>1.255326</td>\n",
       "      <td>1.469649</td>\n",
       "      <td>0.425080</td>\n",
       "      <td>6.0</td>\n",
       "      <td>1.748328</td>\n",
       "    </tr>\n",
       "    <tr>\n",
       "      <th>6495</th>\n",
       "      <td>-1.015288</td>\n",
       "      <td>1.855030</td>\n",
       "      <td>-1.368361</td>\n",
       "      <td>-0.723999</td>\n",
       "      <td>0.540087</td>\n",
       "      <td>0.083515</td>\n",
       "      <td>-1.268329</td>\n",
       "      <td>0.257317</td>\n",
       "      <td>2.189033</td>\n",
       "      <td>1.201036</td>\n",
       "      <td>-0.245427</td>\n",
       "      <td>5.0</td>\n",
       "      <td>1.748328</td>\n",
       "    </tr>\n",
       "    <tr>\n",
       "      <th>6496</th>\n",
       "      <td>-0.938241</td>\n",
       "      <td>-0.179721</td>\n",
       "      <td>1.041240</td>\n",
       "      <td>-0.387643</td>\n",
       "      <td>0.312009</td>\n",
       "      <td>-0.704825</td>\n",
       "      <td>-1.303710</td>\n",
       "      <td>0.263980</td>\n",
       "      <td>1.068584</td>\n",
       "      <td>0.865271</td>\n",
       "      <td>0.425080</td>\n",
       "      <td>6.0</td>\n",
       "      <td>1.748328</td>\n",
       "    </tr>\n",
       "  </tbody>\n",
       "</table>\n",
       "<p>6463 rows × 13 columns</p>\n",
       "</div>"
      ],
      "text/plain": [
       "      fixed acidity  volatile acidity  citric acid  residual sugar  chlorides  \\\n",
       "0         -0.167773         -0.422677     0.283937        3.207172  -0.315203   \n",
       "1         -0.707100         -0.240460     0.146245       -0.808089  -0.201165   \n",
       "2          0.679741         -0.361938     0.559320        0.306094  -0.172655   \n",
       "3         -0.013680         -0.665632     0.008554        0.642451   0.055422   \n",
       "4         -0.013680         -0.665632     0.008554        0.642451   0.055422   \n",
       "...             ...               ...          ...             ...        ...   \n",
       "6491      -0.321867          1.703183    -1.643744       -0.745022   0.340519   \n",
       "6492      -0.784147          1.581706    -1.643744       -0.723999   0.967732   \n",
       "6494      -0.707100          1.035056    -1.299515       -0.660933   0.568596   \n",
       "6495      -1.015288          1.855030    -1.368361       -0.723999   0.540087   \n",
       "6496      -0.938241         -0.179721     1.041240       -0.387643   0.312009   \n",
       "\n",
       "      free sulfur dioxide  total sulfur dioxide   density        pH  \\\n",
       "0                0.815546              0.960705  2.099764 -1.359055   \n",
       "1               -0.930066              0.288457 -0.232447  0.508360   \n",
       "2               -0.029105             -0.330719  0.134043  0.259371   \n",
       "3                0.928166              1.243757  0.300630 -0.176359   \n",
       "4                0.928166              1.243757  0.300630 -0.176359   \n",
       "...                   ...                   ...       ...       ...   \n",
       "6491            -0.141725             -1.374473  0.603817  1.255326   \n",
       "6492             0.083515             -1.268329  0.067408  1.442067   \n",
       "6494            -0.085415             -1.339092  0.347274  1.255326   \n",
       "6495             0.083515             -1.268329  0.257317  2.189033   \n",
       "6496            -0.704825             -1.303710  0.263980  1.068584   \n",
       "\n",
       "      sulphates   alcohol  quality     color  \n",
       "0     -0.544945 -1.418813      6.0 -0.571886  \n",
       "1     -0.276333 -0.832120      6.0 -0.571886  \n",
       "2     -0.612098 -0.329240      6.0 -0.571886  \n",
       "3     -0.880711 -0.496866      6.0 -0.571886  \n",
       "4     -0.880711 -0.496866      6.0 -0.571886  \n",
       "...         ...       ...      ...       ...  \n",
       "6491   1.939720 -0.832120      6.0  1.748328  \n",
       "6492   0.328046  0.006013      5.0  1.748328  \n",
       "6494   1.469649  0.425080      6.0  1.748328  \n",
       "6495   1.201036 -0.245427      5.0  1.748328  \n",
       "6496   0.865271  0.425080      6.0  1.748328  \n",
       "\n",
       "[6463 rows x 13 columns]"
      ]
     },
     "execution_count": 23,
     "metadata": {},
     "output_type": "execute_result"
    }
   ],
   "source": [
    "FSdata"
   ]
  },
  {
   "cell_type": "code",
   "execution_count": 24,
   "metadata": {},
   "outputs": [
    {
     "data": {
      "text/html": [
       "<div>\n",
       "<style scoped>\n",
       "    .dataframe tbody tr th:only-of-type {\n",
       "        vertical-align: middle;\n",
       "    }\n",
       "\n",
       "    .dataframe tbody tr th {\n",
       "        vertical-align: top;\n",
       "    }\n",
       "\n",
       "    .dataframe thead th {\n",
       "        text-align: right;\n",
       "    }\n",
       "</style>\n",
       "<table border=\"1\" class=\"dataframe\">\n",
       "  <thead>\n",
       "    <tr style=\"text-align: right;\">\n",
       "      <th></th>\n",
       "      <th>fixed acidity</th>\n",
       "      <th>volatile acidity</th>\n",
       "      <th>citric acid</th>\n",
       "      <th>residual sugar</th>\n",
       "      <th>chlorides</th>\n",
       "      <th>free sulfur dioxide</th>\n",
       "      <th>total sulfur dioxide</th>\n",
       "      <th>density</th>\n",
       "      <th>pH</th>\n",
       "      <th>sulphates</th>\n",
       "      <th>alcohol</th>\n",
       "      <th>color</th>\n",
       "    </tr>\n",
       "    <tr>\n",
       "      <th>quality</th>\n",
       "      <th></th>\n",
       "      <th></th>\n",
       "      <th></th>\n",
       "      <th></th>\n",
       "      <th></th>\n",
       "      <th></th>\n",
       "      <th></th>\n",
       "      <th></th>\n",
       "      <th></th>\n",
       "      <th></th>\n",
       "      <th></th>\n",
       "      <th></th>\n",
       "    </tr>\n",
       "  </thead>\n",
       "  <tbody>\n",
       "    <tr>\n",
       "      <th>3.0</th>\n",
       "      <td>30</td>\n",
       "      <td>30</td>\n",
       "      <td>30</td>\n",
       "      <td>30</td>\n",
       "      <td>30</td>\n",
       "      <td>30</td>\n",
       "      <td>30</td>\n",
       "      <td>30</td>\n",
       "      <td>30</td>\n",
       "      <td>30</td>\n",
       "      <td>30</td>\n",
       "      <td>30</td>\n",
       "    </tr>\n",
       "    <tr>\n",
       "      <th>4.0</th>\n",
       "      <td>214</td>\n",
       "      <td>214</td>\n",
       "      <td>214</td>\n",
       "      <td>214</td>\n",
       "      <td>214</td>\n",
       "      <td>214</td>\n",
       "      <td>214</td>\n",
       "      <td>214</td>\n",
       "      <td>214</td>\n",
       "      <td>214</td>\n",
       "      <td>214</td>\n",
       "      <td>214</td>\n",
       "    </tr>\n",
       "    <tr>\n",
       "      <th>5.0</th>\n",
       "      <td>2128</td>\n",
       "      <td>2128</td>\n",
       "      <td>2128</td>\n",
       "      <td>2128</td>\n",
       "      <td>2128</td>\n",
       "      <td>2128</td>\n",
       "      <td>2128</td>\n",
       "      <td>2128</td>\n",
       "      <td>2128</td>\n",
       "      <td>2128</td>\n",
       "      <td>2128</td>\n",
       "      <td>2128</td>\n",
       "    </tr>\n",
       "    <tr>\n",
       "      <th>6.0</th>\n",
       "      <td>2820</td>\n",
       "      <td>2820</td>\n",
       "      <td>2820</td>\n",
       "      <td>2820</td>\n",
       "      <td>2820</td>\n",
       "      <td>2820</td>\n",
       "      <td>2820</td>\n",
       "      <td>2820</td>\n",
       "      <td>2820</td>\n",
       "      <td>2820</td>\n",
       "      <td>2820</td>\n",
       "      <td>2820</td>\n",
       "    </tr>\n",
       "    <tr>\n",
       "      <th>7.0</th>\n",
       "      <td>1074</td>\n",
       "      <td>1074</td>\n",
       "      <td>1074</td>\n",
       "      <td>1074</td>\n",
       "      <td>1074</td>\n",
       "      <td>1074</td>\n",
       "      <td>1074</td>\n",
       "      <td>1074</td>\n",
       "      <td>1074</td>\n",
       "      <td>1074</td>\n",
       "      <td>1074</td>\n",
       "      <td>1074</td>\n",
       "    </tr>\n",
       "    <tr>\n",
       "      <th>8.0</th>\n",
       "      <td>192</td>\n",
       "      <td>192</td>\n",
       "      <td>192</td>\n",
       "      <td>192</td>\n",
       "      <td>192</td>\n",
       "      <td>192</td>\n",
       "      <td>192</td>\n",
       "      <td>192</td>\n",
       "      <td>192</td>\n",
       "      <td>192</td>\n",
       "      <td>192</td>\n",
       "      <td>192</td>\n",
       "    </tr>\n",
       "    <tr>\n",
       "      <th>9.0</th>\n",
       "      <td>5</td>\n",
       "      <td>5</td>\n",
       "      <td>5</td>\n",
       "      <td>5</td>\n",
       "      <td>5</td>\n",
       "      <td>5</td>\n",
       "      <td>5</td>\n",
       "      <td>5</td>\n",
       "      <td>5</td>\n",
       "      <td>5</td>\n",
       "      <td>5</td>\n",
       "      <td>5</td>\n",
       "    </tr>\n",
       "  </tbody>\n",
       "</table>\n",
       "</div>"
      ],
      "text/plain": [
       "         fixed acidity  volatile acidity  citric acid  residual sugar  \\\n",
       "quality                                                                 \n",
       "3.0                 30                30           30              30   \n",
       "4.0                214               214          214             214   \n",
       "5.0               2128              2128         2128            2128   \n",
       "6.0               2820              2820         2820            2820   \n",
       "7.0               1074              1074         1074            1074   \n",
       "8.0                192               192          192             192   \n",
       "9.0                  5                 5            5               5   \n",
       "\n",
       "         chlorides  free sulfur dioxide  total sulfur dioxide  density    pH  \\\n",
       "quality                                                                        \n",
       "3.0             30                   30                    30       30    30   \n",
       "4.0            214                  214                   214      214   214   \n",
       "5.0           2128                 2128                  2128     2128  2128   \n",
       "6.0           2820                 2820                  2820     2820  2820   \n",
       "7.0           1074                 1074                  1074     1074  1074   \n",
       "8.0            192                  192                   192      192   192   \n",
       "9.0              5                    5                     5        5     5   \n",
       "\n",
       "         sulphates  alcohol  color  \n",
       "quality                             \n",
       "3.0             30       30     30  \n",
       "4.0            214      214    214  \n",
       "5.0           2128     2128   2128  \n",
       "6.0           2820     2820   2820  \n",
       "7.0           1074     1074   1074  \n",
       "8.0            192      192    192  \n",
       "9.0              5        5      5  "
      ]
     },
     "execution_count": 24,
     "metadata": {},
     "output_type": "execute_result"
    }
   ],
   "source": [
    "FSdata.groupby('quality').count()"
   ]
  },
  {
   "cell_type": "code",
   "execution_count": 25,
   "metadata": {},
   "outputs": [],
   "source": [
    "Xcolumns = ['fixed acidity', 'volatile acidity', 'citric acid', 'residual sugar', 'chlorides', 'free sulfur dioxide',\n",
    "            'total sulfur dioxide', 'density', 'pH', 'sulphates', 'alcohol', 'color']\n",
    "\n",
    "FSdata = FSdata.sample(frac = 1)\n",
    "FSdata.reset_index(inplace = True, drop = True)\n",
    "#dataY = pd.get_dummies(FSdata.loc[:,'quality'])\n",
    "trainCutoff = round(len(data)*0.6)\n",
    "trainX = FSdata.loc[0:trainCutoff, Xcolumns]\n",
    "trainY = FSdata.loc[0:trainCutoff, 'quality']\n",
    "CVCutoff = round(len(FSdata)*0.8)\n",
    "CVX = FSdata.loc[(trainCutoff + 1):(CVCutoff - 1), Xcolumns]\n",
    "CVY = FSdata.loc[(trainCutoff + 1):(CVCutoff - 1), 'quality']\n",
    "testX = FSdata.loc[CVCutoff:, Xcolumns]\n",
    "testY = FSdata.loc[CVCutoff:, 'quality']"
   ]
  },
  {
   "cell_type": "code",
   "execution_count": 33,
   "metadata": {},
   "outputs": [],
   "source": [
    "from sklearn.linear_model import LogisticRegression"
   ]
  },
  {
   "cell_type": "code",
   "execution_count": 34,
   "metadata": {},
   "outputs": [],
   "source": [
    "log_reg = LogisticRegression(multi_class = 'ovr', max_iter = 500, solver = 'lbfgs')\n",
    "log_reg.fit(trainX, trainY)\n",
    "CVY_predict = log_reg.predict_proba(CVX)"
   ]
  },
  {
   "cell_type": "code",
   "execution_count": 35,
   "metadata": {},
   "outputs": [],
   "source": [
    "CVY_predict = log_reg.predict_proba(CVX)"
   ]
  },
  {
   "cell_type": "code",
   "execution_count": 36,
   "metadata": {},
   "outputs": [
    {
     "data": {
      "text/html": [
       "<div>\n",
       "<style scoped>\n",
       "    .dataframe tbody tr th:only-of-type {\n",
       "        vertical-align: middle;\n",
       "    }\n",
       "\n",
       "    .dataframe tbody tr th {\n",
       "        vertical-align: top;\n",
       "    }\n",
       "\n",
       "    .dataframe thead th {\n",
       "        text-align: right;\n",
       "    }\n",
       "</style>\n",
       "<table border=\"1\" class=\"dataframe\">\n",
       "  <thead>\n",
       "    <tr style=\"text-align: right;\">\n",
       "      <th></th>\n",
       "      <th>3</th>\n",
       "      <th>4</th>\n",
       "      <th>5</th>\n",
       "      <th>6</th>\n",
       "      <th>7</th>\n",
       "      <th>8</th>\n",
       "      <th>9</th>\n",
       "    </tr>\n",
       "  </thead>\n",
       "  <tbody>\n",
       "    <tr>\n",
       "      <th>0</th>\n",
       "      <td>0.005982</td>\n",
       "      <td>0.010523</td>\n",
       "      <td>0.290879</td>\n",
       "      <td>0.528398</td>\n",
       "      <td>0.153150</td>\n",
       "      <td>0.010737</td>\n",
       "      <td>0.000330</td>\n",
       "    </tr>\n",
       "    <tr>\n",
       "      <th>1</th>\n",
       "      <td>0.000656</td>\n",
       "      <td>0.002175</td>\n",
       "      <td>0.024865</td>\n",
       "      <td>0.431610</td>\n",
       "      <td>0.483099</td>\n",
       "      <td>0.053484</td>\n",
       "      <td>0.004111</td>\n",
       "    </tr>\n",
       "    <tr>\n",
       "      <th>2</th>\n",
       "      <td>0.000299</td>\n",
       "      <td>0.023570</td>\n",
       "      <td>0.404121</td>\n",
       "      <td>0.479281</td>\n",
       "      <td>0.083417</td>\n",
       "      <td>0.009186</td>\n",
       "      <td>0.000127</td>\n",
       "    </tr>\n",
       "    <tr>\n",
       "      <th>3</th>\n",
       "      <td>0.004267</td>\n",
       "      <td>0.015719</td>\n",
       "      <td>0.197789</td>\n",
       "      <td>0.478594</td>\n",
       "      <td>0.258959</td>\n",
       "      <td>0.043838</td>\n",
       "      <td>0.000834</td>\n",
       "    </tr>\n",
       "    <tr>\n",
       "      <th>4</th>\n",
       "      <td>0.008675</td>\n",
       "      <td>0.009283</td>\n",
       "      <td>0.161364</td>\n",
       "      <td>0.472326</td>\n",
       "      <td>0.337280</td>\n",
       "      <td>0.009177</td>\n",
       "      <td>0.001895</td>\n",
       "    </tr>\n",
       "    <tr>\n",
       "      <th>...</th>\n",
       "      <td>...</td>\n",
       "      <td>...</td>\n",
       "      <td>...</td>\n",
       "      <td>...</td>\n",
       "      <td>...</td>\n",
       "      <td>...</td>\n",
       "      <td>...</td>\n",
       "    </tr>\n",
       "    <tr>\n",
       "      <th>1286</th>\n",
       "      <td>0.001393</td>\n",
       "      <td>0.007414</td>\n",
       "      <td>0.165631</td>\n",
       "      <td>0.502537</td>\n",
       "      <td>0.276309</td>\n",
       "      <td>0.046461</td>\n",
       "      <td>0.000256</td>\n",
       "    </tr>\n",
       "    <tr>\n",
       "      <th>1287</th>\n",
       "      <td>0.004540</td>\n",
       "      <td>0.036681</td>\n",
       "      <td>0.568478</td>\n",
       "      <td>0.344629</td>\n",
       "      <td>0.039448</td>\n",
       "      <td>0.006135</td>\n",
       "      <td>0.000088</td>\n",
       "    </tr>\n",
       "    <tr>\n",
       "      <th>1288</th>\n",
       "      <td>0.002145</td>\n",
       "      <td>0.007627</td>\n",
       "      <td>0.475353</td>\n",
       "      <td>0.452016</td>\n",
       "      <td>0.051225</td>\n",
       "      <td>0.011535</td>\n",
       "      <td>0.000099</td>\n",
       "    </tr>\n",
       "    <tr>\n",
       "      <th>1289</th>\n",
       "      <td>0.000762</td>\n",
       "      <td>0.017480</td>\n",
       "      <td>0.182523</td>\n",
       "      <td>0.556566</td>\n",
       "      <td>0.218892</td>\n",
       "      <td>0.023633</td>\n",
       "      <td>0.000144</td>\n",
       "    </tr>\n",
       "    <tr>\n",
       "      <th>1290</th>\n",
       "      <td>0.001048</td>\n",
       "      <td>0.035122</td>\n",
       "      <td>0.365269</td>\n",
       "      <td>0.480706</td>\n",
       "      <td>0.102116</td>\n",
       "      <td>0.015663</td>\n",
       "      <td>0.000076</td>\n",
       "    </tr>\n",
       "  </tbody>\n",
       "</table>\n",
       "<p>1291 rows × 7 columns</p>\n",
       "</div>"
      ],
      "text/plain": [
       "             3         4         5         6         7         8         9\n",
       "0     0.005982  0.010523  0.290879  0.528398  0.153150  0.010737  0.000330\n",
       "1     0.000656  0.002175  0.024865  0.431610  0.483099  0.053484  0.004111\n",
       "2     0.000299  0.023570  0.404121  0.479281  0.083417  0.009186  0.000127\n",
       "3     0.004267  0.015719  0.197789  0.478594  0.258959  0.043838  0.000834\n",
       "4     0.008675  0.009283  0.161364  0.472326  0.337280  0.009177  0.001895\n",
       "...        ...       ...       ...       ...       ...       ...       ...\n",
       "1286  0.001393  0.007414  0.165631  0.502537  0.276309  0.046461  0.000256\n",
       "1287  0.004540  0.036681  0.568478  0.344629  0.039448  0.006135  0.000088\n",
       "1288  0.002145  0.007627  0.475353  0.452016  0.051225  0.011535  0.000099\n",
       "1289  0.000762  0.017480  0.182523  0.556566  0.218892  0.023633  0.000144\n",
       "1290  0.001048  0.035122  0.365269  0.480706  0.102116  0.015663  0.000076\n",
       "\n",
       "[1291 rows x 7 columns]"
      ]
     },
     "execution_count": 36,
     "metadata": {},
     "output_type": "execute_result"
    }
   ],
   "source": [
    "prediction = pd.DataFrame(CVY_predict)\n",
    "prediction.columns = ['3', '4', '5', '6', '7', '8', '9']\n",
    "prediction"
   ]
  },
  {
   "cell_type": "code",
   "execution_count": 37,
   "metadata": {},
   "outputs": [],
   "source": [
    "prediction = prediction.idxmax(axis = 1)"
   ]
  },
  {
   "cell_type": "code",
   "execution_count": 38,
   "metadata": {},
   "outputs": [
    {
     "data": {
      "text/plain": [
       "<matplotlib.collections.PathCollection at 0x11aef040>"
      ]
     },
     "execution_count": 38,
     "metadata": {},
     "output_type": "execute_result"
    },
    {
     "data": {
      "image/png": "[encoded data removed]",
      "text/plain": [
       "<Figure size 432x288 with 1 Axes>"
      ]
     },
     "metadata": {
      "needs_background": "light"
     },
     "output_type": "display_data"
    }
   ],
   "source": [
    "prediction = prediction.astype('int')\n",
    "plt.scatter(CVY, prediction)"
   ]
  },
  {
   "cell_type": "code",
   "execution_count": 46,
   "metadata": {},
   "outputs": [],
   "source": [
    "CVY.reset_index(drop= True, inplace = True)\n",
    "prediction = prediction.astype(\"float64\")\n",
    "error = CVY - prediction\n",
    "\n",
    "result = np.where(error != 0, 'correct', 'incorrect')\n",
    "result = pd.DataFrame(result)"
   ]
  },
  {
   "cell_type": "code",
   "execution_count": 49,
   "metadata": {},
   "outputs": [
    {
     "data": {
      "text/html": [
       "<div>\n",
       "<style scoped>\n",
       "    .dataframe tbody tr th:only-of-type {\n",
       "        vertical-align: middle;\n",
       "    }\n",
       "\n",
       "    .dataframe tbody tr th {\n",
       "        vertical-align: top;\n",
       "    }\n",
       "\n",
       "    .dataframe thead th {\n",
       "        text-align: right;\n",
       "    }\n",
       "</style>\n",
       "<table border=\"1\" class=\"dataframe\">\n",
       "  <thead>\n",
       "    <tr style=\"text-align: right;\">\n",
       "      <th></th>\n",
       "      <th>0</th>\n",
       "    </tr>\n",
       "  </thead>\n",
       "  <tbody>\n",
       "    <tr>\n",
       "      <th>0</th>\n",
       "      <td>incorrect</td>\n",
       "    </tr>\n",
       "    <tr>\n",
       "      <th>1</th>\n",
       "      <td>incorrect</td>\n",
       "    </tr>\n",
       "    <tr>\n",
       "      <th>2</th>\n",
       "      <td>correct</td>\n",
       "    </tr>\n",
       "    <tr>\n",
       "      <th>3</th>\n",
       "      <td>incorrect</td>\n",
       "    </tr>\n",
       "    <tr>\n",
       "      <th>4</th>\n",
       "      <td>correct</td>\n",
       "    </tr>\n",
       "    <tr>\n",
       "      <th>...</th>\n",
       "      <td>...</td>\n",
       "    </tr>\n",
       "    <tr>\n",
       "      <th>1286</th>\n",
       "      <td>correct</td>\n",
       "    </tr>\n",
       "    <tr>\n",
       "      <th>1287</th>\n",
       "      <td>incorrect</td>\n",
       "    </tr>\n",
       "    <tr>\n",
       "      <th>1288</th>\n",
       "      <td>correct</td>\n",
       "    </tr>\n",
       "    <tr>\n",
       "      <th>1289</th>\n",
       "      <td>correct</td>\n",
       "    </tr>\n",
       "    <tr>\n",
       "      <th>1290</th>\n",
       "      <td>correct</td>\n",
       "    </tr>\n",
       "  </tbody>\n",
       "</table>\n",
       "<p>1291 rows × 1 columns</p>\n",
       "</div>"
      ],
      "text/plain": [
       "              0\n",
       "0     incorrect\n",
       "1     incorrect\n",
       "2       correct\n",
       "3     incorrect\n",
       "4       correct\n",
       "...         ...\n",
       "1286    correct\n",
       "1287  incorrect\n",
       "1288    correct\n",
       "1289    correct\n",
       "1290    correct\n",
       "\n",
       "[1291 rows x 1 columns]"
      ]
     },
     "execution_count": 49,
     "metadata": {},
     "output_type": "execute_result"
    }
   ],
   "source": [
    "result"
   ]
  },
  {
   "cell_type": "code",
   "execution_count": 50,
   "metadata": {},
   "outputs": [
    {
     "data": {
      "text/html": [
       "<div>\n",
       "<style scoped>\n",
       "    .dataframe tbody tr th:only-of-type {\n",
       "        vertical-align: middle;\n",
       "    }\n",
       "\n",
       "    .dataframe tbody tr th {\n",
       "        vertical-align: top;\n",
       "    }\n",
       "\n",
       "    .dataframe thead th {\n",
       "        text-align: right;\n",
       "    }\n",
       "</style>\n",
       "<table border=\"1\" class=\"dataframe\">\n",
       "  <thead>\n",
       "    <tr style=\"text-align: right;\">\n",
       "      <th></th>\n",
       "      <th>0</th>\n",
       "    </tr>\n",
       "  </thead>\n",
       "  <tbody>\n",
       "    <tr>\n",
       "      <th>count</th>\n",
       "      <td>1291</td>\n",
       "    </tr>\n",
       "    <tr>\n",
       "      <th>unique</th>\n",
       "      <td>2</td>\n",
       "    </tr>\n",
       "    <tr>\n",
       "      <th>top</th>\n",
       "      <td>incorrect</td>\n",
       "    </tr>\n",
       "    <tr>\n",
       "      <th>freq</th>\n",
       "      <td>723</td>\n",
       "    </tr>\n",
       "  </tbody>\n",
       "</table>\n",
       "</div>"
      ],
      "text/plain": [
       "                0\n",
       "count        1291\n",
       "unique          2\n",
       "top     incorrect\n",
       "freq          723"
      ]
     },
     "execution_count": 50,
     "metadata": {},
     "output_type": "execute_result"
    }
   ],
   "source": [
    "result.describe()"
   ]
  },
  {
   "cell_type": "markdown",
   "metadata": {},
   "source": [
    "723 correctly assigned qualities\n",
    "1291 - 723 = 568 incorrectly assigned ones"
   ]
  },
  {
   "cell_type": "code",
   "execution_count": 54,
   "metadata": {},
   "outputs": [],
   "source": [
    "#calculate precision and recall for cross validation set\n",
    "from sklearn.metrics import confusion_matrix\n",
    "from sklearn.metrics import precision_score, recall_score"
   ]
  },
  {
   "cell_type": "markdown",
   "metadata": {},
   "source": [
    "A confusion matrix shows us which classes are correctly/incorrectly predicted. Each row represents an actual class, and the column represents a predicted class. The index/columns are 3, 4, 5, 6, 7, 8 for quality. For example, in the second row, there was one wine correctly assigned to quality = 4. This one wine is a true positive. There were 23 wines assigned to quality = 5 and 13 to quality = 6 by the model that were actually quality = 4. This makes for 36 false negatives for quality = 4. There is one false positive for quality = 4 (was actually quality = 5). True negatives for quality = 4 is the summation of all other fields in the confusion table that are not in the 4th column or 4th row (1253). They were not predicted to be quality = 4 and they were not actually quality = 4. \n",
    "\n",
    "In summary for actual class wine quality = 4:\n",
    "True positives: 1\n",
    "False negatives: 36\n",
    "False positives: 1\n",
    "True negatives: 1253\n",
    "\n"
   ]
  },
  {
   "cell_type": "code",
   "execution_count": 57,
   "metadata": {},
   "outputs": [
    {
     "name": "stdout",
     "output_type": "stream",
     "text": [
      "[[  0   0   1   2   0   0]\n",
      " [  0   1  23  13   0   0]\n",
      " [  0   1 272 143   2   0]\n",
      " [  0   0 132 423  27   0]\n",
      " [  0   0  16 174  27   0]\n",
      " [  0   0   3  27   4   0]]\n"
     ]
    }
   ],
   "source": [
    "conf_mat = confusion_matrix(CVY, prediction)\n",
    "print(conf_mat)"
   ]
  },
  {
   "cell_type": "markdown",
   "metadata": {},
   "source": [
    "Precision and recall are error metrics in classification. Precision focuses on whether the model prediction is right or not. Whereas recall tests the sensitivity of the model. Precision may be higher if we simplify the model to always predicting wine quality will be 6, regardless of any information about the wine. However, the recall would be poor. It is about crafting and tweaking the model to balance both precision and recall scores.\n",
    "\n",
    "Precision = True positives / (True positives + False positives)\n",
    "Recall = True positives / (True positives + False negatives)\n",
    "\n",
    "for wine quality = 4:\n",
    "Precision = 0.5\n",
    "Recall = 0.0008\n",
    "\n",
    "We can use the sci-kit learn library to calculate a precision and recall score for our multiclass cross validation set."
   ]
  },
  {
   "cell_type": "code",
   "execution_count": 67,
   "metadata": {},
   "outputs": [
    {
     "data": {
      "text/plain": [
       "0.5600309837335399"
      ]
     },
     "execution_count": 67,
     "metadata": {},
     "output_type": "execute_result"
    }
   ],
   "source": [
    "precision_score(CVY, prediction, average = 'micro')"
   ]
  },
  {
   "cell_type": "code",
   "execution_count": 66,
   "metadata": {},
   "outputs": [
    {
     "data": {
      "text/plain": [
       "0.5600309837335399"
      ]
     },
     "execution_count": 66,
     "metadata": {},
     "output_type": "execute_result"
    }
   ],
   "source": [
    "recall_score(CVY, prediction, average = 'micro')"
   ]
  },
  {
   "cell_type": "code",
   "execution_count": 73,
   "metadata": {},
   "outputs": [],
   "source": [
    "from sklearn.metrics import precision_recall_curve\n",
    "from sklearn.multiclass import OneVsRestClassifier"
   ]
  },
  {
   "cell_type": "code",
   "execution_count": 92,
   "metadata": {},
   "outputs": [],
   "source": [
    "log_reg = LogisticRegression(multi_class = 'ovr', max_iter = 500, solver = 'lbfgs')\n",
    "log_reg.fit(trainX, trainY)\n",
    "train_predict_OvsA = log_reg.predict_proba(trainX)"
   ]
  },
  {
   "cell_type": "code",
   "execution_count": null,
   "metadata": {},
   "outputs": [],
   "source": []
  },
  {
   "cell_type": "code",
   "execution_count": 93,
   "metadata": {},
   "outputs": [
    {
     "data": {
      "text/plain": [
       "array([[7.12393445e-03, 4.18104715e-03, 1.10416629e-01, ...,\n",
       "        3.23889090e-01, 1.37857982e-02, 2.35674601e-04],\n",
       "       [3.66353712e-03, 3.93989057e-02, 6.62093760e-01, ...,\n",
       "        2.12617296e-02, 2.26563419e-03, 1.95574029e-05],\n",
       "       [1.32821084e-03, 1.13655489e-02, 4.49517210e-01, ...,\n",
       "        7.48079943e-02, 2.16247231e-03, 2.24578681e-05],\n",
       "       ...,\n",
       "       [2.18945198e-03, 2.57132860e-02, 2.49865412e-01, ...,\n",
       "        2.12988302e-01, 2.31071076e-02, 4.50161330e-04],\n",
       "       [4.68349294e-03, 8.47931989e-02, 6.46764923e-01, ...,\n",
       "        1.66044199e-02, 8.53517781e-04, 7.92671280e-06],\n",
       "       [2.57644779e-03, 7.77106683e-03, 5.38414679e-01, ...,\n",
       "        5.25837655e-02, 9.50093855e-03, 1.57514233e-04]])"
      ]
     },
     "execution_count": 93,
     "metadata": {},
     "output_type": "execute_result"
    }
   ],
   "source": [
    "train_predict_OvsA "
   ]
  },
  {
   "cell_type": "code",
   "execution_count": 100,
   "metadata": {},
   "outputs": [],
   "source": [
    "from sklearn import preprocessing"
   ]
  },
  {
   "cell_type": "code",
   "execution_count": 101,
   "metadata": {},
   "outputs": [
    {
     "data": {
      "text/plain": [
       "LabelBinarizer()"
      ]
     },
     "execution_count": 101,
     "metadata": {},
     "output_type": "execute_result"
    }
   ],
   "source": [
    "lb = preprocessing.LabelBinarizer()\n",
    "lb.fit(CVY)"
   ]
  },
  {
   "cell_type": "code",
   "execution_count": 102,
   "metadata": {},
   "outputs": [
    {
     "data": {
      "text/plain": [
       "array([3., 4., 5., 6., 7., 8.])"
      ]
     },
     "execution_count": 102,
     "metadata": {},
     "output_type": "execute_result"
    }
   ],
   "source": [
    "lb.classes_"
   ]
  },
  {
   "cell_type": "code",
   "execution_count": 103,
   "metadata": {},
   "outputs": [
    {
     "data": {
      "text/plain": [
       "array([[0, 0, 0, 1, 0, 0],\n",
       "       [0, 0, 0, 0, 1, 0],\n",
       "       [0, 0, 1, 0, 0, 0],\n",
       "       ...,\n",
       "       [0, 0, 0, 1, 0, 0],\n",
       "       [0, 0, 1, 0, 0, 0],\n",
       "       [0, 0, 1, 0, 0, 0]], dtype=int32)"
      ]
     },
     "execution_count": 103,
     "metadata": {},
     "output_type": "execute_result"
    }
   ],
   "source": [
    "CVY_OvA = lb.transform(CVY)"
   ]
  },
  {
   "cell_type": "code",
   "execution_count": 106,
   "metadata": {},
   "outputs": [],
   "source": [
    "trainY_OvA = lb.transform(trainY)"
   ]
  },
  {
   "cell_type": "code",
   "execution_count": 133,
   "metadata": {},
   "outputs": [
    {
     "data": {
      "image/png": "[encoded data removed]",
      "text/plain": [
       "<Figure size 432x288 with 1 Axes>"
      ]
     },
     "metadata": {
      "needs_background": "light"
     },
     "output_type": "display_data"
    }
   ],
   "source": [
    "precision = dict()\n",
    "recall = dict()\n",
    "for i in range(5):\n",
    "    precision[i], recall[i], _ = precision_recall_curve(trainY_OvA[:, i],\n",
    "                                                        train_predict_OvsA [:, i])\n",
    "    plt.plot(recall[i], precision[i], lw=2, label='class {}'.format(i))\n",
    "    \n",
    "plt.xlabel(\"recall\")\n",
    "plt.ylabel(\"precision\")\n",
    "plt.legend(loc=\"best\")\n",
    "plt.title(\"precision vs. recall curve\")\n",
    "plt.show()"
   ]
  },
  {
   "cell_type": "markdown",
   "metadata": {},
   "source": [
    "the F1 score incorporates both precision and recall giving us a good \"metric\" for our model.\n",
    "\n",
    "F1 score = 2 * precision * recall / (precision + recall) = 2 * 0.56 * 0.56 / (0.56 + 0.56) = 0.56"
   ]
  },
  {
   "cell_type": "markdown",
   "metadata": {},
   "source": [
    "Next we can adjust the thresold of probablility for which we assign each wine quality."
   ]
  },
  {
   "cell_type": "code",
   "execution_count": 137,
   "metadata": {},
   "outputs": [
    {
     "data": {
      "image/png": "[encoded data removed]",
      "text/plain": [
       "<Figure size 432x288 with 1 Axes>"
      ]
     },
     "metadata": {
      "needs_background": "light"
     },
     "output_type": "display_data"
    }
   ],
   "source": [
    "precision, recall, threshold = precision_recall_curve(trainY_OvA[:, 0], train_predict_OvsA [:, 0])\n",
    "plt.plot(threshold, recall[:-1], lw=2, label='Wine quality = 3, recall')\n",
    "plt.plot(threshold, precision[:-1], lw=2, label='Wine quality = 3, precision')\n",
    "plt.xlabel(\"threshold percentage\")\n",
    "plt.legend(loc=\"best\")\n",
    "plt.show()"
   ]
  },
  {
   "cell_type": "markdown",
   "metadata": {},
   "source": [
    "based on this, it should only be quality = 3 if the probablility is ~ 0.1"
   ]
  },
  {
   "cell_type": "code",
   "execution_count": 138,
   "metadata": {},
   "outputs": [
    {
     "data": {
      "image/png": "[encoded data removed]",
      "text/plain": [
       "<Figure size 432x288 with 1 Axes>"
      ]
     },
     "metadata": {
      "needs_background": "light"
     },
     "output_type": "display_data"
    }
   ],
   "source": [
    "precision, recall, threshold = precision_recall_curve(trainY_OvA[:, 1], train_predict_OvsA [:, 1])\n",
    "plt.plot(threshold, recall[:-1], lw=2, label='Wine quality = 4, recall')\n",
    "plt.plot(threshold, precision[:-1], lw=2, label='Wine quality = 4, precision')\n",
    "plt.xlabel(\"threshold percentage\")\n",
    "plt.legend(loc=\"best\")\n",
    "plt.show()"
   ]
  },
  {
   "cell_type": "code",
   "execution_count": 139,
   "metadata": {},
   "outputs": [
    {
     "data": {
      "image/png": "[encoded data removed]",
      "text/plain": [
       "<Figure size 432x288 with 1 Axes>"
      ]
     },
     "metadata": {
      "needs_background": "light"
     },
     "output_type": "display_data"
    }
   ],
   "source": [
    "precision, recall, threshold = precision_recall_curve(trainY_OvA[:, 2], train_predict_OvsA [:, 2])\n",
    "plt.plot(threshold, recall[:-1], lw=2, label='Wine quality = 5, recall')\n",
    "plt.plot(threshold, precision[:-1], lw=2, label='Wine quality = 5, precision')\n",
    "plt.xlabel(\"threshold percentage\")\n",
    "plt.legend(loc=\"best\")\n",
    "plt.show()"
   ]
  },
  {
   "cell_type": "code",
   "execution_count": 140,
   "metadata": {},
   "outputs": [
    {
     "data": {
      "image/png": "[encoded data removed]",
      "text/plain": [
       "<Figure size 432x288 with 1 Axes>"
      ]
     },
     "metadata": {
      "needs_background": "light"
     },
     "output_type": "display_data"
    }
   ],
   "source": [
    "precision, recall, threshold = precision_recall_curve(trainY_OvA[:, 3], train_predict_OvsA [:, 3])\n",
    "plt.plot(threshold, recall[:-1], lw=2, label='Wine quality = 6, recall')\n",
    "plt.plot(threshold, precision[:-1], lw=2, label='Wine quality = 6, precision')\n",
    "plt.xlabel(\"threshold percentage\")\n",
    "plt.legend(loc=\"best\")\n",
    "plt.show()"
   ]
  },
  {
   "cell_type": "code",
   "execution_count": 142,
   "metadata": {},
   "outputs": [
    {
     "data": {
      "image/png": "[encoded data removed]",
      "text/plain": [
       "<Figure size 432x288 with 1 Axes>"
      ]
     },
     "metadata": {
      "needs_background": "light"
     },
     "output_type": "display_data"
    }
   ],
   "source": [
    "precision, recall, threshold = precision_recall_curve(trainY_OvA[:, 4], train_predict_OvsA [:, 4])\n",
    "plt.plot(threshold, recall[:-1], lw=2, label='Wine quality = 7, recall')\n",
    "plt.plot(threshold, precision[:-1], lw=2, label='Wine quality = 7, precision')\n",
    "plt.xlabel(\"threshold percentage\")\n",
    "plt.legend(loc=\"best\")\n",
    "plt.show()"
   ]
  },
  {
   "cell_type": "code",
   "execution_count": 141,
   "metadata": {},
   "outputs": [
    {
     "data": {
      "image/png": "[encoded data removed]",
      "text/plain": [
       "<Figure size 432x288 with 1 Axes>"
      ]
     },
     "metadata": {
      "needs_background": "light"
     },
     "output_type": "display_data"
    }
   ],
   "source": [
    "precision, recall, threshold = precision_recall_curve(trainY_OvA[:, 5], train_predict_OvsA [:, 5])\n",
    "plt.plot(threshold, recall[:-1], lw=2, label='Wine quality = 8, recall')\n",
    "plt.plot(threshold, precision[:-1], lw=2, label='Wine quality = 8, precision')\n",
    "plt.xlabel(\"threshold percentage\")\n",
    "plt.legend(loc=\"best\")\n",
    "plt.show()"
   ]
  },
  {
   "cell_type": "markdown",
   "metadata": {},
   "source": [
    "## Support Vector Machines"
   ]
  },
  {
   "cell_type": "code",
   "execution_count": 146,
   "metadata": {},
   "outputs": [],
   "source": [
    "from sklearn.pipeline import Pipeline\n",
    "from sklearn.svm import SVC\n",
    "from sklearn.preprocessing import StandardScaler"
   ]
  },
  {
   "cell_type": "code",
   "execution_count": 148,
   "metadata": {},
   "outputs": [
    {
     "data": {
      "text/plain": [
       "Pipeline(steps=[('scaler', StandardScaler()),\n",
       "                ('svm_clf', SVC(C=0.001, gamma=5))])"
      ]
     },
     "execution_count": 148,
     "metadata": {},
     "output_type": "execute_result"
    }
   ],
   "source": [
    "rbf_kernel_svm_clf = Pipeline([('scaler', StandardScaler()), ('svm_clf', SVC(kernel = 'rbf', gamma = 5, C = 0.001))])\n",
    "rbf_kernel_svm_clf.fit(trainX, trainY)"
   ]
  },
  {
   "cell_type": "code",
   "execution_count": 150,
   "metadata": {},
   "outputs": [],
   "source": [
    "train_predict_svm = rbf_kernel_svm_clf.predict(trainX)"
   ]
  },
  {
   "cell_type": "code",
   "execution_count": 155,
   "metadata": {},
   "outputs": [
    {
     "data": {
      "text/plain": [
       "[<matplotlib.lines.Line2D at 0x140972f8>]"
      ]
     },
     "execution_count": 155,
     "metadata": {},
     "output_type": "execute_result"
    },
    {
     "data": {
      "image/png": "[encoded data removed]",
      "text/plain": [
       "<Figure size 432x288 with 1 Axes>"
      ]
     },
     "metadata": {
      "needs_background": "light"
     },
     "output_type": "display_data"
    }
   ],
   "source": [
    "plt.plot(train_predict_svm)"
   ]
  },
  {
   "cell_type": "code",
   "execution_count": null,
   "metadata": {},
   "outputs": [],
   "source": []
  }
 ],
 "metadata": {
  "kernelspec": {
   "display_name": "Python 3.8.3 32-bit",
   "language": "python",
   "name": "python38332bit34a52a6bc7f44ac1b0498f44c0e74f26"
  },
  "language_info": {
   "codemirror_mode": {
    "name": "ipython",
    "version": 3
   },
   "file_extension": ".py",
   "mimetype": "text/x-python",
   "name": "python",
   "nbconvert_exporter": "python",
   "pygments_lexer": "ipython3",
   "version": "3.8.3"
  }
 },
 "nbformat": 4,
 "nbformat_minor": 2
}
