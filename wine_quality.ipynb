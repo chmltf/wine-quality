{
 "cells": [
  {
   "cell_type": "markdown",
   "metadata": {},
   "source": [
    "# Wine Quality Predictor "
   ]
  },
  {
   "cell_type": "markdown",
   "metadata": {},
   "source": [
    "Can you tell the difference between a 100 pound bottle of wine and a 5 pound one? Is there a difference between them that we can measure, could we actually predict the quality?\n",
    "\n",
    "Here we use a dataset of vinho verde wines from Portugal. They've gathered features such as acidity, density, sugar content, and alcohol percentage for 6497 wines. Then, they brought in wine tasters to give a score from 1 to 10 on the quality of wine.\n",
    "\n",
    "In the literature paper where the dataset is initially published, the authors used Support Vector Machines (SVM) with a Gaussian Kernal, a Neural Network with a perceptron, and a Multiple Linear Regression to predict wine quality. They found that the SVM outperformed the other two. I thought I would compare the Logistic Regression and SVM models to see which performed better on the dataset."
   ]
  },
  {
   "cell_type": "markdown",
   "metadata": {},
   "source": [
    "## Navigation"
   ]
  },
  {
   "cell_type": "markdown",
   "metadata": {},
   "source": [
    "* [Data Extraction/Preparation](#first-bullet)\n",
    "* [Logistic Regression model](#second-bullet)\n",
    "    * [Error Analysis with Logistic Regression](#third-bullet)\n",
    "    * [Precision Recall Curves](#fourth-bullet)\n",
    "* [Support Vector Machines with Gaussian Kernal Model](#fifth-bullet)\n",
    "* [Separating Dataset into Red and White Wines](#sixth-bullet)\n",
    "* [Summary](#seventh-bullet)"
   ]
  },
  {
   "cell_type": "markdown",
   "metadata": {},
   "source": [
    "## Data Extraction/Preparation <a class=\"anchor\" id=\"first-bullet\"></a>"
   ]
  },
  {
   "cell_type": "code",
   "execution_count": 1,
   "metadata": {},
   "outputs": [],
   "source": [
    "import pandas as pd\n",
    "import seaborn as sb\n",
    "import numpy as np\n",
    "import matplotlib.pyplot as plt"
   ]
  },
  {
   "cell_type": "code",
   "execution_count": 2,
   "metadata": {},
   "outputs": [
    {
     "data": {
      "text/html": [
       "<div>\n",
       "<style scoped>\n",
       "    .dataframe tbody tr th:only-of-type {\n",
       "        vertical-align: middle;\n",
       "    }\n",
       "\n",
       "    .dataframe tbody tr th {\n",
       "        vertical-align: top;\n",
       "    }\n",
       "\n",
       "    .dataframe thead th {\n",
       "        text-align: right;\n",
       "    }\n",
       "</style>\n",
       "<table border=\"1\" class=\"dataframe\">\n",
       "  <thead>\n",
       "    <tr style=\"text-align: right;\">\n",
       "      <th></th>\n",
       "      <th>type</th>\n",
       "      <th>fixed acidity</th>\n",
       "      <th>volatile acidity</th>\n",
       "      <th>citric acid</th>\n",
       "      <th>residual sugar</th>\n",
       "      <th>chlorides</th>\n",
       "      <th>free sulfur dioxide</th>\n",
       "      <th>total sulfur dioxide</th>\n",
       "      <th>density</th>\n",
       "      <th>pH</th>\n",
       "      <th>sulphates</th>\n",
       "      <th>alcohol</th>\n",
       "      <th>quality</th>\n",
       "    </tr>\n",
       "  </thead>\n",
       "  <tbody>\n",
       "    <tr>\n",
       "      <th>0</th>\n",
       "      <td>white</td>\n",
       "      <td>7.0</td>\n",
       "      <td>0.27</td>\n",
       "      <td>0.36</td>\n",
       "      <td>20.7</td>\n",
       "      <td>0.045</td>\n",
       "      <td>45.0</td>\n",
       "      <td>170.0</td>\n",
       "      <td>1.0010</td>\n",
       "      <td>3.00</td>\n",
       "      <td>0.45</td>\n",
       "      <td>8.8</td>\n",
       "      <td>6</td>\n",
       "    </tr>\n",
       "    <tr>\n",
       "      <th>1</th>\n",
       "      <td>white</td>\n",
       "      <td>6.3</td>\n",
       "      <td>0.30</td>\n",
       "      <td>0.34</td>\n",
       "      <td>1.6</td>\n",
       "      <td>0.049</td>\n",
       "      <td>14.0</td>\n",
       "      <td>132.0</td>\n",
       "      <td>0.9940</td>\n",
       "      <td>3.30</td>\n",
       "      <td>0.49</td>\n",
       "      <td>9.5</td>\n",
       "      <td>6</td>\n",
       "    </tr>\n",
       "    <tr>\n",
       "      <th>2</th>\n",
       "      <td>white</td>\n",
       "      <td>8.1</td>\n",
       "      <td>0.28</td>\n",
       "      <td>0.40</td>\n",
       "      <td>6.9</td>\n",
       "      <td>0.050</td>\n",
       "      <td>30.0</td>\n",
       "      <td>97.0</td>\n",
       "      <td>0.9951</td>\n",
       "      <td>3.26</td>\n",
       "      <td>0.44</td>\n",
       "      <td>10.1</td>\n",
       "      <td>6</td>\n",
       "    </tr>\n",
       "    <tr>\n",
       "      <th>3</th>\n",
       "      <td>white</td>\n",
       "      <td>7.2</td>\n",
       "      <td>0.23</td>\n",
       "      <td>0.32</td>\n",
       "      <td>8.5</td>\n",
       "      <td>0.058</td>\n",
       "      <td>47.0</td>\n",
       "      <td>186.0</td>\n",
       "      <td>0.9956</td>\n",
       "      <td>3.19</td>\n",
       "      <td>0.40</td>\n",
       "      <td>9.9</td>\n",
       "      <td>6</td>\n",
       "    </tr>\n",
       "    <tr>\n",
       "      <th>4</th>\n",
       "      <td>white</td>\n",
       "      <td>7.2</td>\n",
       "      <td>0.23</td>\n",
       "      <td>0.32</td>\n",
       "      <td>8.5</td>\n",
       "      <td>0.058</td>\n",
       "      <td>47.0</td>\n",
       "      <td>186.0</td>\n",
       "      <td>0.9956</td>\n",
       "      <td>3.19</td>\n",
       "      <td>0.40</td>\n",
       "      <td>9.9</td>\n",
       "      <td>6</td>\n",
       "    </tr>\n",
       "  </tbody>\n",
       "</table>\n",
       "</div>"
      ],
      "text/plain": [
       "    type  fixed acidity  volatile acidity  citric acid  residual sugar  \\\n",
       "0  white            7.0              0.27         0.36            20.7   \n",
       "1  white            6.3              0.30         0.34             1.6   \n",
       "2  white            8.1              0.28         0.40             6.9   \n",
       "3  white            7.2              0.23         0.32             8.5   \n",
       "4  white            7.2              0.23         0.32             8.5   \n",
       "\n",
       "   chlorides  free sulfur dioxide  total sulfur dioxide  density    pH  \\\n",
       "0      0.045                 45.0                 170.0   1.0010  3.00   \n",
       "1      0.049                 14.0                 132.0   0.9940  3.30   \n",
       "2      0.050                 30.0                  97.0   0.9951  3.26   \n",
       "3      0.058                 47.0                 186.0   0.9956  3.19   \n",
       "4      0.058                 47.0                 186.0   0.9956  3.19   \n",
       "\n",
       "   sulphates  alcohol  quality  \n",
       "0       0.45      8.8        6  \n",
       "1       0.49      9.5        6  \n",
       "2       0.44     10.1        6  \n",
       "3       0.40      9.9        6  \n",
       "4       0.40      9.9        6  "
      ]
     },
     "execution_count": 2,
     "metadata": {},
     "output_type": "execute_result"
    }
   ],
   "source": [
    "data = pd.read_csv('winequalityN.csv')\n",
    "data.head()"
   ]
  },
  {
   "cell_type": "markdown",
   "metadata": {},
   "source": [
    "Above we've imported the data. The columns are the features of our model. The last column is the target, quality.\n",
    "\n",
    "Below we will turn the \"type\" column into a binary classifier column which we will call colour. If the type is \"red\" then the colour will be 1, if \"white\" then 0."
   ]
  },
  {
   "cell_type": "code",
   "execution_count": 3,
   "metadata": {},
   "outputs": [
    {
     "data": {
      "text/html": [
       "<div>\n",
       "<style scoped>\n",
       "    .dataframe tbody tr th:only-of-type {\n",
       "        vertical-align: middle;\n",
       "    }\n",
       "\n",
       "    .dataframe tbody tr th {\n",
       "        vertical-align: top;\n",
       "    }\n",
       "\n",
       "    .dataframe thead th {\n",
       "        text-align: right;\n",
       "    }\n",
       "</style>\n",
       "<table border=\"1\" class=\"dataframe\">\n",
       "  <thead>\n",
       "    <tr style=\"text-align: right;\">\n",
       "      <th></th>\n",
       "      <th>type</th>\n",
       "      <th>fixed acidity</th>\n",
       "      <th>volatile acidity</th>\n",
       "      <th>citric acid</th>\n",
       "      <th>residual sugar</th>\n",
       "      <th>chlorides</th>\n",
       "      <th>free sulfur dioxide</th>\n",
       "      <th>total sulfur dioxide</th>\n",
       "      <th>density</th>\n",
       "      <th>pH</th>\n",
       "      <th>sulphates</th>\n",
       "      <th>alcohol</th>\n",
       "      <th>quality</th>\n",
       "      <th>color</th>\n",
       "    </tr>\n",
       "  </thead>\n",
       "  <tbody>\n",
       "    <tr>\n",
       "      <th>0</th>\n",
       "      <td>white</td>\n",
       "      <td>7.0</td>\n",
       "      <td>0.27</td>\n",
       "      <td>0.36</td>\n",
       "      <td>20.7</td>\n",
       "      <td>0.045</td>\n",
       "      <td>45.0</td>\n",
       "      <td>170.0</td>\n",
       "      <td>1.0010</td>\n",
       "      <td>3.00</td>\n",
       "      <td>0.45</td>\n",
       "      <td>8.8</td>\n",
       "      <td>6</td>\n",
       "      <td>0</td>\n",
       "    </tr>\n",
       "    <tr>\n",
       "      <th>1</th>\n",
       "      <td>white</td>\n",
       "      <td>6.3</td>\n",
       "      <td>0.30</td>\n",
       "      <td>0.34</td>\n",
       "      <td>1.6</td>\n",
       "      <td>0.049</td>\n",
       "      <td>14.0</td>\n",
       "      <td>132.0</td>\n",
       "      <td>0.9940</td>\n",
       "      <td>3.30</td>\n",
       "      <td>0.49</td>\n",
       "      <td>9.5</td>\n",
       "      <td>6</td>\n",
       "      <td>0</td>\n",
       "    </tr>\n",
       "    <tr>\n",
       "      <th>2</th>\n",
       "      <td>white</td>\n",
       "      <td>8.1</td>\n",
       "      <td>0.28</td>\n",
       "      <td>0.40</td>\n",
       "      <td>6.9</td>\n",
       "      <td>0.050</td>\n",
       "      <td>30.0</td>\n",
       "      <td>97.0</td>\n",
       "      <td>0.9951</td>\n",
       "      <td>3.26</td>\n",
       "      <td>0.44</td>\n",
       "      <td>10.1</td>\n",
       "      <td>6</td>\n",
       "      <td>0</td>\n",
       "    </tr>\n",
       "    <tr>\n",
       "      <th>3</th>\n",
       "      <td>white</td>\n",
       "      <td>7.2</td>\n",
       "      <td>0.23</td>\n",
       "      <td>0.32</td>\n",
       "      <td>8.5</td>\n",
       "      <td>0.058</td>\n",
       "      <td>47.0</td>\n",
       "      <td>186.0</td>\n",
       "      <td>0.9956</td>\n",
       "      <td>3.19</td>\n",
       "      <td>0.40</td>\n",
       "      <td>9.9</td>\n",
       "      <td>6</td>\n",
       "      <td>0</td>\n",
       "    </tr>\n",
       "    <tr>\n",
       "      <th>4</th>\n",
       "      <td>white</td>\n",
       "      <td>7.2</td>\n",
       "      <td>0.23</td>\n",
       "      <td>0.32</td>\n",
       "      <td>8.5</td>\n",
       "      <td>0.058</td>\n",
       "      <td>47.0</td>\n",
       "      <td>186.0</td>\n",
       "      <td>0.9956</td>\n",
       "      <td>3.19</td>\n",
       "      <td>0.40</td>\n",
       "      <td>9.9</td>\n",
       "      <td>6</td>\n",
       "      <td>0</td>\n",
       "    </tr>\n",
       "  </tbody>\n",
       "</table>\n",
       "</div>"
      ],
      "text/plain": [
       "    type  fixed acidity  volatile acidity  citric acid  residual sugar  \\\n",
       "0  white            7.0              0.27         0.36            20.7   \n",
       "1  white            6.3              0.30         0.34             1.6   \n",
       "2  white            8.1              0.28         0.40             6.9   \n",
       "3  white            7.2              0.23         0.32             8.5   \n",
       "4  white            7.2              0.23         0.32             8.5   \n",
       "\n",
       "   chlorides  free sulfur dioxide  total sulfur dioxide  density    pH  \\\n",
       "0      0.045                 45.0                 170.0   1.0010  3.00   \n",
       "1      0.049                 14.0                 132.0   0.9940  3.30   \n",
       "2      0.050                 30.0                  97.0   0.9951  3.26   \n",
       "3      0.058                 47.0                 186.0   0.9956  3.19   \n",
       "4      0.058                 47.0                 186.0   0.9956  3.19   \n",
       "\n",
       "   sulphates  alcohol  quality  color  \n",
       "0       0.45      8.8        6      0  \n",
       "1       0.49      9.5        6      0  \n",
       "2       0.44     10.1        6      0  \n",
       "3       0.40      9.9        6      0  \n",
       "4       0.40      9.9        6      0  "
      ]
     },
     "execution_count": 3,
     "metadata": {},
     "output_type": "execute_result"
    }
   ],
   "source": [
    "data.loc[:,'color'] = np.where(data['type'] != 'white', 1, 0)\n",
    "data.head()"
   ]
  },
  {
   "cell_type": "markdown",
   "metadata": {},
   "source": [
    "We will drop the type feature now that we have the binary classifier which is easier to work with. We will also drop any instances for which there is missing data."
   ]
  },
  {
   "cell_type": "code",
   "execution_count": 4,
   "metadata": {},
   "outputs": [],
   "source": [
    "data.drop('type', axis = 1, inplace = True)"
   ]
  },
  {
   "cell_type": "code",
   "execution_count": 5,
   "metadata": {},
   "outputs": [
    {
     "data": {
      "text/plain": [
       "fixed acidity           10\n",
       "volatile acidity         8\n",
       "citric acid              3\n",
       "residual sugar           2\n",
       "chlorides                2\n",
       "free sulfur dioxide      0\n",
       "total sulfur dioxide     0\n",
       "density                  0\n",
       "pH                       9\n",
       "sulphates                4\n",
       "alcohol                  0\n",
       "quality                  0\n",
       "color                    0\n",
       "dtype: int64"
      ]
     },
     "execution_count": 5,
     "metadata": {},
     "output_type": "execute_result"
    }
   ],
   "source": [
    "data.isna().sum()"
   ]
  },
  {
   "cell_type": "code",
   "execution_count": 6,
   "metadata": {},
   "outputs": [
    {
     "data": {
      "text/plain": [
       "fixed acidity           0\n",
       "volatile acidity        0\n",
       "citric acid             0\n",
       "residual sugar          0\n",
       "chlorides               0\n",
       "free sulfur dioxide     0\n",
       "total sulfur dioxide    0\n",
       "density                 0\n",
       "pH                      0\n",
       "sulphates               0\n",
       "alcohol                 0\n",
       "quality                 0\n",
       "color                   0\n",
       "dtype: int64"
      ]
     },
     "execution_count": 6,
     "metadata": {},
     "output_type": "execute_result"
    }
   ],
   "source": [
    "data.dropna(inplace = True, axis = 0)\n",
    "data.isna().sum()"
   ]
  },
  {
   "cell_type": "markdown",
   "metadata": {},
   "source": [
    "Logistic regression, like many machine learning models, requires the features to be scaled. We will apply mean normalisation so the features are the same order of magnitude."
   ]
  },
  {
   "cell_type": "code",
   "execution_count": 7,
   "metadata": {},
   "outputs": [],
   "source": [
    "mean = data.mean()\n",
    "stdev = data.std()\n",
    "\n",
    "FSdata = (data - mean) / stdev"
   ]
  },
  {
   "cell_type": "code",
   "execution_count": 8,
   "metadata": {},
   "outputs": [
    {
     "name": "stdout",
     "output_type": "stream",
     "text": [
      "min value:  \n",
      " \n",
      " fixed acidity          -2.633270\n",
      "volatile acidity       -1.576715\n",
      "citric acid            -2.194510\n",
      "residual sugar         -1.018312\n",
      "chlorides              -1.341551\n",
      "free sulfur dioxide    -1.662097\n",
      "total sulfur dioxide   -1.940577\n",
      "density                -2.528009\n",
      "pH                     -3.101975\n",
      "sulphates              -2.089467\n",
      "alcohol                -2.089319\n",
      "quality                -3.227471\n",
      "color                  -0.571886\n",
      "dtype: float64 \n",
      " \n",
      " max value \n",
      " \n",
      " fixed acidity            6.689389\n",
      "volatile acidity         7.534114\n",
      "citric acid              9.233882\n",
      "residual sugar          12.688233\n",
      "chlorides               15.821267\n",
      "free sulfur dioxide     14.555201\n",
      "total sulfur dioxide     5.737206\n",
      "density                 14.753675\n",
      "pH                       4.927908\n",
      "sulphates                9.863789\n",
      "alcohol                  3.693798\n",
      "quality                  3.643130\n",
      "color                    1.748328\n",
      "dtype: float64\n"
     ]
    }
   ],
   "source": [
    "print('min value: ', \"\\n\", \"\\n\", FSdata.min(),\"\\n\", \"\\n\", 'max value', \"\\n\", \"\\n\", FSdata.max())"
   ]
  },
  {
   "cell_type": "code",
   "execution_count": 9,
   "metadata": {},
   "outputs": [
    {
     "data": {
      "text/plain": [
       "fixed acidity             7.217755\n",
       "volatile acidity          0.339589\n",
       "citric acid               0.318758\n",
       "residual sugar            5.443958\n",
       "chlorides                 0.056056\n",
       "free sulfur dioxide      30.516865\n",
       "total sulfur dioxide    115.694492\n",
       "density                   0.994698\n",
       "pH                        3.218332\n",
       "sulphates                 0.531150\n",
       "alcohol                  10.492825\n",
       "quality                   5.818505\n",
       "color                     0.246480\n",
       "dtype: float64"
      ]
     },
     "execution_count": 9,
     "metadata": {},
     "output_type": "execute_result"
    }
   ],
   "source": [
    "mean"
   ]
  },
  {
   "cell_type": "markdown",
   "metadata": {},
   "source": [
    "Whoops, we don't want to transform the quality column. Let's undo that."
   ]
  },
  {
   "cell_type": "code",
   "execution_count": 10,
   "metadata": {},
   "outputs": [],
   "source": [
    "FSdata['quality'] = (FSdata['quality'] * stdev['quality']) + mean['quality']"
   ]
  },
  {
   "cell_type": "code",
   "execution_count": 11,
   "metadata": {},
   "outputs": [
    {
     "data": {
      "text/html": [
       "<div>\n",
       "<style scoped>\n",
       "    .dataframe tbody tr th:only-of-type {\n",
       "        vertical-align: middle;\n",
       "    }\n",
       "\n",
       "    .dataframe tbody tr th {\n",
       "        vertical-align: top;\n",
       "    }\n",
       "\n",
       "    .dataframe thead th {\n",
       "        text-align: right;\n",
       "    }\n",
       "</style>\n",
       "<table border=\"1\" class=\"dataframe\">\n",
       "  <thead>\n",
       "    <tr style=\"text-align: right;\">\n",
       "      <th></th>\n",
       "      <th>fixed acidity</th>\n",
       "      <th>volatile acidity</th>\n",
       "      <th>citric acid</th>\n",
       "      <th>residual sugar</th>\n",
       "      <th>chlorides</th>\n",
       "      <th>free sulfur dioxide</th>\n",
       "      <th>total sulfur dioxide</th>\n",
       "      <th>density</th>\n",
       "      <th>pH</th>\n",
       "      <th>sulphates</th>\n",
       "      <th>alcohol</th>\n",
       "      <th>quality</th>\n",
       "      <th>color</th>\n",
       "    </tr>\n",
       "  </thead>\n",
       "  <tbody>\n",
       "    <tr>\n",
       "      <th>0</th>\n",
       "      <td>-0.167773</td>\n",
       "      <td>-0.422677</td>\n",
       "      <td>0.283937</td>\n",
       "      <td>3.207172</td>\n",
       "      <td>-0.315203</td>\n",
       "      <td>0.815546</td>\n",
       "      <td>0.960705</td>\n",
       "      <td>2.099764</td>\n",
       "      <td>-1.359055</td>\n",
       "      <td>-0.544945</td>\n",
       "      <td>-1.418813</td>\n",
       "      <td>6.0</td>\n",
       "      <td>-0.571886</td>\n",
       "    </tr>\n",
       "    <tr>\n",
       "      <th>1</th>\n",
       "      <td>-0.707100</td>\n",
       "      <td>-0.240460</td>\n",
       "      <td>0.146245</td>\n",
       "      <td>-0.808089</td>\n",
       "      <td>-0.201165</td>\n",
       "      <td>-0.930066</td>\n",
       "      <td>0.288457</td>\n",
       "      <td>-0.232447</td>\n",
       "      <td>0.508360</td>\n",
       "      <td>-0.276333</td>\n",
       "      <td>-0.832120</td>\n",
       "      <td>6.0</td>\n",
       "      <td>-0.571886</td>\n",
       "    </tr>\n",
       "    <tr>\n",
       "      <th>2</th>\n",
       "      <td>0.679741</td>\n",
       "      <td>-0.361938</td>\n",
       "      <td>0.559320</td>\n",
       "      <td>0.306094</td>\n",
       "      <td>-0.172655</td>\n",
       "      <td>-0.029105</td>\n",
       "      <td>-0.330719</td>\n",
       "      <td>0.134043</td>\n",
       "      <td>0.259371</td>\n",
       "      <td>-0.612098</td>\n",
       "      <td>-0.329240</td>\n",
       "      <td>6.0</td>\n",
       "      <td>-0.571886</td>\n",
       "    </tr>\n",
       "    <tr>\n",
       "      <th>3</th>\n",
       "      <td>-0.013680</td>\n",
       "      <td>-0.665632</td>\n",
       "      <td>0.008554</td>\n",
       "      <td>0.642451</td>\n",
       "      <td>0.055422</td>\n",
       "      <td>0.928166</td>\n",
       "      <td>1.243757</td>\n",
       "      <td>0.300630</td>\n",
       "      <td>-0.176359</td>\n",
       "      <td>-0.880711</td>\n",
       "      <td>-0.496866</td>\n",
       "      <td>6.0</td>\n",
       "      <td>-0.571886</td>\n",
       "    </tr>\n",
       "    <tr>\n",
       "      <th>4</th>\n",
       "      <td>-0.013680</td>\n",
       "      <td>-0.665632</td>\n",
       "      <td>0.008554</td>\n",
       "      <td>0.642451</td>\n",
       "      <td>0.055422</td>\n",
       "      <td>0.928166</td>\n",
       "      <td>1.243757</td>\n",
       "      <td>0.300630</td>\n",
       "      <td>-0.176359</td>\n",
       "      <td>-0.880711</td>\n",
       "      <td>-0.496866</td>\n",
       "      <td>6.0</td>\n",
       "      <td>-0.571886</td>\n",
       "    </tr>\n",
       "    <tr>\n",
       "      <th>...</th>\n",
       "      <td>...</td>\n",
       "      <td>...</td>\n",
       "      <td>...</td>\n",
       "      <td>...</td>\n",
       "      <td>...</td>\n",
       "      <td>...</td>\n",
       "      <td>...</td>\n",
       "      <td>...</td>\n",
       "      <td>...</td>\n",
       "      <td>...</td>\n",
       "      <td>...</td>\n",
       "      <td>...</td>\n",
       "      <td>...</td>\n",
       "    </tr>\n",
       "    <tr>\n",
       "      <th>6491</th>\n",
       "      <td>-0.321867</td>\n",
       "      <td>1.703183</td>\n",
       "      <td>-1.643744</td>\n",
       "      <td>-0.745022</td>\n",
       "      <td>0.340519</td>\n",
       "      <td>-0.141725</td>\n",
       "      <td>-1.374473</td>\n",
       "      <td>0.603817</td>\n",
       "      <td>1.255326</td>\n",
       "      <td>1.939720</td>\n",
       "      <td>-0.832120</td>\n",
       "      <td>6.0</td>\n",
       "      <td>1.748328</td>\n",
       "    </tr>\n",
       "    <tr>\n",
       "      <th>6492</th>\n",
       "      <td>-0.784147</td>\n",
       "      <td>1.581706</td>\n",
       "      <td>-1.643744</td>\n",
       "      <td>-0.723999</td>\n",
       "      <td>0.967732</td>\n",
       "      <td>0.083515</td>\n",
       "      <td>-1.268329</td>\n",
       "      <td>0.067408</td>\n",
       "      <td>1.442067</td>\n",
       "      <td>0.328046</td>\n",
       "      <td>0.006013</td>\n",
       "      <td>5.0</td>\n",
       "      <td>1.748328</td>\n",
       "    </tr>\n",
       "    <tr>\n",
       "      <th>6494</th>\n",
       "      <td>-0.707100</td>\n",
       "      <td>1.035056</td>\n",
       "      <td>-1.299515</td>\n",
       "      <td>-0.660933</td>\n",
       "      <td>0.568596</td>\n",
       "      <td>-0.085415</td>\n",
       "      <td>-1.339092</td>\n",
       "      <td>0.347274</td>\n",
       "      <td>1.255326</td>\n",
       "      <td>1.469649</td>\n",
       "      <td>0.425080</td>\n",
       "      <td>6.0</td>\n",
       "      <td>1.748328</td>\n",
       "    </tr>\n",
       "    <tr>\n",
       "      <th>6495</th>\n",
       "      <td>-1.015288</td>\n",
       "      <td>1.855030</td>\n",
       "      <td>-1.368361</td>\n",
       "      <td>-0.723999</td>\n",
       "      <td>0.540087</td>\n",
       "      <td>0.083515</td>\n",
       "      <td>-1.268329</td>\n",
       "      <td>0.257317</td>\n",
       "      <td>2.189033</td>\n",
       "      <td>1.201036</td>\n",
       "      <td>-0.245427</td>\n",
       "      <td>5.0</td>\n",
       "      <td>1.748328</td>\n",
       "    </tr>\n",
       "    <tr>\n",
       "      <th>6496</th>\n",
       "      <td>-0.938241</td>\n",
       "      <td>-0.179721</td>\n",
       "      <td>1.041240</td>\n",
       "      <td>-0.387643</td>\n",
       "      <td>0.312009</td>\n",
       "      <td>-0.704825</td>\n",
       "      <td>-1.303710</td>\n",
       "      <td>0.263980</td>\n",
       "      <td>1.068584</td>\n",
       "      <td>0.865271</td>\n",
       "      <td>0.425080</td>\n",
       "      <td>6.0</td>\n",
       "      <td>1.748328</td>\n",
       "    </tr>\n",
       "  </tbody>\n",
       "</table>\n",
       "<p>6463 rows × 13 columns</p>\n",
       "</div>"
      ],
      "text/plain": [
       "      fixed acidity  volatile acidity  citric acid  residual sugar  chlorides  \\\n",
       "0         -0.167773         -0.422677     0.283937        3.207172  -0.315203   \n",
       "1         -0.707100         -0.240460     0.146245       -0.808089  -0.201165   \n",
       "2          0.679741         -0.361938     0.559320        0.306094  -0.172655   \n",
       "3         -0.013680         -0.665632     0.008554        0.642451   0.055422   \n",
       "4         -0.013680         -0.665632     0.008554        0.642451   0.055422   \n",
       "...             ...               ...          ...             ...        ...   \n",
       "6491      -0.321867          1.703183    -1.643744       -0.745022   0.340519   \n",
       "6492      -0.784147          1.581706    -1.643744       -0.723999   0.967732   \n",
       "6494      -0.707100          1.035056    -1.299515       -0.660933   0.568596   \n",
       "6495      -1.015288          1.855030    -1.368361       -0.723999   0.540087   \n",
       "6496      -0.938241         -0.179721     1.041240       -0.387643   0.312009   \n",
       "\n",
       "      free sulfur dioxide  total sulfur dioxide   density        pH  \\\n",
       "0                0.815546              0.960705  2.099764 -1.359055   \n",
       "1               -0.930066              0.288457 -0.232447  0.508360   \n",
       "2               -0.029105             -0.330719  0.134043  0.259371   \n",
       "3                0.928166              1.243757  0.300630 -0.176359   \n",
       "4                0.928166              1.243757  0.300630 -0.176359   \n",
       "...                   ...                   ...       ...       ...   \n",
       "6491            -0.141725             -1.374473  0.603817  1.255326   \n",
       "6492             0.083515             -1.268329  0.067408  1.442067   \n",
       "6494            -0.085415             -1.339092  0.347274  1.255326   \n",
       "6495             0.083515             -1.268329  0.257317  2.189033   \n",
       "6496            -0.704825             -1.303710  0.263980  1.068584   \n",
       "\n",
       "      sulphates   alcohol  quality     color  \n",
       "0     -0.544945 -1.418813      6.0 -0.571886  \n",
       "1     -0.276333 -0.832120      6.0 -0.571886  \n",
       "2     -0.612098 -0.329240      6.0 -0.571886  \n",
       "3     -0.880711 -0.496866      6.0 -0.571886  \n",
       "4     -0.880711 -0.496866      6.0 -0.571886  \n",
       "...         ...       ...      ...       ...  \n",
       "6491   1.939720 -0.832120      6.0  1.748328  \n",
       "6492   0.328046  0.006013      5.0  1.748328  \n",
       "6494   1.469649  0.425080      6.0  1.748328  \n",
       "6495   1.201036 -0.245427      5.0  1.748328  \n",
       "6496   0.865271  0.425080      6.0  1.748328  \n",
       "\n",
       "[6463 rows x 13 columns]"
      ]
     },
     "execution_count": 11,
     "metadata": {},
     "output_type": "execute_result"
    }
   ],
   "source": [
    "FSdata"
   ]
  },
  {
   "cell_type": "code",
   "execution_count": 12,
   "metadata": {},
   "outputs": [
    {
     "data": {
      "text/html": [
       "<div>\n",
       "<style scoped>\n",
       "    .dataframe tbody tr th:only-of-type {\n",
       "        vertical-align: middle;\n",
       "    }\n",
       "\n",
       "    .dataframe tbody tr th {\n",
       "        vertical-align: top;\n",
       "    }\n",
       "\n",
       "    .dataframe thead th {\n",
       "        text-align: right;\n",
       "    }\n",
       "</style>\n",
       "<table border=\"1\" class=\"dataframe\">\n",
       "  <thead>\n",
       "    <tr style=\"text-align: right;\">\n",
       "      <th></th>\n",
       "      <th>fixed acidity</th>\n",
       "      <th>volatile acidity</th>\n",
       "      <th>citric acid</th>\n",
       "      <th>residual sugar</th>\n",
       "      <th>chlorides</th>\n",
       "      <th>free sulfur dioxide</th>\n",
       "      <th>total sulfur dioxide</th>\n",
       "      <th>density</th>\n",
       "      <th>pH</th>\n",
       "      <th>sulphates</th>\n",
       "      <th>alcohol</th>\n",
       "      <th>color</th>\n",
       "    </tr>\n",
       "    <tr>\n",
       "      <th>quality</th>\n",
       "      <th></th>\n",
       "      <th></th>\n",
       "      <th></th>\n",
       "      <th></th>\n",
       "      <th></th>\n",
       "      <th></th>\n",
       "      <th></th>\n",
       "      <th></th>\n",
       "      <th></th>\n",
       "      <th></th>\n",
       "      <th></th>\n",
       "      <th></th>\n",
       "    </tr>\n",
       "  </thead>\n",
       "  <tbody>\n",
       "    <tr>\n",
       "      <th>3.0</th>\n",
       "      <td>30</td>\n",
       "      <td>30</td>\n",
       "      <td>30</td>\n",
       "      <td>30</td>\n",
       "      <td>30</td>\n",
       "      <td>30</td>\n",
       "      <td>30</td>\n",
       "      <td>30</td>\n",
       "      <td>30</td>\n",
       "      <td>30</td>\n",
       "      <td>30</td>\n",
       "      <td>30</td>\n",
       "    </tr>\n",
       "    <tr>\n",
       "      <th>4.0</th>\n",
       "      <td>214</td>\n",
       "      <td>214</td>\n",
       "      <td>214</td>\n",
       "      <td>214</td>\n",
       "      <td>214</td>\n",
       "      <td>214</td>\n",
       "      <td>214</td>\n",
       "      <td>214</td>\n",
       "      <td>214</td>\n",
       "      <td>214</td>\n",
       "      <td>214</td>\n",
       "      <td>214</td>\n",
       "    </tr>\n",
       "    <tr>\n",
       "      <th>5.0</th>\n",
       "      <td>2128</td>\n",
       "      <td>2128</td>\n",
       "      <td>2128</td>\n",
       "      <td>2128</td>\n",
       "      <td>2128</td>\n",
       "      <td>2128</td>\n",
       "      <td>2128</td>\n",
       "      <td>2128</td>\n",
       "      <td>2128</td>\n",
       "      <td>2128</td>\n",
       "      <td>2128</td>\n",
       "      <td>2128</td>\n",
       "    </tr>\n",
       "    <tr>\n",
       "      <th>6.0</th>\n",
       "      <td>2820</td>\n",
       "      <td>2820</td>\n",
       "      <td>2820</td>\n",
       "      <td>2820</td>\n",
       "      <td>2820</td>\n",
       "      <td>2820</td>\n",
       "      <td>2820</td>\n",
       "      <td>2820</td>\n",
       "      <td>2820</td>\n",
       "      <td>2820</td>\n",
       "      <td>2820</td>\n",
       "      <td>2820</td>\n",
       "    </tr>\n",
       "    <tr>\n",
       "      <th>7.0</th>\n",
       "      <td>1074</td>\n",
       "      <td>1074</td>\n",
       "      <td>1074</td>\n",
       "      <td>1074</td>\n",
       "      <td>1074</td>\n",
       "      <td>1074</td>\n",
       "      <td>1074</td>\n",
       "      <td>1074</td>\n",
       "      <td>1074</td>\n",
       "      <td>1074</td>\n",
       "      <td>1074</td>\n",
       "      <td>1074</td>\n",
       "    </tr>\n",
       "    <tr>\n",
       "      <th>8.0</th>\n",
       "      <td>192</td>\n",
       "      <td>192</td>\n",
       "      <td>192</td>\n",
       "      <td>192</td>\n",
       "      <td>192</td>\n",
       "      <td>192</td>\n",
       "      <td>192</td>\n",
       "      <td>192</td>\n",
       "      <td>192</td>\n",
       "      <td>192</td>\n",
       "      <td>192</td>\n",
       "      <td>192</td>\n",
       "    </tr>\n",
       "    <tr>\n",
       "      <th>9.0</th>\n",
       "      <td>5</td>\n",
       "      <td>5</td>\n",
       "      <td>5</td>\n",
       "      <td>5</td>\n",
       "      <td>5</td>\n",
       "      <td>5</td>\n",
       "      <td>5</td>\n",
       "      <td>5</td>\n",
       "      <td>5</td>\n",
       "      <td>5</td>\n",
       "      <td>5</td>\n",
       "      <td>5</td>\n",
       "    </tr>\n",
       "  </tbody>\n",
       "</table>\n",
       "</div>"
      ],
      "text/plain": [
       "         fixed acidity  volatile acidity  citric acid  residual sugar  \\\n",
       "quality                                                                 \n",
       "3.0                 30                30           30              30   \n",
       "4.0                214               214          214             214   \n",
       "5.0               2128              2128         2128            2128   \n",
       "6.0               2820              2820         2820            2820   \n",
       "7.0               1074              1074         1074            1074   \n",
       "8.0                192               192          192             192   \n",
       "9.0                  5                 5            5               5   \n",
       "\n",
       "         chlorides  free sulfur dioxide  total sulfur dioxide  density    pH  \\\n",
       "quality                                                                        \n",
       "3.0             30                   30                    30       30    30   \n",
       "4.0            214                  214                   214      214   214   \n",
       "5.0           2128                 2128                  2128     2128  2128   \n",
       "6.0           2820                 2820                  2820     2820  2820   \n",
       "7.0           1074                 1074                  1074     1074  1074   \n",
       "8.0            192                  192                   192      192   192   \n",
       "9.0              5                    5                     5        5     5   \n",
       "\n",
       "         sulphates  alcohol  color  \n",
       "quality                             \n",
       "3.0             30       30     30  \n",
       "4.0            214      214    214  \n",
       "5.0           2128     2128   2128  \n",
       "6.0           2820     2820   2820  \n",
       "7.0           1074     1074   1074  \n",
       "8.0            192      192    192  \n",
       "9.0              5        5      5  "
      ]
     },
     "execution_count": 12,
     "metadata": {},
     "output_type": "execute_result"
    }
   ],
   "source": [
    "FSdata.groupby('quality').count()"
   ]
  },
  {
   "cell_type": "markdown",
   "metadata": {},
   "source": [
    "Let's make a function that will make training, cross validation, and test sets when we need it to. It will generate the corresponding X and y matrices for each to feed our models."
   ]
  },
  {
   "cell_type": "code",
   "execution_count": 16,
   "metadata": {},
   "outputs": [],
   "source": [
    "def makeTrainCrossValTestSet(data, train_len):\n",
    "    Xcolumns = ['fixed acidity', 'volatile acidity', 'citric acid', 'residual sugar', 'chlorides', 'free sulfur dioxide',\n",
    "            'total sulfur dioxide', 'density', 'pH', 'sulphates', 'alcohol', 'color']\n",
    "    trainCutoff = train_len\n",
    "    trainX = data.loc[0:trainCutoff, Xcolumns]\n",
    "    trainY = data.loc[0:trainCutoff, 'quality']\n",
    "    CVCutoff = round(len(data)*0.8)\n",
    "    CVX = data.loc[(round(len(data)*0.6) + 1):(CVCutoff - 1), Xcolumns]\n",
    "    CVY = data.loc[(round(len(data)*0.6) + 1):(CVCutoff - 1), 'quality']\n",
    "    testX = data.loc[CVCutoff:, Xcolumns]\n",
    "    testY = data.loc[CVCutoff:, 'quality']\n",
    "    return trainX, trainY, CVX, CVY, testX, testY"
   ]
  },
  {
   "cell_type": "markdown",
   "metadata": {},
   "source": [
    "## Logistic Regression <a class=\"anchor\" id=\"second-bullet\"></a>"
   ]
  },
  {
   "cell_type": "markdown",
   "metadata": {},
   "source": [
    "Now let's actually put the data into a logistic regression, one versus all model."
   ]
  },
  {
   "cell_type": "code",
   "execution_count": 50,
   "metadata": {},
   "outputs": [],
   "source": [
    "from sklearn.linear_model import LogisticRegression"
   ]
  },
  {
   "cell_type": "code",
   "execution_count": 51,
   "metadata": {},
   "outputs": [],
   "source": [
    "FSdata = FSdata.sample(frac = 1, random_state = 2)\n",
    "FSdata.reset_index(inplace = True, drop = True)\n",
    "\n",
    "trainX, trainY, CVX, CVY, testX, testY = makeTrainCrossValTestSet(FSdata, round(len(data)*0.6))"
   ]
  },
  {
   "cell_type": "code",
   "execution_count": 52,
   "metadata": {},
   "outputs": [
    {
     "data": {
      "text/plain": [
       "LogisticRegression(max_iter=500, multi_class='ovr', random_state=4)"
      ]
     },
     "execution_count": 52,
     "metadata": {},
     "output_type": "execute_result"
    }
   ],
   "source": [
    "log_reg = LogisticRegression(multi_class = 'ovr', max_iter = 500, solver = 'lbfgs', random_state = 4)\n",
    "log_reg.fit(trainX, trainY)"
   ]
  },
  {
   "cell_type": "code",
   "execution_count": 53,
   "metadata": {},
   "outputs": [],
   "source": [
    "trainY_predict = log_reg.predict_proba(trainX)\n",
    "CVY_predict = log_reg.predict_proba(CVX)"
   ]
  },
  {
   "cell_type": "markdown",
   "metadata": {},
   "source": [
    "Let's have a look at the predictions made by our model for the cross validation set. We will make it into a Pandas DataFrame then give it columns corresponding to the wine quality classes 3-9. It gives us the probability that it is that class. Next, I write some code to assign the instance with the highest probablility that predicted class."
   ]
  },
  {
   "cell_type": "code",
   "execution_count": 54,
   "metadata": {},
   "outputs": [
    {
     "data": {
      "text/html": [
       "<div>\n",
       "<style scoped>\n",
       "    .dataframe tbody tr th:only-of-type {\n",
       "        vertical-align: middle;\n",
       "    }\n",
       "\n",
       "    .dataframe tbody tr th {\n",
       "        vertical-align: top;\n",
       "    }\n",
       "\n",
       "    .dataframe thead th {\n",
       "        text-align: right;\n",
       "    }\n",
       "</style>\n",
       "<table border=\"1\" class=\"dataframe\">\n",
       "  <thead>\n",
       "    <tr style=\"text-align: right;\">\n",
       "      <th></th>\n",
       "      <th>3</th>\n",
       "      <th>4</th>\n",
       "      <th>5</th>\n",
       "      <th>6</th>\n",
       "      <th>7</th>\n",
       "      <th>8</th>\n",
       "      <th>9</th>\n",
       "    </tr>\n",
       "  </thead>\n",
       "  <tbody>\n",
       "    <tr>\n",
       "      <th>0</th>\n",
       "      <td>0.001111</td>\n",
       "      <td>0.004533</td>\n",
       "      <td>0.261738</td>\n",
       "      <td>0.580685</td>\n",
       "      <td>0.141156</td>\n",
       "      <td>0.010732</td>\n",
       "      <td>4.540722e-05</td>\n",
       "    </tr>\n",
       "    <tr>\n",
       "      <th>1</th>\n",
       "      <td>0.000889</td>\n",
       "      <td>0.001721</td>\n",
       "      <td>0.147666</td>\n",
       "      <td>0.589554</td>\n",
       "      <td>0.247907</td>\n",
       "      <td>0.012225</td>\n",
       "      <td>3.685288e-05</td>\n",
       "    </tr>\n",
       "    <tr>\n",
       "      <th>2</th>\n",
       "      <td>0.010808</td>\n",
       "      <td>0.009954</td>\n",
       "      <td>0.376165</td>\n",
       "      <td>0.472285</td>\n",
       "      <td>0.114823</td>\n",
       "      <td>0.015742</td>\n",
       "      <td>2.228013e-04</td>\n",
       "    </tr>\n",
       "    <tr>\n",
       "      <th>3</th>\n",
       "      <td>0.004851</td>\n",
       "      <td>0.002023</td>\n",
       "      <td>0.862709</td>\n",
       "      <td>0.128674</td>\n",
       "      <td>0.001682</td>\n",
       "      <td>0.000061</td>\n",
       "      <td>3.161277e-10</td>\n",
       "    </tr>\n",
       "    <tr>\n",
       "      <th>4</th>\n",
       "      <td>0.004672</td>\n",
       "      <td>0.001347</td>\n",
       "      <td>0.094886</td>\n",
       "      <td>0.480612</td>\n",
       "      <td>0.332102</td>\n",
       "      <td>0.086015</td>\n",
       "      <td>3.668705e-04</td>\n",
       "    </tr>\n",
       "    <tr>\n",
       "      <th>...</th>\n",
       "      <td>...</td>\n",
       "      <td>...</td>\n",
       "      <td>...</td>\n",
       "      <td>...</td>\n",
       "      <td>...</td>\n",
       "      <td>...</td>\n",
       "      <td>...</td>\n",
       "    </tr>\n",
       "    <tr>\n",
       "      <th>1286</th>\n",
       "      <td>0.002683</td>\n",
       "      <td>0.009103</td>\n",
       "      <td>0.468690</td>\n",
       "      <td>0.459980</td>\n",
       "      <td>0.050932</td>\n",
       "      <td>0.008610</td>\n",
       "      <td>2.597683e-06</td>\n",
       "    </tr>\n",
       "    <tr>\n",
       "      <th>1287</th>\n",
       "      <td>0.000452</td>\n",
       "      <td>0.003730</td>\n",
       "      <td>0.141915</td>\n",
       "      <td>0.532273</td>\n",
       "      <td>0.299884</td>\n",
       "      <td>0.021413</td>\n",
       "      <td>3.317493e-04</td>\n",
       "    </tr>\n",
       "    <tr>\n",
       "      <th>1288</th>\n",
       "      <td>0.008175</td>\n",
       "      <td>0.011383</td>\n",
       "      <td>0.446167</td>\n",
       "      <td>0.464878</td>\n",
       "      <td>0.059582</td>\n",
       "      <td>0.009789</td>\n",
       "      <td>2.567336e-05</td>\n",
       "    </tr>\n",
       "    <tr>\n",
       "      <th>1289</th>\n",
       "      <td>0.002019</td>\n",
       "      <td>0.046101</td>\n",
       "      <td>0.296233</td>\n",
       "      <td>0.452941</td>\n",
       "      <td>0.177199</td>\n",
       "      <td>0.025407</td>\n",
       "      <td>9.883027e-05</td>\n",
       "    </tr>\n",
       "    <tr>\n",
       "      <th>1290</th>\n",
       "      <td>0.001318</td>\n",
       "      <td>0.008425</td>\n",
       "      <td>0.388021</td>\n",
       "      <td>0.478183</td>\n",
       "      <td>0.114729</td>\n",
       "      <td>0.009254</td>\n",
       "      <td>7.016705e-05</td>\n",
       "    </tr>\n",
       "  </tbody>\n",
       "</table>\n",
       "<p>1291 rows × 7 columns</p>\n",
       "</div>"
      ],
      "text/plain": [
       "             3         4         5         6         7         8             9\n",
       "0     0.001111  0.004533  0.261738  0.580685  0.141156  0.010732  4.540722e-05\n",
       "1     0.000889  0.001721  0.147666  0.589554  0.247907  0.012225  3.685288e-05\n",
       "2     0.010808  0.009954  0.376165  0.472285  0.114823  0.015742  2.228013e-04\n",
       "3     0.004851  0.002023  0.862709  0.128674  0.001682  0.000061  3.161277e-10\n",
       "4     0.004672  0.001347  0.094886  0.480612  0.332102  0.086015  3.668705e-04\n",
       "...        ...       ...       ...       ...       ...       ...           ...\n",
       "1286  0.002683  0.009103  0.468690  0.459980  0.050932  0.008610  2.597683e-06\n",
       "1287  0.000452  0.003730  0.141915  0.532273  0.299884  0.021413  3.317493e-04\n",
       "1288  0.008175  0.011383  0.446167  0.464878  0.059582  0.009789  2.567336e-05\n",
       "1289  0.002019  0.046101  0.296233  0.452941  0.177199  0.025407  9.883027e-05\n",
       "1290  0.001318  0.008425  0.388021  0.478183  0.114729  0.009254  7.016705e-05\n",
       "\n",
       "[1291 rows x 7 columns]"
      ]
     },
     "execution_count": 54,
     "metadata": {},
     "output_type": "execute_result"
    }
   ],
   "source": [
    "prediction = pd.DataFrame(CVY_predict)\n",
    "prediction.columns = ['3', '4', '5', '6', '7', '8', '9']\n",
    "prediction"
   ]
  },
  {
   "cell_type": "code",
   "execution_count": 55,
   "metadata": {},
   "outputs": [],
   "source": [
    "prediction = prediction.idxmax(axis = 1)"
   ]
  },
  {
   "cell_type": "code",
   "execution_count": 56,
   "metadata": {},
   "outputs": [
    {
     "data": {
      "text/plain": [
       "Text(0, 0.5, 'predicted class')"
      ]
     },
     "execution_count": 56,
     "metadata": {},
     "output_type": "execute_result"
    },
    {
     "data": {
      "image/png": "[encoded data removed]",
      "text/plain": [
       "<Figure size 432x288 with 1 Axes>"
      ]
     },
     "metadata": {
      "needs_background": "light"
     },
     "output_type": "display_data"
    }
   ],
   "source": [
    "prediction = prediction.astype('int')\n",
    "plt.scatter(CVY, prediction) #visualise the data\n",
    "plt.xlabel('actual class')\n",
    "plt.ylabel('predicted class')"
   ]
  },
  {
   "cell_type": "markdown",
   "metadata": {},
   "source": [
    "### Error Analysis <a class=\"anchor\" id=\"third-bullet\"></a>"
   ]
  },
  {
   "cell_type": "markdown",
   "metadata": {},
   "source": [
    "First, we need to classify the predicted class as correct or incorrect."
   ]
  },
  {
   "cell_type": "code",
   "execution_count": 57,
   "metadata": {},
   "outputs": [],
   "source": [
    "CVY.reset_index(drop= True, inplace = True)\n",
    "prediction = prediction.astype(\"float64\")\n",
    "error = CVY - prediction\n",
    "\n",
    "result = np.where(error != 0, 'correct', 'incorrect')\n",
    "result = pd.DataFrame(result)"
   ]
  },
  {
   "cell_type": "code",
   "execution_count": 58,
   "metadata": {},
   "outputs": [
    {
     "data": {
      "text/html": [
       "<div>\n",
       "<style scoped>\n",
       "    .dataframe tbody tr th:only-of-type {\n",
       "        vertical-align: middle;\n",
       "    }\n",
       "\n",
       "    .dataframe tbody tr th {\n",
       "        vertical-align: top;\n",
       "    }\n",
       "\n",
       "    .dataframe thead th {\n",
       "        text-align: right;\n",
       "    }\n",
       "</style>\n",
       "<table border=\"1\" class=\"dataframe\">\n",
       "  <thead>\n",
       "    <tr style=\"text-align: right;\">\n",
       "      <th></th>\n",
       "      <th>0</th>\n",
       "    </tr>\n",
       "  </thead>\n",
       "  <tbody>\n",
       "    <tr>\n",
       "      <th>0</th>\n",
       "      <td>incorrect</td>\n",
       "    </tr>\n",
       "    <tr>\n",
       "      <th>1</th>\n",
       "      <td>incorrect</td>\n",
       "    </tr>\n",
       "    <tr>\n",
       "      <th>2</th>\n",
       "      <td>incorrect</td>\n",
       "    </tr>\n",
       "    <tr>\n",
       "      <th>3</th>\n",
       "      <td>correct</td>\n",
       "    </tr>\n",
       "    <tr>\n",
       "      <th>4</th>\n",
       "      <td>incorrect</td>\n",
       "    </tr>\n",
       "    <tr>\n",
       "      <th>...</th>\n",
       "      <td>...</td>\n",
       "    </tr>\n",
       "    <tr>\n",
       "      <th>1286</th>\n",
       "      <td>correct</td>\n",
       "    </tr>\n",
       "    <tr>\n",
       "      <th>1287</th>\n",
       "      <td>incorrect</td>\n",
       "    </tr>\n",
       "    <tr>\n",
       "      <th>1288</th>\n",
       "      <td>correct</td>\n",
       "    </tr>\n",
       "    <tr>\n",
       "      <th>1289</th>\n",
       "      <td>incorrect</td>\n",
       "    </tr>\n",
       "    <tr>\n",
       "      <th>1290</th>\n",
       "      <td>incorrect</td>\n",
       "    </tr>\n",
       "  </tbody>\n",
       "</table>\n",
       "<p>1291 rows × 1 columns</p>\n",
       "</div>"
      ],
      "text/plain": [
       "              0\n",
       "0     incorrect\n",
       "1     incorrect\n",
       "2     incorrect\n",
       "3       correct\n",
       "4     incorrect\n",
       "...         ...\n",
       "1286    correct\n",
       "1287  incorrect\n",
       "1288    correct\n",
       "1289  incorrect\n",
       "1290  incorrect\n",
       "\n",
       "[1291 rows x 1 columns]"
      ]
     },
     "execution_count": 58,
     "metadata": {},
     "output_type": "execute_result"
    }
   ],
   "source": [
    "result"
   ]
  },
  {
   "cell_type": "code",
   "execution_count": 59,
   "metadata": {},
   "outputs": [
    {
     "data": {
      "text/html": [
       "<div>\n",
       "<style scoped>\n",
       "    .dataframe tbody tr th:only-of-type {\n",
       "        vertical-align: middle;\n",
       "    }\n",
       "\n",
       "    .dataframe tbody tr th {\n",
       "        vertical-align: top;\n",
       "    }\n",
       "\n",
       "    .dataframe thead th {\n",
       "        text-align: right;\n",
       "    }\n",
       "</style>\n",
       "<table border=\"1\" class=\"dataframe\">\n",
       "  <thead>\n",
       "    <tr style=\"text-align: right;\">\n",
       "      <th></th>\n",
       "      <th>0</th>\n",
       "    </tr>\n",
       "  </thead>\n",
       "  <tbody>\n",
       "    <tr>\n",
       "      <th>count</th>\n",
       "      <td>1291</td>\n",
       "    </tr>\n",
       "    <tr>\n",
       "      <th>unique</th>\n",
       "      <td>2</td>\n",
       "    </tr>\n",
       "    <tr>\n",
       "      <th>top</th>\n",
       "      <td>incorrect</td>\n",
       "    </tr>\n",
       "    <tr>\n",
       "      <th>freq</th>\n",
       "      <td>686</td>\n",
       "    </tr>\n",
       "  </tbody>\n",
       "</table>\n",
       "</div>"
      ],
      "text/plain": [
       "                0\n",
       "count        1291\n",
       "unique          2\n",
       "top     incorrect\n",
       "freq          686"
      ]
     },
     "execution_count": 59,
     "metadata": {},
     "output_type": "execute_result"
    }
   ],
   "source": [
    "result.describe()"
   ]
  },
  {
   "cell_type": "code",
   "execution_count": 60,
   "metadata": {},
   "outputs": [],
   "source": [
    "#calculate precision and recall for cross validation set with a confusion matrix\n",
    "from sklearn.metrics import confusion_matrix\n",
    "from sklearn.metrics import precision_score, recall_score, f1_score"
   ]
  },
  {
   "cell_type": "markdown",
   "metadata": {},
   "source": [
    "A confusion matrix shows us which classes are correctly/incorrectly predicted. Each row represents an actual class, and the column represents a predicted class. The index/columns are 3, 4, 5, 6, 7, 8, 9 for quality. For example, in the third row, there were 230 wines correctly assigned to quality = 5. These are true positives. There were 173 wines incorrectly assigned to quality = 6, 1 to quality = 7, and 1 to quality = 4 by the model that were actually quality = 5. This makes for 175 false negatives for quality = 5. There were 4+15+141+15+3= 178 false positives for quality = 5 (was actually quality = 5). True negatives for quality = 5 is the summation of all other fields in the confusion table that are not in the 3rd column or row (708). They were not predicted to be quality = 5 and they were not actually quality = 5. \n",
    "\n",
    "In summary for actual class wine quality = 5:\n",
    "True positives: 230\n",
    "False negatives: 175\n",
    "False positives: 178\n",
    "True negatives: 708"
   ]
  },
  {
   "cell_type": "code",
   "execution_count": 61,
   "metadata": {},
   "outputs": [
    {
     "name": "stdout",
     "output_type": "stream",
     "text": [
      "[[  0   0   4   1   0   0   0]\n",
      " [  0   4  15  15   0   0   0]\n",
      " [  0   1 230 173   1   0   0]\n",
      " [  0   1 141 425  21   0   0]\n",
      " [  0   0  15 178  27   0   0]\n",
      " [  0   0   3  26   9   0   0]\n",
      " [  0   0   0   0   1   0   0]]\n"
     ]
    }
   ],
   "source": [
    "conf_mat = confusion_matrix(CVY, prediction)\n",
    "print(conf_mat)"
   ]
  },
  {
   "cell_type": "markdown",
   "metadata": {},
   "source": [
    "Precision and recall are error metrics in classification. Precision focuses on whether the model prediction is right or not. Whereas recall tests the sensitivity of the model. Precision may be higher if we simplify the model to always predicting wine quality will be 6, regardless of any information about the wine. However, the recall would be poor. It is about crafting and tweaking the model to balance both precision and recall scores.\n",
    "\n",
    "Precision = True positives / (True positives + False positives)\n",
    "\n",
    "Recall = True positives / (True positives + False negatives)\n",
    "\n",
    "for wine quality = 5:\n",
    "Precision = 0.56\n",
    "Recall = 0.57\n",
    "\n",
    "We can use the sci-kit learn library to calculate a precision and recall score for our multiclass cross validation set."
   ]
  },
  {
   "cell_type": "code",
   "execution_count": 65,
   "metadata": {},
   "outputs": [
    {
     "data": {
      "text/plain": [
       "0.5313710302091402"
      ]
     },
     "execution_count": 65,
     "metadata": {},
     "output_type": "execute_result"
    }
   ],
   "source": [
    "precision_score(CVY, prediction, average = 'micro')"
   ]
  },
  {
   "cell_type": "code",
   "execution_count": 66,
   "metadata": {},
   "outputs": [
    {
     "data": {
      "text/plain": [
       "0.5313710302091402"
      ]
     },
     "execution_count": 66,
     "metadata": {},
     "output_type": "execute_result"
    }
   ],
   "source": [
    "recall_score(CVY, prediction, average = 'micro')"
   ]
  },
  {
   "cell_type": "code",
   "execution_count": 67,
   "metadata": {},
   "outputs": [
    {
     "data": {
      "text/plain": [
       "0.5313710302091402"
      ]
     },
     "execution_count": 67,
     "metadata": {},
     "output_type": "execute_result"
    }
   ],
   "source": [
    "f1_score(CVY, prediction, average = 'micro')"
   ]
  },
  {
   "cell_type": "markdown",
   "metadata": {},
   "source": [
    "### Precision Recall Curves <a class=\"anchor\" id=\"fourth-bullet\"></a>"
   ]
  },
  {
   "cell_type": "markdown",
   "metadata": {},
   "source": [
    "Let's create a precision versus recall curve to see how the two are related for each of our classes. Let's do it for the training set which we haven't looked at yet but already made predictions for after fitting our model."
   ]
  },
  {
   "cell_type": "code",
   "execution_count": 37,
   "metadata": {},
   "outputs": [],
   "source": [
    "from sklearn.metrics import precision_recall_curve\n",
    "from sklearn.multiclass import OneVsRestClassifier\n",
    "from sklearn import preprocessing"
   ]
  },
  {
   "cell_type": "code",
   "execution_count": 38,
   "metadata": {},
   "outputs": [
    {
     "data": {
      "text/plain": [
       "array([[3.76809888e-04, 3.94368500e-03, 1.46637300e-01, ...,\n",
       "        2.67487172e-01, 2.55505088e-02, 2.21948309e-04],\n",
       "       [3.27620839e-03, 2.00910486e-02, 1.71111802e-01, ...,\n",
       "        2.07414996e-01, 2.08302264e-02, 7.60872654e-04],\n",
       "       [2.69964652e-03, 8.59200733e-03, 5.41160710e-01, ...,\n",
       "        3.91125631e-02, 6.81733847e-03, 8.34635569e-05],\n",
       "       ...,\n",
       "       [2.90564763e-03, 2.80926153e-02, 5.04811062e-01, ...,\n",
       "        4.48353461e-02, 4.83108901e-03, 8.07292604e-05],\n",
       "       [3.16091074e-03, 1.22234426e-02, 3.30930953e-01, ...,\n",
       "        1.13571091e-01, 1.70562779e-02, 1.66077110e-04],\n",
       "       [8.39404802e-04, 1.73567266e-02, 3.42729209e-01, ...,\n",
       "        9.57435643e-02, 1.09767099e-02, 1.09867566e-04]])"
      ]
     },
     "execution_count": 38,
     "metadata": {},
     "output_type": "execute_result"
    }
   ],
   "source": [
    "trainY_predict"
   ]
  },
  {
   "cell_type": "markdown",
   "metadata": {},
   "source": [
    "We need to transform the actual class array to one-versus all to make it the same shape as the predictions. We will use the label binaarizer in sci-kit learn for this."
   ]
  },
  {
   "cell_type": "code",
   "execution_count": 39,
   "metadata": {},
   "outputs": [
    {
     "data": {
      "text/plain": [
       "LabelBinarizer()"
      ]
     },
     "execution_count": 39,
     "metadata": {},
     "output_type": "execute_result"
    }
   ],
   "source": [
    "lb = preprocessing.LabelBinarizer()\n",
    "lb.fit(CVY)"
   ]
  },
  {
   "cell_type": "code",
   "execution_count": 40,
   "metadata": {},
   "outputs": [
    {
     "data": {
      "text/plain": [
       "array([3., 4., 5., 6., 7., 8., 9.])"
      ]
     },
     "execution_count": 40,
     "metadata": {},
     "output_type": "execute_result"
    }
   ],
   "source": [
    "lb.classes_"
   ]
  },
  {
   "cell_type": "code",
   "execution_count": 41,
   "metadata": {},
   "outputs": [],
   "source": [
    "CVY_OvA = lb.transform(CVY)"
   ]
  },
  {
   "cell_type": "code",
   "execution_count": 42,
   "metadata": {},
   "outputs": [],
   "source": [
    "trainY_OvA = lb.transform(trainY)"
   ]
  },
  {
   "cell_type": "code",
   "execution_count": 43,
   "metadata": {},
   "outputs": [],
   "source": [
    "from sklearn.model_selection import cross_val_predict"
   ]
  },
  {
   "cell_type": "code",
   "execution_count": 61,
   "metadata": {},
   "outputs": [
    {
     "data": {
      "image/png": "[encoded data removed]",
      "text/plain": [
       "<Figure size 432x288 with 1 Axes>"
      ]
     },
     "metadata": {
      "needs_background": "light"
     },
     "output_type": "display_data"
    }
   ],
   "source": [
    "precision = dict()\n",
    "recall = dict()\n",
    "\n",
    "for i in range(7):\n",
    "    precision[i], recall[i], _ = precision_recall_curve(trainY_OvA[:, i], trainY_predict[:, i])\n",
    "    plt.plot(recall[i], precision[i], lw=2, label='class {}'.format(i))\n",
    "    \n",
    "plt.xlabel(\"recall\")\n",
    "plt.ylabel(\"precision\")\n",
    "plt.legend(loc=\"best\")\n",
    "plt.title(\"precision vs. recall curve\")\n",
    "plt.show()"
   ]
  },
  {
   "cell_type": "markdown",
   "metadata": {},
   "source": [
    "the F1 score incorporates both precision and recall giving us a good \"metric\" for our model.\n",
    "\n",
    "F1 score = 2 * precision * recall / (precision + recall) = 2 * 0.56 * 0.57 / (0.56 + 0.57) = 0.56"
   ]
  },
  {
   "cell_type": "markdown",
   "metadata": {},
   "source": [
    "Next we can adjust the thresold of probablility for which we assign each wine quality."
   ]
  },
  {
   "cell_type": "code",
   "execution_count": 63,
   "metadata": {},
   "outputs": [
    {
     "data": {
      "image/png": "[encoded data removed]",
      "text/plain": [
       "<Figure size 432x288 with 1 Axes>"
      ]
     },
     "metadata": {
      "needs_background": "light"
     },
     "output_type": "display_data"
    }
   ],
   "source": [
    "precision, recall, threshold = precision_recall_curve(trainY_OvA[:, 0], trainY_predict[:, 0])\n",
    "plt.plot(threshold, recall[:-1], lw=2, label='Wine quality = 3, recall')\n",
    "plt.plot(threshold, precision[:-1], lw=2, label='Wine quality = 3, precision')\n",
    "plt.xlabel(\"threshold percentage\")\n",
    "plt.ylabel(\"recall (orange) or precision (blue)\")\n",
    "plt.legend(loc=\"best\")\n",
    "plt.show()"
   ]
  },
  {
   "cell_type": "code",
   "execution_count": 64,
   "metadata": {},
   "outputs": [
    {
     "data": {
      "image/png": "[encoded data removed]",
      "text/plain": [
       "<Figure size 432x288 with 1 Axes>"
      ]
     },
     "metadata": {
      "needs_background": "light"
     },
     "output_type": "display_data"
    }
   ],
   "source": [
    "precision, recall, threshold = precision_recall_curve(trainY_OvA[:, 1], trainY_predict[:, 1])\n",
    "plt.plot(threshold, recall[:-1], lw=2, label='Wine quality = 4, recall')\n",
    "plt.plot(threshold, precision[:-1], lw=2, label='Wine quality = 4, precision')\n",
    "plt.xlabel(\"threshold percentage\")\n",
    "plt.ylabel(\"recall (orange) or precision (blue)\")\n",
    "plt.legend(loc=\"best\")\n",
    "plt.show()"
   ]
  },
  {
   "cell_type": "code",
   "execution_count": 65,
   "metadata": {},
   "outputs": [
    {
     "data": {
      "image/png": "[encoded data removed]",
      "text/plain": [
       "<Figure size 432x288 with 1 Axes>"
      ]
     },
     "metadata": {
      "needs_background": "light"
     },
     "output_type": "display_data"
    }
   ],
   "source": [
    "precision, recall, threshold = precision_recall_curve(trainY_OvA[:, 2], trainY_predict[:, 2])\n",
    "plt.plot(threshold, recall[:-1], lw=2, label='Wine quality = 5, recall')\n",
    "plt.plot(threshold, precision[:-1], lw=2, label='Wine quality = 5, precision')\n",
    "plt.xlabel(\"threshold percentage\")\n",
    "plt.ylabel(\"recall (orange) or precision (blue)\")\n",
    "plt.legend(loc=\"best\")\n",
    "plt.show()"
   ]
  },
  {
   "cell_type": "code",
   "execution_count": 66,
   "metadata": {},
   "outputs": [
    {
     "data": {
      "image/png": "[encoded data removed]",
      "text/plain": [
       "<Figure size 432x288 with 1 Axes>"
      ]
     },
     "metadata": {
      "needs_background": "light"
     },
     "output_type": "display_data"
    }
   ],
   "source": [
    "precision, recall, threshold = precision_recall_curve(trainY_OvA[:, 3], trainY_predict[:, 3])\n",
    "plt.plot(threshold, recall[:-1], lw=2, label='Wine quality = 6, recall')\n",
    "plt.plot(threshold, precision[:-1], lw=2, label='Wine quality = 6, precision')\n",
    "plt.xlabel(\"threshold percentage\")\n",
    "plt.ylabel(\"recall (orange) or precision (blue)\")\n",
    "plt.legend(loc=\"best\")\n",
    "plt.show()"
   ]
  },
  {
   "cell_type": "code",
   "execution_count": 67,
   "metadata": {},
   "outputs": [
    {
     "data": {
      "image/png": "[encoded data removed]",
      "text/plain": [
       "<Figure size 432x288 with 1 Axes>"
      ]
     },
     "metadata": {
      "needs_background": "light"
     },
     "output_type": "display_data"
    }
   ],
   "source": [
    "precision, recall, threshold = precision_recall_curve(trainY_OvA[:, 4], trainY_predict[:, 4])\n",
    "plt.plot(threshold, recall[:-1], lw=2, label='Wine quality = 7, recall')\n",
    "plt.plot(threshold, precision[:-1], lw=2, label='Wine quality = 7, precision')\n",
    "plt.xlabel(\"threshold percentage\")\n",
    "plt.ylabel(\"recall (orange) or precision (blue)\")\n",
    "plt.legend(loc=\"best\")\n",
    "plt.show()"
   ]
  },
  {
   "cell_type": "code",
   "execution_count": 68,
   "metadata": {},
   "outputs": [
    {
     "data": {
      "image/png": "[encoded data removed]",
      "text/plain": [
       "<Figure size 432x288 with 1 Axes>"
      ]
     },
     "metadata": {
      "needs_background": "light"
     },
     "output_type": "display_data"
    }
   ],
   "source": [
    "precision, recall, threshold = precision_recall_curve(trainY_OvA[:, 5], trainY_predict[:, 5])\n",
    "plt.plot(threshold, recall[:-1], lw=2, label='Wine quality = 8, recall')\n",
    "plt.plot(threshold, precision[:-1], lw=2, label='Wine quality = 8, precision')\n",
    "plt.xlabel(\"threshold percentage\")\n",
    "plt.ylabel(\"recall (orange) or precision (blue)\")\n",
    "plt.legend(loc=\"best\")\n",
    "plt.show()"
   ]
  },
  {
   "cell_type": "markdown",
   "metadata": {},
   "source": [
    "## Support Vector Machines <a class=\"anchor\" id=\"fifth-bullet\"></a>"
   ]
  },
  {
   "cell_type": "markdown",
   "metadata": {},
   "source": [
    "Let's now make a Support Vector Machines model to see how well it predicts wine quality in comparison. Through sci-kit learn's preprocessing library we can scale the data using StandardScaler instead of mean normalising the data ourselves. Then we will input that data into an SVM with a Guassian Kernel."
   ]
  },
  {
   "cell_type": "code",
   "execution_count": 20,
   "metadata": {},
   "outputs": [],
   "source": [
    "from sklearn.pipeline import Pipeline\n",
    "from sklearn.svm import SVC\n",
    "from sklearn.preprocessing import StandardScaler"
   ]
  },
  {
   "cell_type": "code",
   "execution_count": 70,
   "metadata": {},
   "outputs": [
    {
     "data": {
      "text/html": [
       "<div>\n",
       "<style scoped>\n",
       "    .dataframe tbody tr th:only-of-type {\n",
       "        vertical-align: middle;\n",
       "    }\n",
       "\n",
       "    .dataframe tbody tr th {\n",
       "        vertical-align: top;\n",
       "    }\n",
       "\n",
       "    .dataframe thead th {\n",
       "        text-align: right;\n",
       "    }\n",
       "</style>\n",
       "<table border=\"1\" class=\"dataframe\">\n",
       "  <thead>\n",
       "    <tr style=\"text-align: right;\">\n",
       "      <th></th>\n",
       "      <th>fixed acidity</th>\n",
       "      <th>volatile acidity</th>\n",
       "      <th>citric acid</th>\n",
       "      <th>residual sugar</th>\n",
       "      <th>chlorides</th>\n",
       "      <th>free sulfur dioxide</th>\n",
       "      <th>total sulfur dioxide</th>\n",
       "      <th>density</th>\n",
       "      <th>pH</th>\n",
       "      <th>sulphates</th>\n",
       "      <th>alcohol</th>\n",
       "      <th>quality</th>\n",
       "      <th>color</th>\n",
       "    </tr>\n",
       "  </thead>\n",
       "  <tbody>\n",
       "    <tr>\n",
       "      <th>0</th>\n",
       "      <td>7.0</td>\n",
       "      <td>0.270</td>\n",
       "      <td>0.36</td>\n",
       "      <td>20.7</td>\n",
       "      <td>0.045</td>\n",
       "      <td>45.0</td>\n",
       "      <td>170.0</td>\n",
       "      <td>1.00100</td>\n",
       "      <td>3.00</td>\n",
       "      <td>0.45</td>\n",
       "      <td>8.8</td>\n",
       "      <td>6</td>\n",
       "      <td>0</td>\n",
       "    </tr>\n",
       "    <tr>\n",
       "      <th>1</th>\n",
       "      <td>6.3</td>\n",
       "      <td>0.300</td>\n",
       "      <td>0.34</td>\n",
       "      <td>1.6</td>\n",
       "      <td>0.049</td>\n",
       "      <td>14.0</td>\n",
       "      <td>132.0</td>\n",
       "      <td>0.99400</td>\n",
       "      <td>3.30</td>\n",
       "      <td>0.49</td>\n",
       "      <td>9.5</td>\n",
       "      <td>6</td>\n",
       "      <td>0</td>\n",
       "    </tr>\n",
       "    <tr>\n",
       "      <th>2</th>\n",
       "      <td>8.1</td>\n",
       "      <td>0.280</td>\n",
       "      <td>0.40</td>\n",
       "      <td>6.9</td>\n",
       "      <td>0.050</td>\n",
       "      <td>30.0</td>\n",
       "      <td>97.0</td>\n",
       "      <td>0.99510</td>\n",
       "      <td>3.26</td>\n",
       "      <td>0.44</td>\n",
       "      <td>10.1</td>\n",
       "      <td>6</td>\n",
       "      <td>0</td>\n",
       "    </tr>\n",
       "    <tr>\n",
       "      <th>3</th>\n",
       "      <td>7.2</td>\n",
       "      <td>0.230</td>\n",
       "      <td>0.32</td>\n",
       "      <td>8.5</td>\n",
       "      <td>0.058</td>\n",
       "      <td>47.0</td>\n",
       "      <td>186.0</td>\n",
       "      <td>0.99560</td>\n",
       "      <td>3.19</td>\n",
       "      <td>0.40</td>\n",
       "      <td>9.9</td>\n",
       "      <td>6</td>\n",
       "      <td>0</td>\n",
       "    </tr>\n",
       "    <tr>\n",
       "      <th>4</th>\n",
       "      <td>7.2</td>\n",
       "      <td>0.230</td>\n",
       "      <td>0.32</td>\n",
       "      <td>8.5</td>\n",
       "      <td>0.058</td>\n",
       "      <td>47.0</td>\n",
       "      <td>186.0</td>\n",
       "      <td>0.99560</td>\n",
       "      <td>3.19</td>\n",
       "      <td>0.40</td>\n",
       "      <td>9.9</td>\n",
       "      <td>6</td>\n",
       "      <td>0</td>\n",
       "    </tr>\n",
       "    <tr>\n",
       "      <th>...</th>\n",
       "      <td>...</td>\n",
       "      <td>...</td>\n",
       "      <td>...</td>\n",
       "      <td>...</td>\n",
       "      <td>...</td>\n",
       "      <td>...</td>\n",
       "      <td>...</td>\n",
       "      <td>...</td>\n",
       "      <td>...</td>\n",
       "      <td>...</td>\n",
       "      <td>...</td>\n",
       "      <td>...</td>\n",
       "      <td>...</td>\n",
       "    </tr>\n",
       "    <tr>\n",
       "      <th>6491</th>\n",
       "      <td>6.8</td>\n",
       "      <td>0.620</td>\n",
       "      <td>0.08</td>\n",
       "      <td>1.9</td>\n",
       "      <td>0.068</td>\n",
       "      <td>28.0</td>\n",
       "      <td>38.0</td>\n",
       "      <td>0.99651</td>\n",
       "      <td>3.42</td>\n",
       "      <td>0.82</td>\n",
       "      <td>9.5</td>\n",
       "      <td>6</td>\n",
       "      <td>1</td>\n",
       "    </tr>\n",
       "    <tr>\n",
       "      <th>6492</th>\n",
       "      <td>6.2</td>\n",
       "      <td>0.600</td>\n",
       "      <td>0.08</td>\n",
       "      <td>2.0</td>\n",
       "      <td>0.090</td>\n",
       "      <td>32.0</td>\n",
       "      <td>44.0</td>\n",
       "      <td>0.99490</td>\n",
       "      <td>3.45</td>\n",
       "      <td>0.58</td>\n",
       "      <td>10.5</td>\n",
       "      <td>5</td>\n",
       "      <td>1</td>\n",
       "    </tr>\n",
       "    <tr>\n",
       "      <th>6494</th>\n",
       "      <td>6.3</td>\n",
       "      <td>0.510</td>\n",
       "      <td>0.13</td>\n",
       "      <td>2.3</td>\n",
       "      <td>0.076</td>\n",
       "      <td>29.0</td>\n",
       "      <td>40.0</td>\n",
       "      <td>0.99574</td>\n",
       "      <td>3.42</td>\n",
       "      <td>0.75</td>\n",
       "      <td>11.0</td>\n",
       "      <td>6</td>\n",
       "      <td>1</td>\n",
       "    </tr>\n",
       "    <tr>\n",
       "      <th>6495</th>\n",
       "      <td>5.9</td>\n",
       "      <td>0.645</td>\n",
       "      <td>0.12</td>\n",
       "      <td>2.0</td>\n",
       "      <td>0.075</td>\n",
       "      <td>32.0</td>\n",
       "      <td>44.0</td>\n",
       "      <td>0.99547</td>\n",
       "      <td>3.57</td>\n",
       "      <td>0.71</td>\n",
       "      <td>10.2</td>\n",
       "      <td>5</td>\n",
       "      <td>1</td>\n",
       "    </tr>\n",
       "    <tr>\n",
       "      <th>6496</th>\n",
       "      <td>6.0</td>\n",
       "      <td>0.310</td>\n",
       "      <td>0.47</td>\n",
       "      <td>3.6</td>\n",
       "      <td>0.067</td>\n",
       "      <td>18.0</td>\n",
       "      <td>42.0</td>\n",
       "      <td>0.99549</td>\n",
       "      <td>3.39</td>\n",
       "      <td>0.66</td>\n",
       "      <td>11.0</td>\n",
       "      <td>6</td>\n",
       "      <td>1</td>\n",
       "    </tr>\n",
       "  </tbody>\n",
       "</table>\n",
       "<p>6463 rows × 13 columns</p>\n",
       "</div>"
      ],
      "text/plain": [
       "      fixed acidity  volatile acidity  citric acid  residual sugar  chlorides  \\\n",
       "0               7.0             0.270         0.36            20.7      0.045   \n",
       "1               6.3             0.300         0.34             1.6      0.049   \n",
       "2               8.1             0.280         0.40             6.9      0.050   \n",
       "3               7.2             0.230         0.32             8.5      0.058   \n",
       "4               7.2             0.230         0.32             8.5      0.058   \n",
       "...             ...               ...          ...             ...        ...   \n",
       "6491            6.8             0.620         0.08             1.9      0.068   \n",
       "6492            6.2             0.600         0.08             2.0      0.090   \n",
       "6494            6.3             0.510         0.13             2.3      0.076   \n",
       "6495            5.9             0.645         0.12             2.0      0.075   \n",
       "6496            6.0             0.310         0.47             3.6      0.067   \n",
       "\n",
       "      free sulfur dioxide  total sulfur dioxide  density    pH  sulphates  \\\n",
       "0                    45.0                 170.0  1.00100  3.00       0.45   \n",
       "1                    14.0                 132.0  0.99400  3.30       0.49   \n",
       "2                    30.0                  97.0  0.99510  3.26       0.44   \n",
       "3                    47.0                 186.0  0.99560  3.19       0.40   \n",
       "4                    47.0                 186.0  0.99560  3.19       0.40   \n",
       "...                   ...                   ...      ...   ...        ...   \n",
       "6491                 28.0                  38.0  0.99651  3.42       0.82   \n",
       "6492                 32.0                  44.0  0.99490  3.45       0.58   \n",
       "6494                 29.0                  40.0  0.99574  3.42       0.75   \n",
       "6495                 32.0                  44.0  0.99547  3.57       0.71   \n",
       "6496                 18.0                  42.0  0.99549  3.39       0.66   \n",
       "\n",
       "      alcohol  quality  color  \n",
       "0         8.8        6      0  \n",
       "1         9.5        6      0  \n",
       "2        10.1        6      0  \n",
       "3         9.9        6      0  \n",
       "4         9.9        6      0  \n",
       "...       ...      ...    ...  \n",
       "6491      9.5        6      1  \n",
       "6492     10.5        5      1  \n",
       "6494     11.0        6      1  \n",
       "6495     10.2        5      1  \n",
       "6496     11.0        6      1  \n",
       "\n",
       "[6463 rows x 13 columns]"
      ]
     },
     "execution_count": 70,
     "metadata": {},
     "output_type": "execute_result"
    }
   ],
   "source": [
    "data"
   ]
  },
  {
   "cell_type": "code",
   "execution_count": 183,
   "metadata": {},
   "outputs": [],
   "source": [
    "trainX, trainY, CVX, CVY, testX, testY = makeTrainCrossValTestSet(data, round(len(data)*0.6))"
   ]
  },
  {
   "cell_type": "code",
   "execution_count": 143,
   "metadata": {},
   "outputs": [
    {
     "data": {
      "text/plain": [
       "Pipeline(steps=[('scaler', StandardScaler()),\n",
       "                ('svm_clf', SVC(C=1, gamma=5, random_state=25))])"
      ]
     },
     "execution_count": 143,
     "metadata": {},
     "output_type": "execute_result"
    }
   ],
   "source": [
    "rbf_kernel_svm_clf = Pipeline([('scaler', StandardScaler()), \n",
    "                               ('svm_clf', SVC(kernel = 'rbf', gamma = 5, C = 1, random_state = 25))])\n",
    "rbf_kernel_svm_clf.fit(trainX, trainY)"
   ]
  },
  {
   "cell_type": "code",
   "execution_count": 144,
   "metadata": {},
   "outputs": [],
   "source": [
    "train_predict_svm = rbf_kernel_svm_clf.predict(trainX)"
   ]
  },
  {
   "cell_type": "code",
   "execution_count": 145,
   "metadata": {},
   "outputs": [
    {
     "data": {
      "text/plain": [
       "array([6, 6, 6, ..., 5, 5, 5], dtype=int64)"
      ]
     },
     "execution_count": 145,
     "metadata": {},
     "output_type": "execute_result"
    }
   ],
   "source": [
    "train_predict_svm"
   ]
  },
  {
   "cell_type": "code",
   "execution_count": 146,
   "metadata": {},
   "outputs": [
    {
     "data": {
      "text/plain": [
       "[<matplotlib.lines.Line2D at 0x4e9df88>]"
      ]
     },
     "execution_count": 146,
     "metadata": {},
     "output_type": "execute_result"
    },
    {
     "data": {
      "image/png": "[encoded data removed]",
      "text/plain": [
       "<Figure size 432x288 with 1 Axes>"
      ]
     },
     "metadata": {
      "needs_background": "light"
     },
     "output_type": "display_data"
    }
   ],
   "source": [
    "plt.plot(train_predict_svm)"
   ]
  },
  {
   "cell_type": "code",
   "execution_count": 147,
   "metadata": {},
   "outputs": [
    {
     "name": "stdout",
     "output_type": "stream",
     "text": [
      "[[  19    0    0    0    0    0    0]\n",
      " [   0  132    1    2    0    0    0]\n",
      " [   0    0 1164   12    0    0    0]\n",
      " [   0    0    4 1646    0    0    0]\n",
      " [   0    0    0    4  710    0    0]\n",
      " [   0    0    0    1    0  153    0]\n",
      " [   0    0    0    0    0    0    5]]\n"
     ]
    }
   ],
   "source": [
    "conf_mat_svm = confusion_matrix(trainY, train_predict_svm)\n",
    "print(conf_mat_svm)"
   ]
  },
  {
   "cell_type": "code",
   "execution_count": 148,
   "metadata": {},
   "outputs": [
    {
     "data": {
      "text/plain": [
       "0.9937710874643135"
      ]
     },
     "execution_count": 148,
     "metadata": {},
     "output_type": "execute_result"
    }
   ],
   "source": [
    "precision_score(trainY, train_predict_svm, average = 'micro')"
   ]
  },
  {
   "cell_type": "code",
   "execution_count": 149,
   "metadata": {},
   "outputs": [
    {
     "data": {
      "text/plain": [
       "0.9937710874643135"
      ]
     },
     "execution_count": 149,
     "metadata": {},
     "output_type": "execute_result"
    }
   ],
   "source": [
    "recall_score(trainY, train_predict_svm, average = 'micro')"
   ]
  },
  {
   "cell_type": "markdown",
   "metadata": {},
   "source": [
    "So precision and recall are both 0.994 for our SVM, very high! Much higher than the logistic regression model. \n",
    "\n",
    "But this is just for the training set. How does it generalise to our cross validation set?"
   ]
  },
  {
   "cell_type": "code",
   "execution_count": 150,
   "metadata": {},
   "outputs": [],
   "source": [
    "CV_predict_svm = rbf_kernel_svm_clf.predict(CVX)"
   ]
  },
  {
   "cell_type": "code",
   "execution_count": 151,
   "metadata": {},
   "outputs": [
    {
     "data": {
      "text/plain": [
       "array([[  0,   0,   0,   1,   0,   0],\n",
       "       [  0,   0,   0,  42,   0,   0],\n",
       "       [  0,   0,   0, 432,   0,   0],\n",
       "       [  0,   0,   2, 614,   0,   0],\n",
       "       [  0,   0,   0, 175,   2,   0],\n",
       "       [  0,   0,   0,  21,   0,   0]], dtype=int64)"
      ]
     },
     "execution_count": 151,
     "metadata": {},
     "output_type": "execute_result"
    }
   ],
   "source": [
    "confusion_matrix(CVY, CV_predict_svm)"
   ]
  },
  {
   "cell_type": "code",
   "execution_count": 152,
   "metadata": {},
   "outputs": [
    {
     "data": {
      "text/plain": [
       "0.4778898370830101"
      ]
     },
     "execution_count": 152,
     "metadata": {},
     "output_type": "execute_result"
    }
   ],
   "source": [
    "precision_score(CVY, CV_predict_svm, average = 'micro')"
   ]
  },
  {
   "cell_type": "code",
   "execution_count": 153,
   "metadata": {},
   "outputs": [
    {
     "data": {
      "text/plain": [
       "0.4778898370830101"
      ]
     },
     "execution_count": 153,
     "metadata": {},
     "output_type": "execute_result"
    }
   ],
   "source": [
    "recall_score(CVY, CV_predict_svm, average = 'micro')"
   ]
  },
  {
   "cell_type": "markdown",
   "metadata": {},
   "source": [
    "This shows that our model does not generalise well, it is actually lower than our logistic regression model. \n",
    "\n",
    "We are overfitting our model-- there is high variance such that the model exactly fits the training set. The easiest way to reduce overfitting and increasing regularization is to decrease C or gamma.\n",
    "\n",
    "Let's vary the hyperparameters to get the maximal F1 score."
   ]
  },
  {
   "cell_type": "code",
   "execution_count": 154,
   "metadata": {},
   "outputs": [],
   "source": [
    "g = [0.0001, 0.0005, 0.001, 0.05, 0.01, 0.05, 0.1, 0.5, 1, 5, 10]\n",
    "C_hyper = [0.1, 0.5, 0.1, 0.5, 1, 5, 10, 50, 100]\n",
    "values = np.array([])\n",
    "\n",
    "for i in g:\n",
    "    for e in C_hyper:\n",
    "        rbf_kernel_svm_clf = Pipeline([('scaler', StandardScaler()), \n",
    "                               ('svm_clf', SVC(kernel = 'rbf', gamma = i, C = e, random_state = 2))])\n",
    "        rbf_kernel_svm_clf.fit(trainX, trainY)\n",
    "        train_predict_svm = rbf_kernel_svm_clf.predict(trainX)\n",
    "        CV_predict_svm = rbf_kernel_svm_clf.predict(CVX)\n",
    "        precision_train = precision_score(trainY, train_predict_svm, average = 'micro')\n",
    "        precision_CV = precision_score(CVY, CV_predict_svm, average = 'micro')\n",
    "        recall_train = precision_score(trainY, train_predict_svm, average = 'micro')\n",
    "        recall_CV = precision_score(CVY, CV_predict_svm, average = 'micro')\n",
    "        temp_values = [i, e, precision_train, precision_CV, recall_train, recall_CV]\n",
    "        values = np.append(values, [temp_values])"
   ]
  },
  {
   "cell_type": "code",
   "execution_count": 155,
   "metadata": {},
   "outputs": [],
   "source": [
    "values = values.reshape(-1,6)"
   ]
  },
  {
   "cell_type": "code",
   "execution_count": 156,
   "metadata": {},
   "outputs": [
    {
     "data": {
      "text/plain": [
       "Text(0, 0.5, 'training f1 score')"
      ]
     },
     "execution_count": 156,
     "metadata": {},
     "output_type": "execute_result"
    },
    {
     "data": {
      "image/png": "[encoded data removed]",
      "text/plain": [
       "<Figure size 432x288 with 2 Axes>"
      ]
     },
     "metadata": {
      "needs_background": "light"
     },
     "output_type": "display_data"
    }
   ],
   "source": [
    "fScoreTrain = ((2*values[:,2]*values[:,4])/(values[:,2] + values[:,4]))\n",
    "fScoreCrossVal = ((2*values[:,3]*values[:,5])/(values[:,3] + values[:,5]))\n",
    "\n",
    "plt.scatter(values[:,0], fScoreTrain, c = values[:,1])\n",
    "plt.colorbar()\n",
    "plt.xlabel('gamma')\n",
    "plt.ylabel('training f1 score')"
   ]
  },
  {
   "cell_type": "code",
   "execution_count": 157,
   "metadata": {},
   "outputs": [
    {
     "data": {
      "text/plain": [
       "Text(0, 0.5, 'cross val f1 score')"
      ]
     },
     "execution_count": 157,
     "metadata": {},
     "output_type": "execute_result"
    },
    {
     "data": {
      "image/png": "[encoded data removed]",
      "text/plain": [
       "<Figure size 432x288 with 2 Axes>"
      ]
     },
     "metadata": {
      "needs_background": "light"
     },
     "output_type": "display_data"
    }
   ],
   "source": [
    "plt.scatter(values[:,0], fScoreCrossVal, c = values[:,1])\n",
    "plt.colorbar()\n",
    "plt.xlabel('gamma')\n",
    "plt.ylabel('cross val f1 score')"
   ]
  },
  {
   "cell_type": "markdown",
   "metadata": {},
   "source": [
    "The highest f1 score for the cross validation set is from a low gamma and C."
   ]
  },
  {
   "cell_type": "code",
   "execution_count": 158,
   "metadata": {},
   "outputs": [
    {
     "data": {
      "text/plain": [
       "array([[1.00000000e-04, 1.00000000e-01, 4.28237737e-01, 4.77889837e-01,\n",
       "        4.28237737e-01, 4.77889837e-01],\n",
       "       [1.00000000e-04, 5.00000000e-01, 4.28237737e-01, 4.77889837e-01,\n",
       "        4.28237737e-01, 4.77889837e-01],\n",
       "       [1.00000000e-04, 1.00000000e-01, 4.28237737e-01, 4.77889837e-01,\n",
       "        4.28237737e-01, 4.77889837e-01],\n",
       "       [1.00000000e-04, 5.00000000e-01, 4.28237737e-01, 4.77889837e-01,\n",
       "        4.28237737e-01, 4.77889837e-01],\n",
       "       [1.00000000e-04, 1.00000000e+00, 4.28237737e-01, 4.77889837e-01,\n",
       "        4.28237737e-01, 4.77889837e-01],\n",
       "       [1.00000000e-04, 5.00000000e+00, 4.45626784e-01, 5.43056633e-01,\n",
       "        4.45626784e-01, 5.43056633e-01],\n",
       "       [1.00000000e-04, 1.00000000e+01, 4.83778874e-01, 5.86501164e-01,\n",
       "        4.83778874e-01, 5.86501164e-01],\n",
       "       [1.00000000e-04, 5.00000000e+01, 5.03763301e-01, 5.90380140e-01,\n",
       "        5.03763301e-01, 5.90380140e-01],\n",
       "       [1.00000000e-04, 1.00000000e+02, 5.04541915e-01, 5.90380140e-01,\n",
       "        5.04541915e-01, 5.90380140e-01],\n",
       "       [5.00000000e-04, 1.00000000e-01, 4.28237737e-01, 4.77889837e-01,\n",
       "        4.28237737e-01, 4.77889837e-01],\n",
       "       [5.00000000e-04, 5.00000000e-01, 4.29794965e-01, 4.92629946e-01,\n",
       "        4.29794965e-01, 4.92629946e-01],\n",
       "       [5.00000000e-04, 1.00000000e-01, 4.28237737e-01, 4.77889837e-01,\n",
       "        4.28237737e-01, 4.77889837e-01],\n",
       "       [5.00000000e-04, 5.00000000e-01, 4.29794965e-01, 4.92629946e-01,\n",
       "        4.29794965e-01, 4.92629946e-01],\n",
       "       [5.00000000e-04, 1.00000000e+00, 4.46924474e-01, 5.43056633e-01,\n",
       "        4.46924474e-01, 5.43056633e-01],\n",
       "       [5.00000000e-04, 5.00000000e+00, 4.97015313e-01, 5.81846393e-01,\n",
       "        4.97015313e-01, 5.81846393e-01],\n",
       "       [5.00000000e-04, 1.00000000e+01, 5.02465611e-01, 5.89604344e-01,\n",
       "        5.02465611e-01, 5.89604344e-01],\n",
       "       [5.00000000e-04, 5.00000000e+01, 5.11549442e-01, 5.90380140e-01,\n",
       "        5.11549442e-01, 5.90380140e-01],\n",
       "       [5.00000000e-04, 1.00000000e+02, 5.17518817e-01, 5.87276959e-01,\n",
       "        5.17518817e-01, 5.87276959e-01],\n",
       "       [1.00000000e-03, 1.00000000e-01, 4.28237737e-01, 4.77889837e-01,\n",
       "        4.28237737e-01, 4.77889837e-01],\n",
       "       [1.00000000e-03, 5.00000000e-01, 4.46664936e-01, 5.43056633e-01,\n",
       "        4.46664936e-01, 5.43056633e-01],\n",
       "       [1.00000000e-03, 1.00000000e-01, 4.28237737e-01, 4.77889837e-01,\n",
       "        4.28237737e-01, 4.77889837e-01],\n",
       "       [1.00000000e-03, 5.00000000e-01, 4.46664936e-01, 5.43056633e-01,\n",
       "        4.46664936e-01, 5.43056633e-01],\n",
       "       [1.00000000e-03, 1.00000000e+00, 4.85855178e-01, 5.85725369e-01,\n",
       "        4.85855178e-01, 5.85725369e-01],\n",
       "       [1.00000000e-03, 5.00000000e+00, 5.03244225e-01, 5.90380140e-01,\n",
       "        5.03244225e-01, 5.90380140e-01],\n",
       "       [1.00000000e-03, 1.00000000e+01, 5.06877758e-01, 5.94259116e-01,\n",
       "        5.06877758e-01, 5.94259116e-01],\n",
       "       [1.00000000e-03, 5.00000000e+01, 5.26862185e-01, 5.89604344e-01,\n",
       "        5.26862185e-01, 5.89604344e-01],\n",
       "       [1.00000000e-03, 1.00000000e+02, 5.30236180e-01, 5.90380140e-01,\n",
       "        5.30236180e-01, 5.90380140e-01],\n",
       "       [5.00000000e-02, 1.00000000e-01, 5.32052946e-01, 5.97362296e-01,\n",
       "        5.32052946e-01, 5.97362296e-01],\n",
       "       [5.00000000e-02, 5.00000000e-01, 5.56709058e-01, 5.75640031e-01,\n",
       "        5.56709058e-01, 5.75640031e-01],\n",
       "       [5.00000000e-02, 1.00000000e-01, 5.32052946e-01, 5.97362296e-01,\n",
       "        5.32052946e-01, 5.97362296e-01],\n",
       "       [5.00000000e-02, 5.00000000e-01, 5.56709058e-01, 5.75640031e-01,\n",
       "        5.56709058e-01, 5.75640031e-01],\n",
       "       [5.00000000e-02, 1.00000000e+00, 5.76953024e-01, 5.58572537e-01,\n",
       "        5.76953024e-01, 5.58572537e-01],\n",
       "       [5.00000000e-02, 5.00000000e+00, 6.20555411e-01, 5.34522886e-01,\n",
       "        6.20555411e-01, 5.34522886e-01],\n",
       "       [5.00000000e-02, 1.00000000e+01, 6.40020763e-01, 5.31419705e-01,\n",
       "        6.40020763e-01, 5.31419705e-01],\n",
       "       [5.00000000e-02, 5.00000000e+01, 7.25927848e-01, 4.94957331e-01,\n",
       "        7.25927848e-01, 4.94957331e-01],\n",
       "       [5.00000000e-02, 1.00000000e+02, 7.63301324e-01, 4.83320403e-01,\n",
       "        7.63301324e-01, 4.83320403e-01],\n",
       "       [1.00000000e-02, 1.00000000e-01, 4.84038412e-01, 5.78743212e-01,\n",
       "        4.84038412e-01, 5.78743212e-01],\n",
       "       [1.00000000e-02, 5.00000000e-01, 5.10770828e-01, 5.93483320e-01,\n",
       "        5.10770828e-01, 5.93483320e-01],\n",
       "       [1.00000000e-02, 1.00000000e-01, 4.84038412e-01, 5.78743212e-01,\n",
       "        4.84038412e-01, 5.78743212e-01],\n",
       "       [1.00000000e-02, 5.00000000e-01, 5.10770828e-01, 5.93483320e-01,\n",
       "        5.10770828e-01, 5.93483320e-01],\n",
       "       [1.00000000e-02, 1.00000000e+00, 5.32831560e-01, 5.98913887e-01,\n",
       "        5.32831560e-01, 5.98913887e-01],\n",
       "       [1.00000000e-02, 5.00000000e+00, 5.48663379e-01, 5.93483320e-01,\n",
       "        5.48663379e-01, 5.93483320e-01],\n",
       "       [1.00000000e-02, 1.00000000e+01, 5.54632754e-01, 5.60899922e-01,\n",
       "        5.54632754e-01, 5.60899922e-01],\n",
       "       [1.00000000e-02, 5.00000000e+01, 5.74357643e-01, 4.93405741e-01,\n",
       "        5.74357643e-01, 4.93405741e-01],\n",
       "       [1.00000000e-02, 1.00000000e+02, 5.91746691e-01, 4.93405741e-01,\n",
       "        5.91746691e-01, 4.93405741e-01],\n",
       "       [5.00000000e-02, 1.00000000e-01, 5.32052946e-01, 5.97362296e-01,\n",
       "        5.32052946e-01, 5.97362296e-01],\n",
       "       [5.00000000e-02, 5.00000000e-01, 5.56709058e-01, 5.75640031e-01,\n",
       "        5.56709058e-01, 5.75640031e-01],\n",
       "       [5.00000000e-02, 1.00000000e-01, 5.32052946e-01, 5.97362296e-01,\n",
       "        5.32052946e-01, 5.97362296e-01],\n",
       "       [5.00000000e-02, 5.00000000e-01, 5.56709058e-01, 5.75640031e-01,\n",
       "        5.56709058e-01, 5.75640031e-01],\n",
       "       [5.00000000e-02, 1.00000000e+00, 5.76953024e-01, 5.58572537e-01,\n",
       "        5.76953024e-01, 5.58572537e-01],\n",
       "       [5.00000000e-02, 5.00000000e+00, 6.20555411e-01, 5.34522886e-01,\n",
       "        6.20555411e-01, 5.34522886e-01],\n",
       "       [5.00000000e-02, 1.00000000e+01, 6.40020763e-01, 5.31419705e-01,\n",
       "        6.40020763e-01, 5.31419705e-01],\n",
       "       [5.00000000e-02, 5.00000000e+01, 7.25927848e-01, 4.94957331e-01,\n",
       "        7.25927848e-01, 4.94957331e-01],\n",
       "       [5.00000000e-02, 1.00000000e+02, 7.63301324e-01, 4.83320403e-01,\n",
       "        7.63301324e-01, 4.83320403e-01],\n",
       "       [1.00000000e-01, 1.00000000e-01, 5.43732157e-01, 5.82622188e-01,\n",
       "        5.43732157e-01, 5.82622188e-01],\n",
       "       [1.00000000e-01, 5.00000000e-01, 5.88372697e-01, 5.91931730e-01,\n",
       "        5.88372697e-01, 5.91931730e-01],\n",
       "       [1.00000000e-01, 1.00000000e-01, 5.43732157e-01, 5.82622188e-01,\n",
       "        5.43732157e-01, 5.82622188e-01],\n",
       "       [1.00000000e-01, 5.00000000e-01, 5.88372697e-01, 5.91931730e-01,\n",
       "        5.88372697e-01, 5.91931730e-01],\n",
       "       [1.00000000e-01, 1.00000000e+00, 6.13028809e-01, 5.64003103e-01,\n",
       "        6.13028809e-01, 5.64003103e-01],\n",
       "       [1.00000000e-01, 5.00000000e+00, 6.98416818e-01, 5.34522886e-01,\n",
       "        6.98416818e-01, 5.34522886e-01],\n",
       "       [1.00000000e-01, 1.00000000e+01, 7.48248118e-01, 4.98060512e-01,\n",
       "        7.48248118e-01, 4.98060512e-01],\n",
       "       [1.00000000e-01, 5.00000000e+01, 8.56735012e-01, 4.79441427e-01,\n",
       "        8.56735012e-01, 4.79441427e-01],\n",
       "       [1.00000000e-01, 1.00000000e+02, 8.96703867e-01, 4.87199379e-01,\n",
       "        8.96703867e-01, 4.87199379e-01],\n",
       "       [5.00000000e-01, 1.00000000e-01, 4.87152868e-01, 4.99612102e-01,\n",
       "        4.87152868e-01, 4.99612102e-01],\n",
       "       [5.00000000e-01, 5.00000000e-01, 7.17363094e-01, 5.19782777e-01,\n",
       "        7.17363094e-01, 5.19782777e-01],\n",
       "       [5.00000000e-01, 1.00000000e-01, 4.87152868e-01, 4.99612102e-01,\n",
       "        4.87152868e-01, 4.99612102e-01],\n",
       "       [5.00000000e-01, 5.00000000e-01, 7.17363094e-01, 5.19782777e-01,\n",
       "        7.17363094e-01, 5.19782777e-01],\n",
       "       [5.00000000e-01, 1.00000000e+00, 8.35971970e-01, 5.07370054e-01,\n",
       "        8.35971970e-01, 5.07370054e-01],\n",
       "       [5.00000000e-01, 5.00000000e+00, 9.73008046e-01, 4.91078355e-01,\n",
       "        9.73008046e-01, 4.91078355e-01],\n",
       "       [5.00000000e-01, 1.00000000e+01, 9.89358941e-01, 4.78665632e-01,\n",
       "        9.89358941e-01, 4.78665632e-01],\n",
       "       [5.00000000e-01, 5.00000000e+01, 9.98183234e-01, 4.76338247e-01,\n",
       "        9.98183234e-01, 4.76338247e-01],\n",
       "       [5.00000000e-01, 1.00000000e+02, 1.00000000e+00, 4.74786656e-01,\n",
       "        1.00000000e+00, 4.74786656e-01],\n",
       "       [1.00000000e+00, 1.00000000e-01, 4.32909421e-01, 4.77889837e-01,\n",
       "        4.32909421e-01, 4.77889837e-01],\n",
       "       [1.00000000e+00, 5.00000000e-01, 7.79392681e-01, 5.06594259e-01,\n",
       "        7.79392681e-01, 5.06594259e-01],\n",
       "       [1.00000000e+00, 1.00000000e-01, 4.32909421e-01, 4.77889837e-01,\n",
       "        4.32909421e-01, 4.77889837e-01],\n",
       "       [1.00000000e+00, 5.00000000e-01, 7.79392681e-01, 5.06594259e-01,\n",
       "        7.79392681e-01, 5.06594259e-01],\n",
       "       [1.00000000e+00, 1.00000000e+00, 9.33817804e-01, 5.01939488e-01,\n",
       "        9.33817804e-01, 5.01939488e-01],\n",
       "       [1.00000000e+00, 5.00000000e+00, 9.93511549e-01, 4.87199379e-01,\n",
       "        9.93511549e-01, 4.87199379e-01],\n",
       "       [1.00000000e+00, 1.00000000e+01, 9.96366468e-01, 4.89526765e-01,\n",
       "        9.96366468e-01, 4.89526765e-01],\n",
       "       [1.00000000e+00, 5.00000000e+01, 1.00000000e+00, 4.89526765e-01,\n",
       "        1.00000000e+00, 4.89526765e-01],\n",
       "       [1.00000000e+00, 1.00000000e+02, 1.00000000e+00, 4.89526765e-01,\n",
       "        1.00000000e+00, 4.89526765e-01],\n",
       "       [5.00000000e+00, 1.00000000e-01, 4.28237737e-01, 4.77889837e-01,\n",
       "        4.28237737e-01, 4.77889837e-01],\n",
       "       [5.00000000e+00, 5.00000000e-01, 6.68829484e-01, 4.77889837e-01,\n",
       "        6.68829484e-01, 4.77889837e-01],\n",
       "       [5.00000000e+00, 1.00000000e-01, 4.28237737e-01, 4.77889837e-01,\n",
       "        4.28237737e-01, 4.77889837e-01],\n",
       "       [5.00000000e+00, 5.00000000e-01, 6.68829484e-01, 4.77889837e-01,\n",
       "        6.68829484e-01, 4.77889837e-01],\n",
       "       [5.00000000e+00, 1.00000000e+00, 9.93771087e-01, 4.77889837e-01,\n",
       "        9.93771087e-01, 4.77889837e-01],\n",
       "       [5.00000000e+00, 5.00000000e+00, 9.99740462e-01, 4.77889837e-01,\n",
       "        9.99740462e-01, 4.77889837e-01],\n",
       "       [5.00000000e+00, 1.00000000e+01, 1.00000000e+00, 4.77889837e-01,\n",
       "        1.00000000e+00, 4.77889837e-01],\n",
       "       [5.00000000e+00, 5.00000000e+01, 1.00000000e+00, 4.77889837e-01,\n",
       "        1.00000000e+00, 4.77889837e-01],\n",
       "       [5.00000000e+00, 1.00000000e+02, 1.00000000e+00, 4.77889837e-01,\n",
       "        1.00000000e+00, 4.77889837e-01],\n",
       "       [1.00000000e+01, 1.00000000e-01, 4.28237737e-01, 4.77889837e-01,\n",
       "        4.28237737e-01, 4.77889837e-01],\n",
       "       [1.00000000e+01, 5.00000000e-01, 6.49883208e-01, 4.77889837e-01,\n",
       "        6.49883208e-01, 4.77889837e-01],\n",
       "       [1.00000000e+01, 1.00000000e-01, 4.28237737e-01, 4.77889837e-01,\n",
       "        4.28237737e-01, 4.77889837e-01],\n",
       "       [1.00000000e+01, 5.00000000e-01, 6.49883208e-01, 4.77889837e-01,\n",
       "        6.49883208e-01, 4.77889837e-01],\n",
       "       [1.00000000e+01, 1.00000000e+00, 9.97145082e-01, 4.77114042e-01,\n",
       "        9.97145082e-01, 4.77114042e-01],\n",
       "       [1.00000000e+01, 5.00000000e+00, 1.00000000e+00, 4.77114042e-01,\n",
       "        1.00000000e+00, 4.77114042e-01],\n",
       "       [1.00000000e+01, 1.00000000e+01, 1.00000000e+00, 4.77114042e-01,\n",
       "        1.00000000e+00, 4.77114042e-01],\n",
       "       [1.00000000e+01, 5.00000000e+01, 1.00000000e+00, 4.77114042e-01,\n",
       "        1.00000000e+00, 4.77114042e-01],\n",
       "       [1.00000000e+01, 1.00000000e+02, 1.00000000e+00, 4.77114042e-01,\n",
       "        1.00000000e+00, 4.77114042e-01]])"
      ]
     },
     "execution_count": 158,
     "metadata": {},
     "output_type": "execute_result"
    }
   ],
   "source": [
    "values"
   ]
  },
  {
   "cell_type": "markdown",
   "metadata": {},
   "source": [
    "A gamma and c that gives a decent F1 score for the cross validation set is 0.05 and 1, respectively."
   ]
  },
  {
   "cell_type": "code",
   "execution_count": 167,
   "metadata": {},
   "outputs": [
    {
     "data": {
      "text/plain": [
       "Pipeline(steps=[('scaler', StandardScaler()),\n",
       "                ('svm_clf', SVC(C=0.5, gamma=0.1, random_state=2))])"
      ]
     },
     "execution_count": 167,
     "metadata": {},
     "output_type": "execute_result"
    }
   ],
   "source": [
    "rbf_kernel_svm_clf = Pipeline([('scaler', StandardScaler()), \n",
    "                               ('svm_clf', SVC(kernel = 'rbf', gamma = 0.1, C = 0.5, random_state = 2))])\n",
    "rbf_kernel_svm_clf.fit(trainX, trainY)"
   ]
  },
  {
   "cell_type": "code",
   "execution_count": 168,
   "metadata": {},
   "outputs": [
    {
     "name": "stdout",
     "output_type": "stream",
     "text": [
      "0.5989166881609492 0.5538342370255616\n"
     ]
    }
   ],
   "source": [
    "rbf_kernel_svm_clf.fit(trainX, trainY)\n",
    "train_predict_svm = rbf_kernel_svm_clf.predict(trainX)\n",
    "CV_predict_svm = rbf_kernel_svm_clf.predict(CVX)\n",
    "precision_train = precision_score(trainY, train_predict_svm, average = 'micro')\n",
    "precision_CV = precision_score(CVY, CV_predict_svm, average = 'micro')\n",
    "recall_train = precision_score(trainY, train_predict_svm, average = 'micro')\n",
    "recall_CV = precision_score(CVY, CV_predict_svm, average = 'micro')\n",
    "\n",
    "fScoreTrain = ((2*precision_train*recall_train)/(precision_train+recall_train))\n",
    "fScoreCrossVal = ((2*precision_CV*recall_CV)/(precision_CV+recall_CV))\n",
    "\n",
    "print(fScoreTrain, fScoreCrossVal)"
   ]
  },
  {
   "cell_type": "markdown",
   "metadata": {},
   "source": [
    "The F1 score for the cross validation set is 0.55, similar to the logistic regression model. Also, the model now predicts quality = 7 for some wines!"
   ]
  },
  {
   "cell_type": "code",
   "execution_count": 169,
   "metadata": {},
   "outputs": [
    {
     "data": {
      "text/plain": [
       "array([[  0,   0,   5,   0,   0,   0,   0],\n",
       "       [  0,   0,  18,  16,   0,   0,   0],\n",
       "       [  0,   0, 250, 155,   0,   0,   0],\n",
       "       [  0,   0, 136, 419,  33,   0,   0],\n",
       "       [  0,   0,   6, 168,  46,   0,   0],\n",
       "       [  0,   0,   1,  25,  12,   0,   0],\n",
       "       [  0,   0,   0,   0,   1,   0,   0]], dtype=int64)"
      ]
     },
     "execution_count": 169,
     "metadata": {},
     "output_type": "execute_result"
    }
   ],
   "source": [
    "confusion_matrix(CVY, CV_predict_svm)"
   ]
  },
  {
   "cell_type": "markdown",
   "metadata": {},
   "source": [
    "\n",
    "|predicted class | precision | recall |\n",
    "| --- | --- | --- |\n",
    "| 3 | undefined | 0 |\n",
    "| 4 | undefined | 0 |\n",
    "| 5 | 0.60 | 0.62 |\n",
    "| 6 | 0.53 | 0.71 |\n",
    "| 7 | 0.5 | 0.21 |\n",
    "| 8 | undefined | 0 |\n"
   ]
  },
  {
   "cell_type": "markdown",
   "metadata": {},
   "source": [
    "The question is-- does our model suffer from high bias or variance? Let's plot a learning curve to find out."
   ]
  },
  {
   "cell_type": "code",
   "execution_count": 19,
   "metadata": {},
   "outputs": [],
   "source": [
    "from sklearn.metrics import f1_score"
   ]
  },
  {
   "cell_type": "code",
   "execution_count": 165,
   "metadata": {},
   "outputs": [],
   "source": [
    "learning_curve_data = pd.DataFrame()\n",
    "\n",
    "for iter in list(range(10, 3877)):   \n",
    "    data_shuffle = data.sample(frac = 1, random_state = 2)\n",
    "    data_shuffle.reset_index(inplace = True, drop = True)\n",
    "    trainX, trainY, CVX, CVY, testX, testY = makeTrainCrossValTestSet(data_shuffle, iter)\n",
    "    rbf_kernel_svm_clf.fit(trainX, trainY)\n",
    "    train_predict_svm = rbf_kernel_svm_clf.predict(trainX)\n",
    "    CV_predict_svm = rbf_kernel_svm_clf.predict(CVX)\n",
    "    f1Score_train = f1_score(trainY, train_predict_svm, average = 'micro')\n",
    "    f1Score_CV = f1_score(CVY, CV_predict_svm, average = 'micro')\n",
    "    learning_curve_data = learning_curve_data.append([iter, f1Score_train,  f1Score_CV], ignore_index = True)"
   ]
  },
  {
   "cell_type": "code",
   "execution_count": 166,
   "metadata": {},
   "outputs": [
    {
     "data": {
      "text/plain": [
       "<matplotlib.legend.Legend at 0x1adeada8>"
      ]
     },
     "execution_count": 166,
     "metadata": {},
     "output_type": "execute_result"
    },
    {
     "data": {
      "image/png": "[encoded data removed]",
      "text/plain": [
       "<Figure size 432x288 with 1 Axes>"
      ]
     },
     "metadata": {
      "needs_background": "light"
     },
     "output_type": "display_data"
    }
   ],
   "source": [
    "learning_curve_data = learning_curve_data.to_numpy()\n",
    "learning_curve_data = learning_curve_data.reshape((-1,3))\n",
    "\n",
    "plt.plot(learning_curve_data[:,0], learning_curve_data[:,1], label = 'Train')\n",
    "plt.plot(learning_curve_data[:,0], learning_curve_data[:,2], label = 'Cross Val')\n",
    "plt.xlabel('Training set size')\n",
    "plt.ylabel('F1 Score')\n",
    "plt.legend(loc = 'best')"
   ]
  },
  {
   "cell_type": "markdown",
   "metadata": {},
   "source": [
    "This learning curve shows that our model is hindered by high bias rather than variance. Increasing the training set will not help, because after just 1000 training examples the f1 score of the cross validation set matches that of the training set.\n",
    "\n",
    "However, we could choose different hyperparameters to yield a high variance model. Gamma = 0.1, C= 50 gives us a precision test set score of 0.86 and CV precision score of 0.48. We don't want to choose the hyperparameters that allow us to fit the training data perfectly (1), though. Let's make a learning curve for this model to see the difference."
   ]
  },
  {
   "cell_type": "code",
   "execution_count": 184,
   "metadata": {},
   "outputs": [
    {
     "data": {
      "text/plain": [
       "Pipeline(steps=[('scaler', StandardScaler()),\n",
       "                ('svm_clf', SVC(C=50, gamma=0.1, random_state=2))])"
      ]
     },
     "execution_count": 184,
     "metadata": {},
     "output_type": "execute_result"
    }
   ],
   "source": [
    "rbf_kernel_svm_clf = Pipeline([('scaler', StandardScaler()), \n",
    "                               ('svm_clf', SVC(kernel = 'rbf', gamma = 0.1, C = 50, random_state = 2))])\n",
    "rbf_kernel_svm_clf.fit(trainX, trainY)"
   ]
  },
  {
   "cell_type": "code",
   "execution_count": 185,
   "metadata": {},
   "outputs": [],
   "source": [
    "learning_curve_data = pd.DataFrame()\n",
    "\n",
    "for iter in list(range(10, 3877)):   \n",
    "    data_shuffle = data.sample(frac = 1, random_state = 2)\n",
    "    data_shuffle.reset_index(inplace = True, drop = True)\n",
    "    trainX, trainY, CVX, CVY, testX, testY = makeTrainCrossValTestSet(data_shuffle, iter)\n",
    "    rbf_kernel_svm_clf.fit(trainX, trainY)\n",
    "    train_predict_svm = rbf_kernel_svm_clf.predict(trainX)\n",
    "    CV_predict_svm = rbf_kernel_svm_clf.predict(CVX)\n",
    "    f1Score_train = f1_score(trainY, train_predict_svm, average = 'micro')\n",
    "    f1Score_CV = f1_score(CVY, CV_predict_svm, average = 'micro')\n",
    "    learning_curve_data = learning_curve_data.append([iter, f1Score_train,  f1Score_CV], ignore_index = True)"
   ]
  },
  {
   "cell_type": "code",
   "execution_count": 186,
   "metadata": {},
   "outputs": [
    {
     "data": {
      "text/plain": [
       "<matplotlib.legend.Legend at 0x138ae898>"
      ]
     },
     "execution_count": 186,
     "metadata": {},
     "output_type": "execute_result"
    },
    {
     "data": {
      "image/png": "[encoded data removed]",
      "text/plain": [
       "<Figure size 432x288 with 1 Axes>"
      ]
     },
     "metadata": {
      "needs_background": "light"
     },
     "output_type": "display_data"
    }
   ],
   "source": [
    "learning_curve_data = learning_curve_data.to_numpy()\n",
    "learning_curve_data = learning_curve_data.reshape((-1,3))\n",
    "\n",
    "plt.plot(learning_curve_data[:,0], learning_curve_data[:,1], label = 'Train')\n",
    "plt.plot(learning_curve_data[:,0], learning_curve_data[:,2], label = 'Cross Val')\n",
    "plt.xlabel('Training set size')\n",
    "plt.ylabel('F1 Score')\n",
    "plt.legend(loc = 'best')"
   ]
  },
  {
   "cell_type": "markdown",
   "metadata": {},
   "source": [
    "The above learning curve is indicative of a high variance model. If we increase the training set size, the cross validation set F1 score will increase. We would choose these hyperparameters if we were able to get more data. This model has the potential to increase the cross validation F1 score to > 0.7!\n",
    "\n",
    "In the literature paper, they actually have separate models evaluating quality for white and red wines. It could be that some of the features correlate more or less for red/white wines."
   ]
  },
  {
   "cell_type": "markdown",
   "metadata": {},
   "source": [
    "## Separating Dataset into Red and White wines <a class=\"anchor\" id=\"sixth-bullet\"></a>"
   ]
  },
  {
   "cell_type": "markdown",
   "metadata": {},
   "source": [
    "They mention in the literature paper that there are different taste testers for the wine. Beyond this, what if whites are higher quality if they have a different pH than reds? The optimal levels of features may be different for red and white varieties. In this section we split them up to see if this makes for a better performing model."
   ]
  },
  {
   "cell_type": "code",
   "execution_count": 41,
   "metadata": {},
   "outputs": [],
   "source": [
    "reds = data.loc[:,'color'] == 1\n",
    "reds = data[reds]\n",
    "reds.reset_index(inplace = True)"
   ]
  },
  {
   "cell_type": "code",
   "execution_count": 25,
   "metadata": {},
   "outputs": [
    {
     "data": {
      "text/html": [
       "<div>\n",
       "<style scoped>\n",
       "    .dataframe tbody tr th:only-of-type {\n",
       "        vertical-align: middle;\n",
       "    }\n",
       "\n",
       "    .dataframe tbody tr th {\n",
       "        vertical-align: top;\n",
       "    }\n",
       "\n",
       "    .dataframe thead th {\n",
       "        text-align: right;\n",
       "    }\n",
       "</style>\n",
       "<table border=\"1\" class=\"dataframe\">\n",
       "  <thead>\n",
       "    <tr style=\"text-align: right;\">\n",
       "      <th></th>\n",
       "      <th>fixed acidity</th>\n",
       "      <th>volatile acidity</th>\n",
       "      <th>citric acid</th>\n",
       "      <th>residual sugar</th>\n",
       "      <th>chlorides</th>\n",
       "      <th>free sulfur dioxide</th>\n",
       "      <th>total sulfur dioxide</th>\n",
       "      <th>density</th>\n",
       "      <th>pH</th>\n",
       "      <th>sulphates</th>\n",
       "      <th>alcohol</th>\n",
       "      <th>quality</th>\n",
       "      <th>color</th>\n",
       "    </tr>\n",
       "  </thead>\n",
       "  <tbody>\n",
       "    <tr>\n",
       "      <th>0</th>\n",
       "      <td>7.0</td>\n",
       "      <td>0.27</td>\n",
       "      <td>0.36</td>\n",
       "      <td>20.7</td>\n",
       "      <td>0.045</td>\n",
       "      <td>45.0</td>\n",
       "      <td>170.0</td>\n",
       "      <td>1.00100</td>\n",
       "      <td>3.00</td>\n",
       "      <td>0.45</td>\n",
       "      <td>8.8</td>\n",
       "      <td>6</td>\n",
       "      <td>0</td>\n",
       "    </tr>\n",
       "    <tr>\n",
       "      <th>1</th>\n",
       "      <td>6.3</td>\n",
       "      <td>0.30</td>\n",
       "      <td>0.34</td>\n",
       "      <td>1.6</td>\n",
       "      <td>0.049</td>\n",
       "      <td>14.0</td>\n",
       "      <td>132.0</td>\n",
       "      <td>0.99400</td>\n",
       "      <td>3.30</td>\n",
       "      <td>0.49</td>\n",
       "      <td>9.5</td>\n",
       "      <td>6</td>\n",
       "      <td>0</td>\n",
       "    </tr>\n",
       "    <tr>\n",
       "      <th>2</th>\n",
       "      <td>8.1</td>\n",
       "      <td>0.28</td>\n",
       "      <td>0.40</td>\n",
       "      <td>6.9</td>\n",
       "      <td>0.050</td>\n",
       "      <td>30.0</td>\n",
       "      <td>97.0</td>\n",
       "      <td>0.99510</td>\n",
       "      <td>3.26</td>\n",
       "      <td>0.44</td>\n",
       "      <td>10.1</td>\n",
       "      <td>6</td>\n",
       "      <td>0</td>\n",
       "    </tr>\n",
       "    <tr>\n",
       "      <th>3</th>\n",
       "      <td>7.2</td>\n",
       "      <td>0.23</td>\n",
       "      <td>0.32</td>\n",
       "      <td>8.5</td>\n",
       "      <td>0.058</td>\n",
       "      <td>47.0</td>\n",
       "      <td>186.0</td>\n",
       "      <td>0.99560</td>\n",
       "      <td>3.19</td>\n",
       "      <td>0.40</td>\n",
       "      <td>9.9</td>\n",
       "      <td>6</td>\n",
       "      <td>0</td>\n",
       "    </tr>\n",
       "    <tr>\n",
       "      <th>4</th>\n",
       "      <td>7.2</td>\n",
       "      <td>0.23</td>\n",
       "      <td>0.32</td>\n",
       "      <td>8.5</td>\n",
       "      <td>0.058</td>\n",
       "      <td>47.0</td>\n",
       "      <td>186.0</td>\n",
       "      <td>0.99560</td>\n",
       "      <td>3.19</td>\n",
       "      <td>0.40</td>\n",
       "      <td>9.9</td>\n",
       "      <td>6</td>\n",
       "      <td>0</td>\n",
       "    </tr>\n",
       "    <tr>\n",
       "      <th>...</th>\n",
       "      <td>...</td>\n",
       "      <td>...</td>\n",
       "      <td>...</td>\n",
       "      <td>...</td>\n",
       "      <td>...</td>\n",
       "      <td>...</td>\n",
       "      <td>...</td>\n",
       "      <td>...</td>\n",
       "      <td>...</td>\n",
       "      <td>...</td>\n",
       "      <td>...</td>\n",
       "      <td>...</td>\n",
       "      <td>...</td>\n",
       "    </tr>\n",
       "    <tr>\n",
       "      <th>4891</th>\n",
       "      <td>5.7</td>\n",
       "      <td>0.21</td>\n",
       "      <td>0.32</td>\n",
       "      <td>0.9</td>\n",
       "      <td>0.038</td>\n",
       "      <td>38.0</td>\n",
       "      <td>121.0</td>\n",
       "      <td>0.99074</td>\n",
       "      <td>3.24</td>\n",
       "      <td>0.46</td>\n",
       "      <td>10.6</td>\n",
       "      <td>6</td>\n",
       "      <td>0</td>\n",
       "    </tr>\n",
       "    <tr>\n",
       "      <th>4893</th>\n",
       "      <td>6.2</td>\n",
       "      <td>0.21</td>\n",
       "      <td>0.29</td>\n",
       "      <td>1.6</td>\n",
       "      <td>0.039</td>\n",
       "      <td>24.0</td>\n",
       "      <td>92.0</td>\n",
       "      <td>0.99114</td>\n",
       "      <td>3.27</td>\n",
       "      <td>0.50</td>\n",
       "      <td>11.2</td>\n",
       "      <td>6</td>\n",
       "      <td>0</td>\n",
       "    </tr>\n",
       "    <tr>\n",
       "      <th>4894</th>\n",
       "      <td>6.6</td>\n",
       "      <td>0.32</td>\n",
       "      <td>0.36</td>\n",
       "      <td>8.0</td>\n",
       "      <td>0.047</td>\n",
       "      <td>57.0</td>\n",
       "      <td>168.0</td>\n",
       "      <td>0.99490</td>\n",
       "      <td>3.15</td>\n",
       "      <td>0.46</td>\n",
       "      <td>9.6</td>\n",
       "      <td>5</td>\n",
       "      <td>0</td>\n",
       "    </tr>\n",
       "    <tr>\n",
       "      <th>4896</th>\n",
       "      <td>5.5</td>\n",
       "      <td>0.29</td>\n",
       "      <td>0.30</td>\n",
       "      <td>1.1</td>\n",
       "      <td>0.022</td>\n",
       "      <td>20.0</td>\n",
       "      <td>110.0</td>\n",
       "      <td>0.98869</td>\n",
       "      <td>3.34</td>\n",
       "      <td>0.38</td>\n",
       "      <td>12.8</td>\n",
       "      <td>7</td>\n",
       "      <td>0</td>\n",
       "    </tr>\n",
       "    <tr>\n",
       "      <th>4897</th>\n",
       "      <td>6.0</td>\n",
       "      <td>0.21</td>\n",
       "      <td>0.38</td>\n",
       "      <td>0.8</td>\n",
       "      <td>0.020</td>\n",
       "      <td>22.0</td>\n",
       "      <td>98.0</td>\n",
       "      <td>0.98941</td>\n",
       "      <td>3.26</td>\n",
       "      <td>0.32</td>\n",
       "      <td>11.8</td>\n",
       "      <td>6</td>\n",
       "      <td>0</td>\n",
       "    </tr>\n",
       "  </tbody>\n",
       "</table>\n",
       "<p>4870 rows × 13 columns</p>\n",
       "</div>"
      ],
      "text/plain": [
       "      fixed acidity  volatile acidity  citric acid  residual sugar  chlorides  \\\n",
       "0               7.0              0.27         0.36            20.7      0.045   \n",
       "1               6.3              0.30         0.34             1.6      0.049   \n",
       "2               8.1              0.28         0.40             6.9      0.050   \n",
       "3               7.2              0.23         0.32             8.5      0.058   \n",
       "4               7.2              0.23         0.32             8.5      0.058   \n",
       "...             ...               ...          ...             ...        ...   \n",
       "4891            5.7              0.21         0.32             0.9      0.038   \n",
       "4893            6.2              0.21         0.29             1.6      0.039   \n",
       "4894            6.6              0.32         0.36             8.0      0.047   \n",
       "4896            5.5              0.29         0.30             1.1      0.022   \n",
       "4897            6.0              0.21         0.38             0.8      0.020   \n",
       "\n",
       "      free sulfur dioxide  total sulfur dioxide  density    pH  sulphates  \\\n",
       "0                    45.0                 170.0  1.00100  3.00       0.45   \n",
       "1                    14.0                 132.0  0.99400  3.30       0.49   \n",
       "2                    30.0                  97.0  0.99510  3.26       0.44   \n",
       "3                    47.0                 186.0  0.99560  3.19       0.40   \n",
       "4                    47.0                 186.0  0.99560  3.19       0.40   \n",
       "...                   ...                   ...      ...   ...        ...   \n",
       "4891                 38.0                 121.0  0.99074  3.24       0.46   \n",
       "4893                 24.0                  92.0  0.99114  3.27       0.50   \n",
       "4894                 57.0                 168.0  0.99490  3.15       0.46   \n",
       "4896                 20.0                 110.0  0.98869  3.34       0.38   \n",
       "4897                 22.0                  98.0  0.98941  3.26       0.32   \n",
       "\n",
       "      alcohol  quality  color  \n",
       "0         8.8        6      0  \n",
       "1         9.5        6      0  \n",
       "2        10.1        6      0  \n",
       "3         9.9        6      0  \n",
       "4         9.9        6      0  \n",
       "...       ...      ...    ...  \n",
       "4891     10.6        6      0  \n",
       "4893     11.2        6      0  \n",
       "4894      9.6        5      0  \n",
       "4896     12.8        7      0  \n",
       "4897     11.8        6      0  \n",
       "\n",
       "[4870 rows x 13 columns]"
      ]
     },
     "execution_count": 25,
     "metadata": {},
     "output_type": "execute_result"
    }
   ],
   "source": [
    "whites = data.loc[:,'color'] == 0\n",
    "whites = data[whites]\n",
    "whites"
   ]
  },
  {
   "cell_type": "code",
   "execution_count": 26,
   "metadata": {},
   "outputs": [],
   "source": [
    "trainX, trainY, CVX, CVY, testX, testY = makeTrainCrossValTestSet(whites, round(len(whites)*0.6))"
   ]
  },
  {
   "cell_type": "code",
   "execution_count": 21,
   "metadata": {},
   "outputs": [
    {
     "data": {
      "text/plain": [
       "Pipeline(steps=[('scaler', StandardScaler()),\n",
       "                ('svm_clf', SVC(C=0.1, gamma=0.5))])"
      ]
     },
     "execution_count": 21,
     "metadata": {},
     "output_type": "execute_result"
    }
   ],
   "source": [
    "rbf_kernel_svm_whites = Pipeline([('scaler', StandardScaler()), \n",
    "                               ('svm_clf', SVC(kernel = 'rbf', gamma = 0.5, C = 0.1))])\n",
    "rbf_kernel_svm_whites.fit(trainX, trainY)"
   ]
  },
  {
   "cell_type": "code",
   "execution_count": 22,
   "metadata": {},
   "outputs": [
    {
     "name": "stdout",
     "output_type": "stream",
     "text": [
      "0.474283741801864 0.47070914696813976\n"
     ]
    }
   ],
   "source": [
    "train_predict_svm_whites = rbf_kernel_svm_whites.predict(trainX)\n",
    "CV_predict_svm_whites = rbf_kernel_svm_whites.predict(CVX)\n",
    "precision_train_whites = precision_score(trainY, train_predict_svm_whites, average = 'micro')\n",
    "precision_CV_whites = precision_score(CVY, CV_predict_svm_whites, average = 'micro')\n",
    "\n",
    "print(precision_train_whites, precision_CV_whites)"
   ]
  },
  {
   "cell_type": "markdown",
   "metadata": {},
   "source": [
    "Let's tune the hyperparameters again for the white wine model."
   ]
  },
  {
   "cell_type": "code",
   "execution_count": 23,
   "metadata": {},
   "outputs": [],
   "source": [
    "g = [0.0001, 0.0005, 0.001, 0.05, 0.01, 0.05, 0.1, 0.5, 1, 5, 10]\n",
    "C_hyper = [0.1, 0.5, 0.1, 0.5, 1, 5, 10, 50, 100]\n",
    "values = np.array([])\n",
    "\n",
    "for i in g:\n",
    "    for e in C_hyper:\n",
    "        rbf_kernel_svm_clf = Pipeline([('scaler', StandardScaler()), \n",
    "                               ('svm_clf', SVC(kernel = 'rbf', gamma = i, C = e, random_state = 2))])\n",
    "        rbf_kernel_svm_clf.fit(trainX, trainY)\n",
    "        train_predict_svm = rbf_kernel_svm_clf.predict(trainX)\n",
    "        CV_predict_svm = rbf_kernel_svm_clf.predict(CVX)\n",
    "        precision_train = precision_score(trainY, train_predict_svm, average = 'micro')\n",
    "        precision_CV = precision_score(CVY, CV_predict_svm, average = 'micro')\n",
    "        recall_train = precision_score(trainY, train_predict_svm, average = 'micro')\n",
    "        recall_CV = precision_score(CVY, CV_predict_svm, average = 'micro')\n",
    "        temp_values = [i, e, precision_train, precision_CV, recall_train, recall_CV]\n",
    "        values = np.append(values, [temp_values])"
   ]
  },
  {
   "cell_type": "code",
   "execution_count": 27,
   "metadata": {},
   "outputs": [
    {
     "data": {
      "text/plain": [
       "array([[1.00000000e-04, 1.00000000e-01, 4.17328271e-01, 4.65570401e-01,\n",
       "        4.17328271e-01, 4.65570401e-01],\n",
       "       [1.00000000e-04, 5.00000000e-01, 4.17328271e-01, 4.65570401e-01,\n",
       "        4.17328271e-01, 4.65570401e-01],\n",
       "       [1.00000000e-04, 1.00000000e-01, 4.17328271e-01, 4.65570401e-01,\n",
       "        4.17328271e-01, 4.65570401e-01],\n",
       "       [1.00000000e-04, 5.00000000e-01, 4.17328271e-01, 4.65570401e-01,\n",
       "        4.17328271e-01, 4.65570401e-01],\n",
       "       [1.00000000e-04, 1.00000000e+00, 4.17328271e-01, 4.65570401e-01,\n",
       "        4.17328271e-01, 4.65570401e-01],\n",
       "       [1.00000000e-04, 5.00000000e+00, 4.69105972e-01, 4.80986639e-01,\n",
       "        4.69105972e-01, 4.80986639e-01],\n",
       "       [1.00000000e-04, 1.00000000e+01, 4.94994822e-01, 4.72764645e-01,\n",
       "        4.94994822e-01, 4.72764645e-01],\n",
       "       [1.00000000e-04, 5.00000000e+01, 5.02588885e-01, 4.66598150e-01,\n",
       "        5.02588885e-01, 4.66598150e-01],\n",
       "       [1.00000000e-04, 1.00000000e+02, 5.03279254e-01, 4.74820144e-01,\n",
       "        5.03279254e-01, 4.74820144e-01],\n",
       "       [5.00000000e-04, 1.00000000e-01, 4.17328271e-01, 4.65570401e-01,\n",
       "        4.17328271e-01, 4.65570401e-01],\n",
       "       [5.00000000e-04, 5.00000000e-01, 4.20089748e-01, 4.66598150e-01,\n",
       "        4.20089748e-01, 4.66598150e-01],\n",
       "       [5.00000000e-04, 1.00000000e-01, 4.17328271e-01, 4.65570401e-01,\n",
       "        4.17328271e-01, 4.65570401e-01],\n",
       "       [5.00000000e-04, 5.00000000e-01, 4.20089748e-01, 4.66598150e-01,\n",
       "        4.20089748e-01, 4.66598150e-01],\n",
       "       [5.00000000e-04, 1.00000000e+00, 4.69451156e-01, 4.80986639e-01,\n",
       "        4.69451156e-01, 4.80986639e-01],\n",
       "       [5.00000000e-04, 5.00000000e+00, 5.00172592e-01, 4.66598150e-01,\n",
       "        5.00172592e-01, 4.66598150e-01],\n",
       "       [5.00000000e-04, 1.00000000e+01, 5.02243700e-01, 4.67625899e-01,\n",
       "        5.02243700e-01, 4.67625899e-01],\n",
       "       [5.00000000e-04, 5.00000000e+01, 5.08111840e-01, 4.82014388e-01,\n",
       "        5.08111840e-01, 4.82014388e-01],\n",
       "       [5.00000000e-04, 1.00000000e+02, 5.15705903e-01, 5.01541624e-01,\n",
       "        5.15705903e-01, 5.01541624e-01],\n",
       "       [1.00000000e-03, 1.00000000e-01, 4.17328271e-01, 4.65570401e-01,\n",
       "        4.17328271e-01, 4.65570401e-01],\n",
       "       [1.00000000e-03, 5.00000000e-01, 4.69796341e-01, 4.82014388e-01,\n",
       "        4.69796341e-01, 4.82014388e-01],\n",
       "       [1.00000000e-03, 1.00000000e-01, 4.17328271e-01, 4.65570401e-01,\n",
       "        4.17328271e-01, 4.65570401e-01],\n",
       "       [1.00000000e-03, 5.00000000e-01, 4.69796341e-01, 4.82014388e-01,\n",
       "        4.69796341e-01, 4.82014388e-01],\n",
       "       [1.00000000e-03, 1.00000000e+00, 4.94649638e-01, 4.73792395e-01,\n",
       "        4.94649638e-01, 4.73792395e-01],\n",
       "       [1.00000000e-03, 5.00000000e+00, 5.02588885e-01, 4.74820144e-01,\n",
       "        5.02588885e-01, 4.74820144e-01],\n",
       "       [1.00000000e-03, 1.00000000e+01, 5.03969624e-01, 4.78931141e-01,\n",
       "        5.03969624e-01, 4.78931141e-01],\n",
       "       [1.00000000e-03, 5.00000000e+01, 5.28132551e-01, 5.20041110e-01,\n",
       "        5.28132551e-01, 5.20041110e-01],\n",
       "       [1.00000000e-03, 1.00000000e+02, 5.30548844e-01, 5.12846865e-01,\n",
       "        5.30548844e-01, 5.12846865e-01],\n",
       "       [5.00000000e-02, 1.00000000e-01, 5.24680704e-01, 4.82014388e-01,\n",
       "        5.24680704e-01, 4.82014388e-01],\n",
       "       [5.00000000e-02, 5.00000000e-01, 5.65412496e-01, 4.84069887e-01,\n",
       "        5.65412496e-01, 4.84069887e-01],\n",
       "       [5.00000000e-02, 1.00000000e-01, 5.24680704e-01, 4.82014388e-01,\n",
       "        5.24680704e-01, 4.82014388e-01],\n",
       "       [5.00000000e-02, 5.00000000e-01, 5.65412496e-01, 4.84069887e-01,\n",
       "        5.65412496e-01, 4.84069887e-01],\n",
       "       [5.00000000e-02, 1.00000000e+00, 5.82671729e-01, 4.93319630e-01,\n",
       "        5.82671729e-01, 4.93319630e-01],\n",
       "       [5.00000000e-02, 5.00000000e+00, 6.24784260e-01, 4.82014388e-01,\n",
       "        6.24784260e-01, 4.82014388e-01],\n",
       "       [5.00000000e-02, 1.00000000e+01, 6.51363479e-01, 4.80986639e-01,\n",
       "        6.51363479e-01, 4.80986639e-01],\n",
       "       [5.00000000e-02, 5.00000000e+01, 7.34552986e-01, 4.40904419e-01,\n",
       "        7.34552986e-01, 4.40904419e-01],\n",
       "       [5.00000000e-02, 1.00000000e+02, 7.77010701e-01, 4.29599178e-01,\n",
       "        7.77010701e-01, 4.29599178e-01],\n",
       "       [1.00000000e-02, 1.00000000e-01, 4.92923714e-01, 4.61459404e-01,\n",
       "        4.92923714e-01, 4.61459404e-01],\n",
       "       [1.00000000e-02, 5.00000000e-01, 5.15705903e-01, 4.74820144e-01,\n",
       "        5.15705903e-01, 4.74820144e-01],\n",
       "       [1.00000000e-02, 1.00000000e-01, 4.92923714e-01, 4.61459404e-01,\n",
       "        4.92923714e-01, 4.61459404e-01],\n",
       "       [1.00000000e-02, 5.00000000e-01, 5.15705903e-01, 4.74820144e-01,\n",
       "        5.15705903e-01, 4.74820144e-01],\n",
       "       [1.00000000e-02, 1.00000000e+00, 5.26061443e-01, 5.10791367e-01,\n",
       "        5.26061443e-01, 5.10791367e-01],\n",
       "       [1.00000000e-02, 5.00000000e+00, 5.54021401e-01, 4.97430627e-01,\n",
       "        5.54021401e-01, 4.97430627e-01],\n",
       "       [1.00000000e-02, 1.00000000e+01, 5.62996203e-01, 4.91264132e-01,\n",
       "        5.62996203e-01, 4.91264132e-01],\n",
       "       [1.00000000e-02, 5.00000000e+01, 5.89920608e-01, 4.99486125e-01,\n",
       "        5.89920608e-01, 4.99486125e-01],\n",
       "       [1.00000000e-02, 1.00000000e+02, 6.07870211e-01, 4.88180884e-01,\n",
       "        6.07870211e-01, 4.88180884e-01],\n",
       "       [5.00000000e-02, 1.00000000e-01, 5.24680704e-01, 4.82014388e-01,\n",
       "        5.24680704e-01, 4.82014388e-01],\n",
       "       [5.00000000e-02, 5.00000000e-01, 5.65412496e-01, 4.84069887e-01,\n",
       "        5.65412496e-01, 4.84069887e-01],\n",
       "       [5.00000000e-02, 1.00000000e-01, 5.24680704e-01, 4.82014388e-01,\n",
       "        5.24680704e-01, 4.82014388e-01],\n",
       "       [5.00000000e-02, 5.00000000e-01, 5.65412496e-01, 4.84069887e-01,\n",
       "        5.65412496e-01, 4.84069887e-01],\n",
       "       [5.00000000e-02, 1.00000000e+00, 5.82671729e-01, 4.93319630e-01,\n",
       "        5.82671729e-01, 4.93319630e-01],\n",
       "       [5.00000000e-02, 5.00000000e+00, 6.24784260e-01, 4.82014388e-01,\n",
       "        6.24784260e-01, 4.82014388e-01],\n",
       "       [5.00000000e-02, 1.00000000e+01, 6.51363479e-01, 4.80986639e-01,\n",
       "        6.51363479e-01, 4.80986639e-01],\n",
       "       [5.00000000e-02, 5.00000000e+01, 7.34552986e-01, 4.40904419e-01,\n",
       "        7.34552986e-01, 4.40904419e-01],\n",
       "       [5.00000000e-02, 1.00000000e+02, 7.77010701e-01, 4.29599178e-01,\n",
       "        7.77010701e-01, 4.29599178e-01],\n",
       "       [1.00000000e-01, 1.00000000e-01, 5.46427339e-01, 5.00513875e-01,\n",
       "        5.46427339e-01, 5.00513875e-01],\n",
       "       [1.00000000e-01, 5.00000000e-01, 5.95788747e-01, 4.90236382e-01,\n",
       "        5.95788747e-01, 4.90236382e-01],\n",
       "       [1.00000000e-01, 1.00000000e-01, 5.46427339e-01, 5.00513875e-01,\n",
       "        5.46427339e-01, 5.00513875e-01],\n",
       "       [1.00000000e-01, 5.00000000e-01, 5.95788747e-01, 4.90236382e-01,\n",
       "        5.95788747e-01, 4.90236382e-01],\n",
       "       [1.00000000e-01, 1.00000000e+00, 6.15809458e-01, 4.76875642e-01,\n",
       "        6.15809458e-01, 4.76875642e-01],\n",
       "       [1.00000000e-01, 5.00000000e+00, 7.03831550e-01, 4.72764645e-01,\n",
       "        7.03831550e-01, 4.72764645e-01],\n",
       "       [1.00000000e-01, 1.00000000e+01, 7.52502589e-01, 4.59403905e-01,\n",
       "        7.52502589e-01, 4.59403905e-01],\n",
       "       [1.00000000e-01, 5.00000000e+01, 8.73662409e-01, 4.17266187e-01,\n",
       "        8.73662409e-01, 4.17266187e-01],\n",
       "       [1.00000000e-01, 1.00000000e+02, 9.13358647e-01, 3.99794450e-01,\n",
       "        9.13358647e-01, 3.99794450e-01],\n",
       "       [5.00000000e-01, 1.00000000e-01, 4.74283742e-01, 4.70709147e-01,\n",
       "        4.74283742e-01, 4.70709147e-01],\n",
       "       [5.00000000e-01, 5.00000000e-01, 7.19710045e-01, 4.97430627e-01,\n",
       "        7.19710045e-01, 4.97430627e-01],\n",
       "       [5.00000000e-01, 1.00000000e-01, 4.74283742e-01, 4.70709147e-01,\n",
       "        4.74283742e-01, 4.70709147e-01],\n",
       "       [5.00000000e-01, 5.00000000e-01, 7.19710045e-01, 4.97430627e-01,\n",
       "        7.19710045e-01, 4.97430627e-01],\n",
       "       [5.00000000e-01, 1.00000000e+00, 8.39143942e-01, 4.83042138e-01,\n",
       "        8.39143942e-01, 4.83042138e-01],\n",
       "       [5.00000000e-01, 5.00000000e+00, 9.73765965e-01, 4.54265159e-01,\n",
       "        9.73765965e-01, 4.54265159e-01],\n",
       "       [5.00000000e-01, 1.00000000e+01, 9.87918536e-01, 4.34737924e-01,\n",
       "        9.87918536e-01, 4.34737924e-01],\n",
       "       [5.00000000e-01, 5.00000000e+01, 9.98964446e-01, 4.17266187e-01,\n",
       "        9.98964446e-01, 4.17266187e-01],\n",
       "       [5.00000000e-01, 1.00000000e+02, 1.00000000e+00, 4.11099692e-01,\n",
       "        1.00000000e+00, 4.11099692e-01],\n",
       "       [1.00000000e+00, 1.00000000e-01, 4.25267518e-01, 4.65570401e-01,\n",
       "        4.25267518e-01, 4.65570401e-01],\n",
       "       [1.00000000e+00, 5.00000000e-01, 7.87711426e-01, 4.82014388e-01,\n",
       "        7.87711426e-01, 4.82014388e-01],\n",
       "       [1.00000000e+00, 1.00000000e-01, 4.25267518e-01, 4.65570401e-01,\n",
       "        4.25267518e-01, 4.65570401e-01],\n",
       "       [1.00000000e+00, 5.00000000e-01, 7.87711426e-01, 4.82014388e-01,\n",
       "        7.87711426e-01, 4.82014388e-01],\n",
       "       [1.00000000e+00, 1.00000000e+00, 9.34414912e-01, 5.02569373e-01,\n",
       "        9.34414912e-01, 5.02569373e-01],\n",
       "       [1.00000000e+00, 5.00000000e+00, 9.93096307e-01, 4.83042138e-01,\n",
       "        9.93096307e-01, 4.83042138e-01],\n",
       "       [1.00000000e+00, 1.00000000e+01, 9.96893338e-01, 4.83042138e-01,\n",
       "        9.96893338e-01, 4.83042138e-01],\n",
       "       [1.00000000e+00, 5.00000000e+01, 1.00000000e+00, 4.75847893e-01,\n",
       "        1.00000000e+00, 4.75847893e-01],\n",
       "       [1.00000000e+00, 1.00000000e+02, 1.00000000e+00, 4.75847893e-01,\n",
       "        1.00000000e+00, 4.75847893e-01],\n",
       "       [5.00000000e+00, 1.00000000e-01, 4.17328271e-01, 4.65570401e-01,\n",
       "        4.17328271e-01, 4.65570401e-01],\n",
       "       [5.00000000e+00, 5.00000000e-01, 6.69313082e-01, 4.65570401e-01,\n",
       "        6.69313082e-01, 4.65570401e-01],\n",
       "       [5.00000000e+00, 1.00000000e-01, 4.17328271e-01, 4.65570401e-01,\n",
       "        4.17328271e-01, 4.65570401e-01],\n",
       "       [5.00000000e+00, 5.00000000e-01, 6.69313082e-01, 4.65570401e-01,\n",
       "        6.69313082e-01, 4.65570401e-01],\n",
       "       [5.00000000e+00, 1.00000000e+00, 9.94477045e-01, 4.69681398e-01,\n",
       "        9.94477045e-01, 4.69681398e-01],\n",
       "       [5.00000000e+00, 5.00000000e+00, 9.99654815e-01, 4.68653649e-01,\n",
       "        9.99654815e-01, 4.68653649e-01],\n",
       "       [5.00000000e+00, 1.00000000e+01, 1.00000000e+00, 4.68653649e-01,\n",
       "        1.00000000e+00, 4.68653649e-01],\n",
       "       [5.00000000e+00, 5.00000000e+01, 1.00000000e+00, 4.68653649e-01,\n",
       "        1.00000000e+00, 4.68653649e-01],\n",
       "       [5.00000000e+00, 1.00000000e+02, 1.00000000e+00, 4.68653649e-01,\n",
       "        1.00000000e+00, 4.68653649e-01],\n",
       "       [1.00000000e+01, 1.00000000e-01, 4.17328271e-01, 4.65570401e-01,\n",
       "        4.17328271e-01, 4.65570401e-01],\n",
       "       [1.00000000e+01, 5.00000000e-01, 6.40662755e-01, 4.65570401e-01,\n",
       "        6.40662755e-01, 4.65570401e-01],\n",
       "       [1.00000000e+01, 1.00000000e-01, 4.17328271e-01, 4.65570401e-01,\n",
       "        4.17328271e-01, 4.65570401e-01],\n",
       "       [1.00000000e+01, 5.00000000e-01, 6.40662755e-01, 4.65570401e-01,\n",
       "        6.40662755e-01, 4.65570401e-01],\n",
       "       [1.00000000e+01, 1.00000000e+00, 9.98274077e-01, 4.65570401e-01,\n",
       "        9.98274077e-01, 4.65570401e-01],\n",
       "       [1.00000000e+01, 5.00000000e+00, 1.00000000e+00, 4.65570401e-01,\n",
       "        1.00000000e+00, 4.65570401e-01],\n",
       "       [1.00000000e+01, 1.00000000e+01, 1.00000000e+00, 4.65570401e-01,\n",
       "        1.00000000e+00, 4.65570401e-01],\n",
       "       [1.00000000e+01, 5.00000000e+01, 1.00000000e+00, 4.65570401e-01,\n",
       "        1.00000000e+00, 4.65570401e-01],\n",
       "       [1.00000000e+01, 1.00000000e+02, 1.00000000e+00, 4.65570401e-01,\n",
       "        1.00000000e+00, 4.65570401e-01]])"
      ]
     },
     "execution_count": 27,
     "metadata": {},
     "output_type": "execute_result"
    }
   ],
   "source": [
    "values.reshape((-1,6))"
   ]
  },
  {
   "cell_type": "markdown",
   "metadata": {},
   "source": [
    "Gamma = 0.001 and c = 50 would give us better results. A precision test set score of 5.28 and precision cross validation score of 5.20."
   ]
  },
  {
   "cell_type": "code",
   "execution_count": 28,
   "metadata": {},
   "outputs": [
    {
     "name": "stdout",
     "output_type": "stream",
     "text": [
      "0.5281325509147394 0.5200411099691675\n"
     ]
    }
   ],
   "source": [
    "rbf_kernel_svm_whites = Pipeline([('scaler', StandardScaler()), \n",
    "                               ('svm_clf', SVC(kernel = 'rbf', gamma = 0.001, C = 50))])\n",
    "rbf_kernel_svm_whites.fit(trainX, trainY)\n",
    "\n",
    "train_predict_svm = rbf_kernel_svm_whites.predict(trainX)\n",
    "CV_predict_svm = rbf_kernel_svm_whites.predict(CVX)\n",
    "precision_train = precision_score(trainY, train_predict_svm, average = 'micro')\n",
    "precision_CV = precision_score(CVY, CV_predict_svm, average = 'micro')\n",
    "recall_train = precision_score(trainY, train_predict_svm, average = 'micro')\n",
    "recall_CV = precision_score(CVY, CV_predict_svm, average = 'micro')\n",
    "\n",
    "fScoreTrain = ((2*precision_train*recall_train)/(precision_train+recall_train))\n",
    "fScoreCrossVal = ((2*precision_CV*recall_CV)/(precision_CV+recall_CV))\n",
    "\n",
    "print(fScoreTrain, fScoreCrossVal)"
   ]
  },
  {
   "cell_type": "code",
   "execution_count": 29,
   "metadata": {},
   "outputs": [
    {
     "data": {
      "text/plain": [
       "array([[  0,   0,   1,   4,   0,   0],\n",
       "       [  0,   0,  10,  10,   1,   0],\n",
       "       [  0,   0,  96, 125,   6,   0],\n",
       "       [  0,   0,  78, 355,  20,   0],\n",
       "       [  0,   0,   9, 151,  55,   0],\n",
       "       [  0,   0,   0,  32,  20,   0]], dtype=int64)"
      ]
     },
     "execution_count": 29,
     "metadata": {},
     "output_type": "execute_result"
    }
   ],
   "source": [
    "confusion_matrix(CVY, CV_predict_svm)"
   ]
  },
  {
   "cell_type": "code",
   "execution_count": 42,
   "metadata": {},
   "outputs": [],
   "source": [
    "trainX, trainY, CVX, CVY, testX, testY = makeTrainCrossValTestSet(reds, round(len(reds)*0.6))"
   ]
  },
  {
   "cell_type": "code",
   "execution_count": 44,
   "metadata": {},
   "outputs": [],
   "source": [
    "rbf_kernel_svm_reds = Pipeline([('scaler', StandardScaler()), \n",
    "                               ('svm_clf', SVC(kernel = 'rbf', gamma = 0.5, C = 0.1))])"
   ]
  },
  {
   "cell_type": "code",
   "execution_count": 45,
   "metadata": {},
   "outputs": [
    {
     "name": "stdout",
     "output_type": "stream",
     "text": [
      "0.4702194357366771 0.277602523659306\n"
     ]
    }
   ],
   "source": [
    "rbf_kernel_svm_reds.fit(trainX, trainY)\n",
    "\n",
    "train_predict_svm_reds = rbf_kernel_svm_reds.predict(trainX)\n",
    "CV_predict_svm_reds = rbf_kernel_svm_reds.predict(CVX)\n",
    "precision_train_reds = precision_score(trainY, train_predict_svm_reds, average = 'micro')\n",
    "precision_CV_reds = precision_score(CVY, CV_predict_svm_reds, average = 'micro')\n",
    "\n",
    "print(precision_train_reds, precision_CV_reds)"
   ]
  },
  {
   "cell_type": "markdown",
   "metadata": {},
   "source": [
    "This model looks like it has high variance. Since the F1 score of the cross validation set is much lower than the training set. Let's tune the hyperparameters for the red wine model. "
   ]
  },
  {
   "cell_type": "code",
   "execution_count": 46,
   "metadata": {},
   "outputs": [],
   "source": [
    "g = [0.0001, 0.0005, 0.001, 0.05, 0.01, 0.05, 0.1, 0.5, 1, 5, 10]\n",
    "C_hyper = [0.1, 0.5, 0.1, 0.5, 1, 5, 10, 50, 100]\n",
    "values = np.array([])\n",
    "\n",
    "for i in g:\n",
    "    for e in C_hyper:\n",
    "        rbf_kernel_svm_clf = Pipeline([('scaler', StandardScaler()), \n",
    "                               ('svm_clf', SVC(kernel = 'rbf', gamma = i, C = e, random_state = 2))])\n",
    "        rbf_kernel_svm_clf.fit(trainX, trainY)\n",
    "        train_predict_svm = rbf_kernel_svm_clf.predict(trainX)\n",
    "        CV_predict_svm = rbf_kernel_svm_clf.predict(CVX)\n",
    "        precision_train = precision_score(trainY, train_predict_svm, average = 'micro')\n",
    "        precision_CV = precision_score(CVY, CV_predict_svm, average = 'micro')\n",
    "        recall_train = precision_score(trainY, train_predict_svm, average = 'micro')\n",
    "        recall_CV = precision_score(CVY, CV_predict_svm, average = 'micro')\n",
    "        temp_values = [i, e, precision_train, precision_CV, recall_train, recall_CV]\n",
    "        values = np.append(values, [temp_values])"
   ]
  },
  {
   "cell_type": "code",
   "execution_count": 48,
   "metadata": {},
   "outputs": [
    {
     "data": {
      "text/plain": [
       "array([[1.00000000e-04, 1.00000000e-01, 4.70219436e-01, 2.77602524e-01,\n",
       "        4.70219436e-01, 2.77602524e-01],\n",
       "       [1.00000000e-04, 5.00000000e-01, 4.70219436e-01, 2.77602524e-01,\n",
       "        4.70219436e-01, 2.77602524e-01],\n",
       "       [1.00000000e-04, 1.00000000e-01, 4.70219436e-01, 2.77602524e-01,\n",
       "        4.70219436e-01, 2.77602524e-01],\n",
       "       [1.00000000e-04, 5.00000000e-01, 4.70219436e-01, 2.77602524e-01,\n",
       "        4.70219436e-01, 2.77602524e-01],\n",
       "       [1.00000000e-04, 1.00000000e+00, 4.70219436e-01, 2.77602524e-01,\n",
       "        4.70219436e-01, 2.77602524e-01],\n",
       "       [1.00000000e-04, 5.00000000e+00, 4.73354232e-01, 2.77602524e-01,\n",
       "        4.73354232e-01, 2.77602524e-01],\n",
       "       [1.00000000e-04, 1.00000000e+01, 5.35005225e-01, 4.98422713e-01,\n",
       "        5.35005225e-01, 4.98422713e-01],\n",
       "       [1.00000000e-04, 5.00000000e+01, 5.76802508e-01, 5.67823344e-01,\n",
       "        5.76802508e-01, 5.67823344e-01],\n",
       "       [1.00000000e-04, 1.00000000e+02, 5.82027168e-01, 5.48895899e-01,\n",
       "        5.82027168e-01, 5.48895899e-01],\n",
       "       [5.00000000e-04, 1.00000000e-01, 4.70219436e-01, 2.77602524e-01,\n",
       "        4.70219436e-01, 2.77602524e-01],\n",
       "       [5.00000000e-04, 5.00000000e-01, 4.70219436e-01, 2.77602524e-01,\n",
       "        4.70219436e-01, 2.77602524e-01],\n",
       "       [5.00000000e-04, 1.00000000e-01, 4.70219436e-01, 2.77602524e-01,\n",
       "        4.70219436e-01, 2.77602524e-01],\n",
       "       [5.00000000e-04, 5.00000000e-01, 4.70219436e-01, 2.77602524e-01,\n",
       "        4.70219436e-01, 2.77602524e-01],\n",
       "       [5.00000000e-04, 1.00000000e+00, 4.73354232e-01, 2.77602524e-01,\n",
       "        4.73354232e-01, 2.77602524e-01],\n",
       "       [5.00000000e-04, 5.00000000e+00, 5.64263323e-01, 5.45741325e-01,\n",
       "        5.64263323e-01, 5.45741325e-01],\n",
       "       [5.00000000e-04, 1.00000000e+01, 5.75757576e-01, 5.74132492e-01,\n",
       "        5.75757576e-01, 5.74132492e-01],\n",
       "       [5.00000000e-04, 5.00000000e+01, 5.86206897e-01, 5.77287066e-01,\n",
       "        5.86206897e-01, 5.77287066e-01],\n",
       "       [5.00000000e-04, 1.00000000e+02, 5.92476489e-01, 5.61514196e-01,\n",
       "        5.92476489e-01, 5.61514196e-01],\n",
       "       [1.00000000e-03, 1.00000000e-01, 4.70219436e-01, 2.77602524e-01,\n",
       "        4.70219436e-01, 2.77602524e-01],\n",
       "       [1.00000000e-03, 5.00000000e-01, 4.71264368e-01, 2.77602524e-01,\n",
       "        4.71264368e-01, 2.77602524e-01],\n",
       "       [1.00000000e-03, 1.00000000e-01, 4.70219436e-01, 2.77602524e-01,\n",
       "        4.70219436e-01, 2.77602524e-01],\n",
       "       [1.00000000e-03, 5.00000000e-01, 4.71264368e-01, 2.77602524e-01,\n",
       "        4.71264368e-01, 2.77602524e-01],\n",
       "       [1.00000000e-03, 1.00000000e+00, 5.31870428e-01, 4.95268139e-01,\n",
       "        5.31870428e-01, 4.95268139e-01],\n",
       "       [1.00000000e-03, 5.00000000e+00, 5.75757576e-01, 5.74132492e-01,\n",
       "        5.75757576e-01, 5.74132492e-01],\n",
       "       [1.00000000e-03, 1.00000000e+01, 5.85161964e-01, 5.55205047e-01,\n",
       "        5.85161964e-01, 5.55205047e-01],\n",
       "       [1.00000000e-03, 5.00000000e+01, 5.97701149e-01, 5.80441640e-01,\n",
       "        5.97701149e-01, 5.80441640e-01],\n",
       "       [1.00000000e-03, 1.00000000e+02, 6.12330199e-01, 5.83596215e-01,\n",
       "        6.12330199e-01, 5.83596215e-01],\n",
       "       [5.00000000e-02, 1.00000000e-01, 5.83072100e-01, 5.64668770e-01,\n",
       "        5.83072100e-01, 5.64668770e-01],\n",
       "       [5.00000000e-02, 5.00000000e-01, 6.40543365e-01, 5.64668770e-01,\n",
       "        6.40543365e-01, 5.64668770e-01],\n",
       "       [5.00000000e-02, 1.00000000e-01, 5.83072100e-01, 5.64668770e-01,\n",
       "        5.83072100e-01, 5.64668770e-01],\n",
       "       [5.00000000e-02, 5.00000000e-01, 6.40543365e-01, 5.64668770e-01,\n",
       "        6.40543365e-01, 5.64668770e-01],\n",
       "       [5.00000000e-02, 1.00000000e+00, 6.61442006e-01, 5.80441640e-01,\n",
       "        6.61442006e-01, 5.80441640e-01],\n",
       "       [5.00000000e-02, 5.00000000e+00, 7.19958203e-01, 5.67823344e-01,\n",
       "        7.19958203e-01, 5.67823344e-01],\n",
       "       [5.00000000e-02, 1.00000000e+01, 7.43991641e-01, 5.70977918e-01,\n",
       "        7.43991641e-01, 5.70977918e-01],\n",
       "       [5.00000000e-02, 5.00000000e+01, 8.41170324e-01, 4.88958991e-01,\n",
       "        8.41170324e-01, 4.88958991e-01],\n",
       "       [5.00000000e-02, 1.00000000e+02, 8.85057471e-01, 4.76340694e-01,\n",
       "        8.85057471e-01, 4.76340694e-01],\n",
       "       [1.00000000e-02, 1.00000000e-01, 5.25600836e-01, 4.29022082e-01,\n",
       "        5.25600836e-01, 4.29022082e-01],\n",
       "       [1.00000000e-02, 5.00000000e-01, 5.83072100e-01, 5.58359621e-01,\n",
       "        5.83072100e-01, 5.58359621e-01],\n",
       "       [1.00000000e-02, 1.00000000e-01, 5.25600836e-01, 4.29022082e-01,\n",
       "        5.25600836e-01, 4.29022082e-01],\n",
       "       [1.00000000e-02, 5.00000000e-01, 5.83072100e-01, 5.58359621e-01,\n",
       "        5.83072100e-01, 5.58359621e-01],\n",
       "       [1.00000000e-02, 1.00000000e+00, 5.93521421e-01, 5.55205047e-01,\n",
       "        5.93521421e-01, 5.55205047e-01],\n",
       "       [1.00000000e-02, 5.00000000e+00, 6.22779519e-01, 6.02523659e-01,\n",
       "        6.22779519e-01, 6.02523659e-01],\n",
       "       [1.00000000e-02, 1.00000000e+01, 6.35318704e-01, 5.99369085e-01,\n",
       "        6.35318704e-01, 5.99369085e-01],\n",
       "       [1.00000000e-02, 5.00000000e+01, 6.86520376e-01, 5.80441640e-01,\n",
       "        6.86520376e-01, 5.80441640e-01],\n",
       "       [1.00000000e-02, 1.00000000e+02, 7.02194357e-01, 5.67823344e-01,\n",
       "        7.02194357e-01, 5.67823344e-01],\n",
       "       [5.00000000e-02, 1.00000000e-01, 5.83072100e-01, 5.64668770e-01,\n",
       "        5.83072100e-01, 5.64668770e-01],\n",
       "       [5.00000000e-02, 5.00000000e-01, 6.40543365e-01, 5.64668770e-01,\n",
       "        6.40543365e-01, 5.64668770e-01],\n",
       "       [5.00000000e-02, 1.00000000e-01, 5.83072100e-01, 5.64668770e-01,\n",
       "        5.83072100e-01, 5.64668770e-01],\n",
       "       [5.00000000e-02, 5.00000000e-01, 6.40543365e-01, 5.64668770e-01,\n",
       "        6.40543365e-01, 5.64668770e-01],\n",
       "       [5.00000000e-02, 1.00000000e+00, 6.61442006e-01, 5.80441640e-01,\n",
       "        6.61442006e-01, 5.80441640e-01],\n",
       "       [5.00000000e-02, 5.00000000e+00, 7.19958203e-01, 5.67823344e-01,\n",
       "        7.19958203e-01, 5.67823344e-01],\n",
       "       [5.00000000e-02, 1.00000000e+01, 7.43991641e-01, 5.70977918e-01,\n",
       "        7.43991641e-01, 5.70977918e-01],\n",
       "       [5.00000000e-02, 5.00000000e+01, 8.41170324e-01, 4.88958991e-01,\n",
       "        8.41170324e-01, 4.88958991e-01],\n",
       "       [5.00000000e-02, 1.00000000e+02, 8.85057471e-01, 4.76340694e-01,\n",
       "        8.85057471e-01, 4.76340694e-01],\n",
       "       [1.00000000e-01, 1.00000000e-01, 6.00835946e-01, 5.26813880e-01,\n",
       "        6.00835946e-01, 5.26813880e-01],\n",
       "       [1.00000000e-01, 5.00000000e-01, 6.68756531e-01, 5.74132492e-01,\n",
       "        6.68756531e-01, 5.74132492e-01],\n",
       "       [1.00000000e-01, 1.00000000e-01, 6.00835946e-01, 5.26813880e-01,\n",
       "        6.00835946e-01, 5.26813880e-01],\n",
       "       [1.00000000e-01, 5.00000000e-01, 6.68756531e-01, 5.74132492e-01,\n",
       "        6.68756531e-01, 5.74132492e-01],\n",
       "       [1.00000000e-01, 1.00000000e+00, 7.01149425e-01, 5.89905363e-01,\n",
       "        7.01149425e-01, 5.89905363e-01],\n",
       "       [1.00000000e-01, 5.00000000e+00, 8.02507837e-01, 5.39432177e-01,\n",
       "        8.02507837e-01, 5.39432177e-01],\n",
       "       [1.00000000e-01, 1.00000000e+01, 8.46394984e-01, 5.23659306e-01,\n",
       "        8.46394984e-01, 5.23659306e-01],\n",
       "       [1.00000000e-01, 5.00000000e+01, 9.27899687e-01, 4.85804416e-01,\n",
       "        9.27899687e-01, 4.85804416e-01],\n",
       "       [1.00000000e-01, 1.00000000e+02, 9.50888192e-01, 4.57413249e-01,\n",
       "        9.50888192e-01, 4.57413249e-01],\n",
       "       [5.00000000e-01, 1.00000000e-01, 4.70219436e-01, 2.77602524e-01,\n",
       "        4.70219436e-01, 2.77602524e-01],\n",
       "       [5.00000000e-01, 5.00000000e-01, 7.80564263e-01, 5.07886435e-01,\n",
       "        7.80564263e-01, 5.07886435e-01],\n",
       "       [5.00000000e-01, 1.00000000e-01, 4.70219436e-01, 2.77602524e-01,\n",
       "        4.70219436e-01, 2.77602524e-01],\n",
       "       [5.00000000e-01, 5.00000000e-01, 7.80564263e-01, 5.07886435e-01,\n",
       "        7.80564263e-01, 5.07886435e-01],\n",
       "       [5.00000000e-01, 1.00000000e+00, 8.68338558e-01, 5.42586751e-01,\n",
       "        8.68338558e-01, 5.42586751e-01],\n",
       "       [5.00000000e-01, 5.00000000e+00, 9.74921630e-01, 4.98422713e-01,\n",
       "        9.74921630e-01, 4.98422713e-01],\n",
       "       [5.00000000e-01, 1.00000000e+01, 9.88505747e-01, 4.76340694e-01,\n",
       "        9.88505747e-01, 4.76340694e-01],\n",
       "       [5.00000000e-01, 5.00000000e+01, 9.98955068e-01, 4.70031546e-01,\n",
       "        9.98955068e-01, 4.70031546e-01],\n",
       "       [5.00000000e-01, 1.00000000e+02, 1.00000000e+00, 4.63722397e-01,\n",
       "        1.00000000e+00, 4.63722397e-01],\n",
       "       [1.00000000e+00, 1.00000000e-01, 4.70219436e-01, 2.77602524e-01,\n",
       "        4.70219436e-01, 2.77602524e-01],\n",
       "       [1.00000000e+00, 5.00000000e-01, 8.36990596e-01, 3.97476341e-01,\n",
       "        8.36990596e-01, 3.97476341e-01],\n",
       "       [1.00000000e+00, 1.00000000e-01, 4.70219436e-01, 2.77602524e-01,\n",
       "        4.70219436e-01, 2.77602524e-01],\n",
       "       [1.00000000e+00, 5.00000000e-01, 8.36990596e-01, 3.97476341e-01,\n",
       "        8.36990596e-01, 3.97476341e-01],\n",
       "       [1.00000000e+00, 1.00000000e+00, 9.45663532e-01, 4.73186120e-01,\n",
       "        9.45663532e-01, 4.73186120e-01],\n",
       "       [1.00000000e+00, 5.00000000e+00, 9.91640543e-01, 4.38485804e-01,\n",
       "        9.91640543e-01, 4.38485804e-01],\n",
       "       [1.00000000e+00, 1.00000000e+01, 9.98955068e-01, 4.51104101e-01,\n",
       "        9.98955068e-01, 4.51104101e-01],\n",
       "       [1.00000000e+00, 5.00000000e+01, 1.00000000e+00, 4.44794953e-01,\n",
       "        1.00000000e+00, 4.44794953e-01],\n",
       "       [1.00000000e+00, 1.00000000e+02, 1.00000000e+00, 4.44794953e-01,\n",
       "        1.00000000e+00, 4.44794953e-01],\n",
       "       [5.00000000e+00, 1.00000000e-01, 4.70219436e-01, 2.77602524e-01,\n",
       "        4.70219436e-01, 2.77602524e-01],\n",
       "       [5.00000000e+00, 5.00000000e-01, 6.60397074e-01, 2.77602524e-01,\n",
       "        6.60397074e-01, 2.77602524e-01],\n",
       "       [5.00000000e+00, 1.00000000e-01, 4.70219436e-01, 2.77602524e-01,\n",
       "        4.70219436e-01, 2.77602524e-01],\n",
       "       [5.00000000e+00, 5.00000000e-01, 6.60397074e-01, 2.77602524e-01,\n",
       "        6.60397074e-01, 2.77602524e-01],\n",
       "       [5.00000000e+00, 1.00000000e+00, 9.95820272e-01, 3.02839117e-01,\n",
       "        9.95820272e-01, 3.02839117e-01],\n",
       "       [5.00000000e+00, 5.00000000e+00, 1.00000000e+00, 3.02839117e-01,\n",
       "        1.00000000e+00, 3.02839117e-01],\n",
       "       [5.00000000e+00, 1.00000000e+01, 1.00000000e+00, 3.02839117e-01,\n",
       "        1.00000000e+00, 3.02839117e-01],\n",
       "       [5.00000000e+00, 5.00000000e+01, 1.00000000e+00, 3.02839117e-01,\n",
       "        1.00000000e+00, 3.02839117e-01],\n",
       "       [5.00000000e+00, 1.00000000e+02, 1.00000000e+00, 3.02839117e-01,\n",
       "        1.00000000e+00, 3.02839117e-01],\n",
       "       [1.00000000e+01, 1.00000000e-01, 4.70219436e-01, 2.77602524e-01,\n",
       "        4.70219436e-01, 2.77602524e-01],\n",
       "       [1.00000000e+01, 5.00000000e-01, 6.44723093e-01, 2.77602524e-01,\n",
       "        6.44723093e-01, 2.77602524e-01],\n",
       "       [1.00000000e+01, 1.00000000e-01, 4.70219436e-01, 2.77602524e-01,\n",
       "        4.70219436e-01, 2.77602524e-01],\n",
       "       [1.00000000e+01, 5.00000000e-01, 6.44723093e-01, 2.77602524e-01,\n",
       "        6.44723093e-01, 2.77602524e-01],\n",
       "       [1.00000000e+01, 1.00000000e+00, 9.98955068e-01, 2.77602524e-01,\n",
       "        9.98955068e-01, 2.77602524e-01],\n",
       "       [1.00000000e+01, 5.00000000e+00, 1.00000000e+00, 2.90220820e-01,\n",
       "        1.00000000e+00, 2.90220820e-01],\n",
       "       [1.00000000e+01, 1.00000000e+01, 1.00000000e+00, 2.90220820e-01,\n",
       "        1.00000000e+00, 2.90220820e-01],\n",
       "       [1.00000000e+01, 5.00000000e+01, 1.00000000e+00, 2.90220820e-01,\n",
       "        1.00000000e+00, 2.90220820e-01],\n",
       "       [1.00000000e+01, 1.00000000e+02, 1.00000000e+00, 2.90220820e-01,\n",
       "        1.00000000e+00, 2.90220820e-01]])"
      ]
     },
     "execution_count": 48,
     "metadata": {},
     "output_type": "execute_result"
    }
   ],
   "source": [
    "values.reshape(-1, 6)"
   ]
  },
  {
   "cell_type": "markdown",
   "metadata": {},
   "source": [
    "gamma = 0.01 and c= 5 gives a training set f1 score of 0.62 and cross validation score of 0.60. This model for reds performs better than the combined model!"
   ]
  },
  {
   "cell_type": "markdown",
   "metadata": {},
   "source": [
    "## Summary <a class=\"anchor\" id=\"seventh-bullet\"></a>"
   ]
  },
  {
   "cell_type": "markdown",
   "metadata": {},
   "source": [
    "We explored both logistic regression and support vector machine models for predicting quality of vinho verde wines.\n",
    "\n",
    "First, we fit the data to a logistic regression model. The advantage of this model is there are no hyperparameters simplifying the inputs. We did explore changing the threshold values and how this would affect precision recall. With multiclass classificiation this is more complicated but could help fine tune the model.\n",
    "\n",
    "We also explored using an SVM model. After tuning the hyperparameters we settled on two models. One had higher bias, wheras another had high variance. The latter would suit the data better if we were able to go out and collect more data. While the cross validation F1 score is lowest of all the models here, with more data it could achieve up to 0.70 based on the training set size (evidenced by the learning curve). Lastly, we split the data into red and white wines and trained/fitted them separately. The red wine model gave us a higher cross validation F1 score than the combined SVM model, whereas the white wine model gave a lower F1 score than both the red and combined SVM models.\n",
    "\n",
    "A summary of these models is shown in the table below:\n",
    "\n",
    "|Logistic regression/SVM | Descripter | F1 Score cross val set |\n",
    "| --- | --- | --- |\n",
    "| Logistic Regression | -- | 0.53 |\n",
    "| SVM | high bias | 0.55 |\n",
    "| SVM | high variance | 0.48 |\n",
    "| SVM | white | 0.52 |\n",
    "| SVM | reds | 0.60 |\n",
    "\n",
    "The logistic regression model performs silimarly to the SVM model without having to spend time tuning the hyperparameters. I would probably pursue the logistic regression model route. However, if we could get more data I would likely choose the high variance SVM model."
   ]
  },
  {
   "cell_type": "markdown",
   "metadata": {},
   "source": [
    "Dataset: https://archive.ics.uci.edu/ml/datasets/wine+quality\n",
    "\n",
    "Source: A. Cerdeira, F. Almeida, T. Matos and J. Reis, Viticulture Commission of the Vinho Verde Region(CVRVV), Porto, Portugal\n",
    "@2009"
   ]
  }
 ],
 "metadata": {
  "kernelspec": {
   "display_name": "Python 3.8.3 32-bit",
   "language": "python",
   "name": "python38332bit34a52a6bc7f44ac1b0498f44c0e74f26"
  },
  "language_info": {
   "codemirror_mode": {
    "name": "ipython",
    "version": 3
   },
   "file_extension": ".py",
   "mimetype": "text/x-python",
   "name": "python",
   "nbconvert_exporter": "python",
   "pygments_lexer": "ipython3",
   "version": "3.8.3"
  }
 },
 "nbformat": 4,
 "nbformat_minor": 2
}
